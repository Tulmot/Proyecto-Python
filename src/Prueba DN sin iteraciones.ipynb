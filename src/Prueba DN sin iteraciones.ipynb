{
 "cells": [
  {
   "cell_type": "code",
   "execution_count": 32,
   "metadata": {
    "collapsed": false
   },
   "outputs": [
    {
     "ename": "ImportError",
     "evalue": "cannot import name 'BaseDisturbingNeighbors'",
     "output_type": "error",
     "traceback": [
      "\u001b[0;31m---------------------------------------------------------------------------\u001b[0m",
      "\u001b[0;31mImportError\u001b[0m                               Traceback (most recent call last)",
      "\u001b[0;32m<ipython-input-32-d20ff7610ae8>\u001b[0m in \u001b[0;36m<module>\u001b[0;34m()\u001b[0m\n\u001b[1;32m      1\u001b[0m \u001b[1;32mfrom\u001b[0m \u001b[0msklearn_ubu\u001b[0m\u001b[1;33m.\u001b[0m\u001b[0mdisturbing_neighbors\u001b[0m \u001b[1;32mimport\u001b[0m \u001b[0mDisturbingNeighbors\u001b[0m\u001b[1;33m\u001b[0m\u001b[0m\n\u001b[0;32m----> 2\u001b[0;31m \u001b[1;32mfrom\u001b[0m \u001b[0msklearn_ubu\u001b[0m\u001b[1;33m.\u001b[0m\u001b[0mdisturbing_neighbors\u001b[0m \u001b[1;32mimport\u001b[0m \u001b[0mBaseDisturbingNeighbors\u001b[0m\u001b[1;33m\u001b[0m\u001b[0m\n\u001b[0m\u001b[1;32m      3\u001b[0m \u001b[1;32mfrom\u001b[0m \u001b[0msklearn\u001b[0m\u001b[1;33m.\u001b[0m\u001b[0mdatasets\u001b[0m \u001b[1;32mimport\u001b[0m \u001b[0mmake_multilabel_classification\u001b[0m\u001b[1;33m\u001b[0m\u001b[0m\n\u001b[1;32m      4\u001b[0m \u001b[1;32mfrom\u001b[0m \u001b[0msklearn\u001b[0m\u001b[1;33m.\u001b[0m\u001b[0mmetrics\u001b[0m \u001b[1;32mimport\u001b[0m \u001b[0mhamming_loss\u001b[0m\u001b[1;33m\u001b[0m\u001b[0m\n\u001b[1;32m      5\u001b[0m \u001b[1;32mfrom\u001b[0m \u001b[0msklearn\u001b[0m\u001b[1;33m.\u001b[0m\u001b[0mmodel_selection\u001b[0m \u001b[1;32mimport\u001b[0m \u001b[0mtrain_test_split\u001b[0m\u001b[1;33m\u001b[0m\u001b[0m\n",
      "\u001b[0;31mImportError\u001b[0m: cannot import name 'BaseDisturbingNeighbors'"
     ]
    }
   ],
   "source": [
    "from sklearn_ubu.disturbing_neighbors import DisturbingNeighbors\n",
    "from sklearn_ubu.disturbing_neighbors import BaseDisturbingNeighbors\n",
    "from sklearn.datasets import make_multilabel_classification\n",
    "from sklearn.metrics import hamming_loss\n",
    "from sklearn.model_selection import train_test_split\n",
    "import numpy as np\n",
    "from sklearn.tree import export_graphviz\n",
    "from sklearn.tree import DecisionTreeClassifier\n",
    "import graphviz\n",
    "\n",
    "from sklearn.ensemble.bagging import BaggingClassifier\n",
    "from sklearn.multiclass import OneVsRestClassifier\n",
    "#from sklearn.neural_network import MLPClassifier\n",
    "from sklearn.model_selection import cross_val_score"
   ]
  },
  {
   "cell_type": "code",
   "execution_count": 33,
   "metadata": {
    "collapsed": false
   },
   "outputs": [
    {
     "ename": "NameError",
     "evalue": "name 'BaseDisturbingNeighbors' is not defined",
     "output_type": "error",
     "traceback": [
      "\u001b[0;31m---------------------------------------------------------------------------\u001b[0m",
      "\u001b[0;31mNameError\u001b[0m                                 Traceback (most recent call last)",
      "\u001b[0;32m<ipython-input-33-c9023a0eb9e7>\u001b[0m in \u001b[0;36m<module>\u001b[0;34m()\u001b[0m\n\u001b[1;32m      2\u001b[0m \u001b[1;33m\u001b[0m\u001b[0m\n\u001b[1;32m      3\u001b[0m \u001b[0mX\u001b[0m\u001b[1;33m,\u001b[0m\u001b[0my\u001b[0m\u001b[1;33m=\u001b[0m\u001b[0mmake_multilabel_classification\u001b[0m\u001b[1;33m(\u001b[0m\u001b[0mn_samples\u001b[0m\u001b[1;33m=\u001b[0m\u001b[1;36m60\u001b[0m\u001b[1;33m,\u001b[0m \u001b[0mn_features\u001b[0m\u001b[1;33m=\u001b[0m\u001b[1;36m10\u001b[0m\u001b[1;33m,\u001b[0m \u001b[0mrandom_state\u001b[0m\u001b[1;33m=\u001b[0m\u001b[0mseed\u001b[0m\u001b[1;33m)\u001b[0m\u001b[1;33m\u001b[0m\u001b[0m\n\u001b[0;32m----> 4\u001b[0;31m \u001b[0mdn\u001b[0m\u001b[1;33m=\u001b[0m\u001b[0mBaseDisturbingNeighbors\u001b[0m\u001b[1;33m(\u001b[0m\u001b[0mbase_estimator\u001b[0m\u001b[1;33m=\u001b[0m\u001b[0mDecisionTreeClassifier\u001b[0m\u001b[1;33m(\u001b[0m\u001b[0mmax_depth\u001b[0m\u001b[1;33m=\u001b[0m\u001b[1;36m3\u001b[0m\u001b[1;33m)\u001b[0m\u001b[1;33m,\u001b[0m\u001b[0mrandom_state\u001b[0m\u001b[1;33m=\u001b[0m\u001b[0mseed\u001b[0m\u001b[1;33m)\u001b[0m\u001b[1;33m\u001b[0m\u001b[0m\n\u001b[0m\u001b[1;32m      5\u001b[0m X_train, X_test, y_train, y_test = train_test_split(X, y, test_size=0.5, train_size=0.5, \n\u001b[1;32m      6\u001b[0m                                                     random_state=seed)\n",
      "\u001b[0;31mNameError\u001b[0m: name 'BaseDisturbingNeighbors' is not defined"
     ]
    }
   ],
   "source": [
    "seed = 1\n",
    "\n",
    "X,y=make_multilabel_classification(n_samples=60, n_features=10, random_state=seed) \n",
    "\n",
    "dn=BaseDisturbingNeighbors(base_estimator=DecisionTreeClassifier(max_depth=3),random_state=seed)\n",
    "\n",
    "X_train, X_test, y_train, y_test = train_test_split(X, y, test_size=0.5, train_size=0.5, \n",
    "                                                    random_state=seed)"
   ]
  },
  {
   "cell_type": "code",
   "execution_count": 4,
   "metadata": {
    "collapsed": false
   },
   "outputs": [
    {
     "name": "stdout",
     "output_type": "stream",
     "text": [
      "0.225\n"
     ]
    },
    {
     "name": "stderr",
     "output_type": "stream",
     "text": [
      "C:\\Users\\Tubi\\Anaconda3\\lib\\site-packages\\numpy\\matrixlib\\defmatrix.py:318: VisibleDeprecationWarning: boolean index did not match indexed array along dimension 1; dimension is 10 but corresponding boolean dimension is 5\n",
      "  out = N.ndarray.__getitem__(self, index)\n"
     ]
    }
   ],
   "source": [
    "arbol=dn.fit(X_train,y_train)\n",
    "\n",
    "y_predict=dn.predict(X_test)\n",
    "\n",
    "y_predict_proba=dn.predict_proba(X_test)\n",
    "\n",
    "dist=hamming_loss(y_test, y_predict)\n",
    "print(dist) \n"
   ]
  },
  {
   "cell_type": "code",
   "execution_count": 5,
   "metadata": {
    "collapsed": false
   },
   "outputs": [
    {
     "data": {
      "image/svg+xml": [
       "<?xml version=\"1.0\" encoding=\"UTF-8\" standalone=\"no\"?>\r\n",
       "<!DOCTYPE svg PUBLIC \"-//W3C//DTD SVG 1.1//EN\"\r\n",
       " \"http://www.w3.org/Graphics/SVG/1.1/DTD/svg11.dtd\">\r\n",
       "<!-- Generated by graphviz version 2.38.0 (20140413.2041)\r\n",
       " -->\r\n",
       "<!-- Title: Tree Pages: 1 -->\r\n",
       "<svg width=\"668pt\" height=\"613pt\"\r\n",
       " viewBox=\"0.00 0.00 668.00 613.00\" xmlns=\"http://www.w3.org/2000/svg\" xmlns:xlink=\"http://www.w3.org/1999/xlink\">\r\n",
       "<g id=\"graph0\" class=\"graph\" transform=\"scale(1 1) rotate(0) translate(4 609)\">\r\n",
       "<title>Tree</title>\r\n",
       "<polygon fill=\"white\" stroke=\"none\" points=\"-4,4 -4,-609 664,-609 664,4 -4,4\"/>\r\n",
       "<!-- 0 -->\r\n",
       "<g id=\"node1\" class=\"node\"><title>0</title>\r\n",
       "<polygon fill=\"none\" stroke=\"black\" points=\"380.5,-605 278.5,-605 278.5,-477 380.5,-477 380.5,-605\"/>\r\n",
       "<text text-anchor=\"middle\" x=\"329.5\" y=\"-589.8\" font-family=\"Times New Roman,serif\" font-size=\"14.00\">X[2] &lt;= 3.5</text>\r\n",
       "<text text-anchor=\"middle\" x=\"329.5\" y=\"-574.8\" font-family=\"Times New Roman,serif\" font-size=\"14.00\">gini = 0.4094</text>\r\n",
       "<text text-anchor=\"middle\" x=\"329.5\" y=\"-559.8\" font-family=\"Times New Roman,serif\" font-size=\"14.00\">samples = 16</text>\r\n",
       "<text text-anchor=\"middle\" x=\"329.5\" y=\"-544.8\" font-family=\"Times New Roman,serif\" font-size=\"14.00\">value = [[10, 6]</text>\r\n",
       "<text text-anchor=\"middle\" x=\"329.5\" y=\"-529.8\" font-family=\"Times New Roman,serif\" font-size=\"14.00\">[8, 8]</text>\r\n",
       "<text text-anchor=\"middle\" x=\"329.5\" y=\"-514.8\" font-family=\"Times New Roman,serif\" font-size=\"14.00\">[10, 6]</text>\r\n",
       "<text text-anchor=\"middle\" x=\"329.5\" y=\"-499.8\" font-family=\"Times New Roman,serif\" font-size=\"14.00\">[13, 3]</text>\r\n",
       "<text text-anchor=\"middle\" x=\"329.5\" y=\"-484.8\" font-family=\"Times New Roman,serif\" font-size=\"14.00\">[13, 3]]</text>\r\n",
       "</g>\r\n",
       "<!-- 1 -->\r\n",
       "<g id=\"node2\" class=\"node\"><title>1</title>\r\n",
       "<polygon fill=\"none\" stroke=\"black\" points=\"321,-441 226,-441 226,-313 321,-313 321,-441\"/>\r\n",
       "<text text-anchor=\"middle\" x=\"273.5\" y=\"-425.8\" font-family=\"Times New Roman,serif\" font-size=\"14.00\">X[5] &lt;= 8.5</text>\r\n",
       "<text text-anchor=\"middle\" x=\"273.5\" y=\"-410.8\" font-family=\"Times New Roman,serif\" font-size=\"14.00\">gini = 0.1796</text>\r\n",
       "<text text-anchor=\"middle\" x=\"273.5\" y=\"-395.8\" font-family=\"Times New Roman,serif\" font-size=\"14.00\">samples = 7</text>\r\n",
       "<text text-anchor=\"middle\" x=\"273.5\" y=\"-380.8\" font-family=\"Times New Roman,serif\" font-size=\"14.00\">value = [[2, 5]</text>\r\n",
       "<text text-anchor=\"middle\" x=\"273.5\" y=\"-365.8\" font-family=\"Times New Roman,serif\" font-size=\"14.00\">[1, 6]</text>\r\n",
       "<text text-anchor=\"middle\" x=\"273.5\" y=\"-350.8\" font-family=\"Times New Roman,serif\" font-size=\"14.00\">[7, 0]</text>\r\n",
       "<text text-anchor=\"middle\" x=\"273.5\" y=\"-335.8\" font-family=\"Times New Roman,serif\" font-size=\"14.00\">[6, 1]</text>\r\n",
       "<text text-anchor=\"middle\" x=\"273.5\" y=\"-320.8\" font-family=\"Times New Roman,serif\" font-size=\"14.00\">[7, 0]]</text>\r\n",
       "</g>\r\n",
       "<!-- 0&#45;&gt;1 -->\r\n",
       "<g id=\"edge1\" class=\"edge\"><title>0&#45;&gt;1</title>\r\n",
       "<path fill=\"none\" stroke=\"black\" d=\"M307.689,-476.903C304.743,-468.382 301.702,-459.584 298.703,-450.91\"/>\r\n",
       "<polygon fill=\"black\" stroke=\"black\" points=\"301.919,-449.499 295.344,-441.192 295.303,-451.786 301.919,-449.499\"/>\r\n",
       "<text text-anchor=\"middle\" x=\"284.412\" y=\"-459.975\" font-family=\"Times New Roman,serif\" font-size=\"14.00\">True</text>\r\n",
       "</g>\r\n",
       "<!-- 6 -->\r\n",
       "<g id=\"node7\" class=\"node\"><title>6</title>\r\n",
       "<polygon fill=\"none\" stroke=\"black\" points=\"434,-441 339,-441 339,-313 434,-313 434,-441\"/>\r\n",
       "<text text-anchor=\"middle\" x=\"386.5\" y=\"-425.8\" font-family=\"Times New Roman,serif\" font-size=\"14.00\">X[6] &lt;= 8.5</text>\r\n",
       "<text text-anchor=\"middle\" x=\"386.5\" y=\"-410.8\" font-family=\"Times New Roman,serif\" font-size=\"14.00\">gini = 0.3556</text>\r\n",
       "<text text-anchor=\"middle\" x=\"386.5\" y=\"-395.8\" font-family=\"Times New Roman,serif\" font-size=\"14.00\">samples = 9</text>\r\n",
       "<text text-anchor=\"middle\" x=\"386.5\" y=\"-380.8\" font-family=\"Times New Roman,serif\" font-size=\"14.00\">value = [[8, 1]</text>\r\n",
       "<text text-anchor=\"middle\" x=\"386.5\" y=\"-365.8\" font-family=\"Times New Roman,serif\" font-size=\"14.00\">[7, 2]</text>\r\n",
       "<text text-anchor=\"middle\" x=\"386.5\" y=\"-350.8\" font-family=\"Times New Roman,serif\" font-size=\"14.00\">[3, 6]</text>\r\n",
       "<text text-anchor=\"middle\" x=\"386.5\" y=\"-335.8\" font-family=\"Times New Roman,serif\" font-size=\"14.00\">[7, 2]</text>\r\n",
       "<text text-anchor=\"middle\" x=\"386.5\" y=\"-320.8\" font-family=\"Times New Roman,serif\" font-size=\"14.00\">[6, 3]]</text>\r\n",
       "</g>\r\n",
       "<!-- 0&#45;&gt;6 -->\r\n",
       "<g id=\"edge6\" class=\"edge\"><title>0&#45;&gt;6</title>\r\n",
       "<path fill=\"none\" stroke=\"black\" d=\"M351.701,-476.903C354.731,-468.291 357.861,-459.394 360.945,-450.63\"/>\r\n",
       "<polygon fill=\"black\" stroke=\"black\" points=\"364.248,-451.786 364.266,-441.192 357.645,-449.463 364.248,-451.786\"/>\r\n",
       "<text text-anchor=\"middle\" x=\"375.074\" y=\"-460.034\" font-family=\"Times New Roman,serif\" font-size=\"14.00\">False</text>\r\n",
       "</g>\r\n",
       "<!-- 2 -->\r\n",
       "<g id=\"node3\" class=\"node\"><title>2</title>\r\n",
       "<polygon fill=\"none\" stroke=\"black\" points=\"208,-277 113,-277 113,-149 208,-149 208,-277\"/>\r\n",
       "<text text-anchor=\"middle\" x=\"160.5\" y=\"-261.8\" font-family=\"Times New Roman,serif\" font-size=\"14.00\">X[16] &lt;= 0.5</text>\r\n",
       "<text text-anchor=\"middle\" x=\"160.5\" y=\"-246.8\" font-family=\"Times New Roman,serif\" font-size=\"14.00\">gini = 0.128</text>\r\n",
       "<text text-anchor=\"middle\" x=\"160.5\" y=\"-231.8\" font-family=\"Times New Roman,serif\" font-size=\"14.00\">samples = 5</text>\r\n",
       "<text text-anchor=\"middle\" x=\"160.5\" y=\"-216.8\" font-family=\"Times New Roman,serif\" font-size=\"14.00\">value = [[0, 5]</text>\r\n",
       "<text text-anchor=\"middle\" x=\"160.5\" y=\"-201.8\" font-family=\"Times New Roman,serif\" font-size=\"14.00\">[1, 4]</text>\r\n",
       "<text text-anchor=\"middle\" x=\"160.5\" y=\"-186.8\" font-family=\"Times New Roman,serif\" font-size=\"14.00\">[5, 0]</text>\r\n",
       "<text text-anchor=\"middle\" x=\"160.5\" y=\"-171.8\" font-family=\"Times New Roman,serif\" font-size=\"14.00\">[4, 1]</text>\r\n",
       "<text text-anchor=\"middle\" x=\"160.5\" y=\"-156.8\" font-family=\"Times New Roman,serif\" font-size=\"14.00\">[5, 0]]</text>\r\n",
       "</g>\r\n",
       "<!-- 1&#45;&gt;2 -->\r\n",
       "<g id=\"edge2\" class=\"edge\"><title>1&#45;&gt;2</title>\r\n",
       "<path fill=\"none\" stroke=\"black\" d=\"M229.488,-312.903C223.225,-303.924 216.747,-294.637 210.382,-285.512\"/>\r\n",
       "<polygon fill=\"black\" stroke=\"black\" points=\"213.17,-283.391 204.578,-277.192 207.429,-287.396 213.17,-283.391\"/>\r\n",
       "</g>\r\n",
       "<!-- 5 -->\r\n",
       "<g id=\"node6\" class=\"node\"><title>5</title>\r\n",
       "<polygon fill=\"none\" stroke=\"black\" points=\"321,-269.5 226,-269.5 226,-156.5 321,-156.5 321,-269.5\"/>\r\n",
       "<text text-anchor=\"middle\" x=\"273.5\" y=\"-254.3\" font-family=\"Times New Roman,serif\" font-size=\"14.00\">gini = 0.0</text>\r\n",
       "<text text-anchor=\"middle\" x=\"273.5\" y=\"-239.3\" font-family=\"Times New Roman,serif\" font-size=\"14.00\">samples = 2</text>\r\n",
       "<text text-anchor=\"middle\" x=\"273.5\" y=\"-224.3\" font-family=\"Times New Roman,serif\" font-size=\"14.00\">value = [[2, 0]</text>\r\n",
       "<text text-anchor=\"middle\" x=\"273.5\" y=\"-209.3\" font-family=\"Times New Roman,serif\" font-size=\"14.00\">[0, 2]</text>\r\n",
       "<text text-anchor=\"middle\" x=\"273.5\" y=\"-194.3\" font-family=\"Times New Roman,serif\" font-size=\"14.00\">[2, 0]</text>\r\n",
       "<text text-anchor=\"middle\" x=\"273.5\" y=\"-179.3\" font-family=\"Times New Roman,serif\" font-size=\"14.00\">[2, 0]</text>\r\n",
       "<text text-anchor=\"middle\" x=\"273.5\" y=\"-164.3\" font-family=\"Times New Roman,serif\" font-size=\"14.00\">[2, 0]]</text>\r\n",
       "</g>\r\n",
       "<!-- 1&#45;&gt;5 -->\r\n",
       "<g id=\"edge5\" class=\"edge\"><title>1&#45;&gt;5</title>\r\n",
       "<path fill=\"none\" stroke=\"black\" d=\"M273.5,-312.903C273.5,-302.063 273.5,-290.774 273.5,-279.864\"/>\r\n",
       "<polygon fill=\"black\" stroke=\"black\" points=\"277,-279.548 273.5,-269.548 270,-279.548 277,-279.548\"/>\r\n",
       "</g>\r\n",
       "<!-- 3 -->\r\n",
       "<g id=\"node4\" class=\"node\"><title>3</title>\r\n",
       "<polygon fill=\"none\" stroke=\"black\" points=\"95,-113 0,-113 0,-0 95,-0 95,-113\"/>\r\n",
       "<text text-anchor=\"middle\" x=\"47.5\" y=\"-97.8\" font-family=\"Times New Roman,serif\" font-size=\"14.00\">gini = 0.075</text>\r\n",
       "<text text-anchor=\"middle\" x=\"47.5\" y=\"-82.8\" font-family=\"Times New Roman,serif\" font-size=\"14.00\">samples = 4</text>\r\n",
       "<text text-anchor=\"middle\" x=\"47.5\" y=\"-67.8\" font-family=\"Times New Roman,serif\" font-size=\"14.00\">value = [[0, 4]</text>\r\n",
       "<text text-anchor=\"middle\" x=\"47.5\" y=\"-52.8\" font-family=\"Times New Roman,serif\" font-size=\"14.00\">[1, 3]</text>\r\n",
       "<text text-anchor=\"middle\" x=\"47.5\" y=\"-37.8\" font-family=\"Times New Roman,serif\" font-size=\"14.00\">[4, 0]</text>\r\n",
       "<text text-anchor=\"middle\" x=\"47.5\" y=\"-22.8\" font-family=\"Times New Roman,serif\" font-size=\"14.00\">[4, 0]</text>\r\n",
       "<text text-anchor=\"middle\" x=\"47.5\" y=\"-7.8\" font-family=\"Times New Roman,serif\" font-size=\"14.00\">[4, 0]]</text>\r\n",
       "</g>\r\n",
       "<!-- 2&#45;&gt;3 -->\r\n",
       "<g id=\"edge3\" class=\"edge\"><title>2&#45;&gt;3</title>\r\n",
       "<path fill=\"none\" stroke=\"black\" d=\"M114.213,-148.713C107.586,-139.653 100.766,-130.328 94.1328,-121.259\"/>\r\n",
       "<polygon fill=\"black\" stroke=\"black\" points=\"96.8333,-119.022 88.1048,-113.017 91.1832,-123.155 96.8333,-119.022\"/>\r\n",
       "</g>\r\n",
       "<!-- 4 -->\r\n",
       "<g id=\"node5\" class=\"node\"><title>4</title>\r\n",
       "<polygon fill=\"none\" stroke=\"black\" points=\"208,-113 113,-113 113,-0 208,-0 208,-113\"/>\r\n",
       "<text text-anchor=\"middle\" x=\"160.5\" y=\"-97.8\" font-family=\"Times New Roman,serif\" font-size=\"14.00\">gini = 0.0</text>\r\n",
       "<text text-anchor=\"middle\" x=\"160.5\" y=\"-82.8\" font-family=\"Times New Roman,serif\" font-size=\"14.00\">samples = 1</text>\r\n",
       "<text text-anchor=\"middle\" x=\"160.5\" y=\"-67.8\" font-family=\"Times New Roman,serif\" font-size=\"14.00\">value = [[0, 1]</text>\r\n",
       "<text text-anchor=\"middle\" x=\"160.5\" y=\"-52.8\" font-family=\"Times New Roman,serif\" font-size=\"14.00\">[0, 1]</text>\r\n",
       "<text text-anchor=\"middle\" x=\"160.5\" y=\"-37.8\" font-family=\"Times New Roman,serif\" font-size=\"14.00\">[1, 0]</text>\r\n",
       "<text text-anchor=\"middle\" x=\"160.5\" y=\"-22.8\" font-family=\"Times New Roman,serif\" font-size=\"14.00\">[0, 1]</text>\r\n",
       "<text text-anchor=\"middle\" x=\"160.5\" y=\"-7.8\" font-family=\"Times New Roman,serif\" font-size=\"14.00\">[1, 0]]</text>\r\n",
       "</g>\r\n",
       "<!-- 2&#45;&gt;4 -->\r\n",
       "<g id=\"edge4\" class=\"edge\"><title>2&#45;&gt;4</title>\r\n",
       "<path fill=\"none\" stroke=\"black\" d=\"M160.5,-148.713C160.5,-140.3 160.5,-131.659 160.5,-123.206\"/>\r\n",
       "<polygon fill=\"black\" stroke=\"black\" points=\"164,-123.017 160.5,-113.017 157,-123.017 164,-123.017\"/>\r\n",
       "</g>\r\n",
       "<!-- 7 -->\r\n",
       "<g id=\"node8\" class=\"node\"><title>7</title>\r\n",
       "<polygon fill=\"none\" stroke=\"black\" points=\"434,-277 339,-277 339,-149 434,-149 434,-277\"/>\r\n",
       "<text text-anchor=\"middle\" x=\"386.5\" y=\"-261.8\" font-family=\"Times New Roman,serif\" font-size=\"14.00\">X[9] &lt;= 11.0</text>\r\n",
       "<text text-anchor=\"middle\" x=\"386.5\" y=\"-246.8\" font-family=\"Times New Roman,serif\" font-size=\"14.00\">gini = 0.1667</text>\r\n",
       "<text text-anchor=\"middle\" x=\"386.5\" y=\"-231.8\" font-family=\"Times New Roman,serif\" font-size=\"14.00\">samples = 6</text>\r\n",
       "<text text-anchor=\"middle\" x=\"386.5\" y=\"-216.8\" font-family=\"Times New Roman,serif\" font-size=\"14.00\">value = [[5, 1]</text>\r\n",
       "<text text-anchor=\"middle\" x=\"386.5\" y=\"-201.8\" font-family=\"Times New Roman,serif\" font-size=\"14.00\">[5, 1]</text>\r\n",
       "<text text-anchor=\"middle\" x=\"386.5\" y=\"-186.8\" font-family=\"Times New Roman,serif\" font-size=\"14.00\">[1, 5]</text>\r\n",
       "<text text-anchor=\"middle\" x=\"386.5\" y=\"-171.8\" font-family=\"Times New Roman,serif\" font-size=\"14.00\">[6, 0]</text>\r\n",
       "<text text-anchor=\"middle\" x=\"386.5\" y=\"-156.8\" font-family=\"Times New Roman,serif\" font-size=\"14.00\">[6, 0]]</text>\r\n",
       "</g>\r\n",
       "<!-- 6&#45;&gt;7 -->\r\n",
       "<g id=\"edge7\" class=\"edge\"><title>6&#45;&gt;7</title>\r\n",
       "<path fill=\"none\" stroke=\"black\" d=\"M386.5,-312.903C386.5,-304.565 386.5,-295.962 386.5,-287.47\"/>\r\n",
       "<polygon fill=\"black\" stroke=\"black\" points=\"390,-287.192 386.5,-277.192 383,-287.192 390,-287.192\"/>\r\n",
       "</g>\r\n",
       "<!-- 10 -->\r\n",
       "<g id=\"node11\" class=\"node\"><title>10</title>\r\n",
       "<polygon fill=\"none\" stroke=\"black\" points=\"547,-277 452,-277 452,-149 547,-149 547,-277\"/>\r\n",
       "<text text-anchor=\"middle\" x=\"499.5\" y=\"-261.8\" font-family=\"Times New Roman,serif\" font-size=\"14.00\">X[3] &lt;= 5.5</text>\r\n",
       "<text text-anchor=\"middle\" x=\"499.5\" y=\"-246.8\" font-family=\"Times New Roman,serif\" font-size=\"14.00\">gini = 0.2667</text>\r\n",
       "<text text-anchor=\"middle\" x=\"499.5\" y=\"-231.8\" font-family=\"Times New Roman,serif\" font-size=\"14.00\">samples = 3</text>\r\n",
       "<text text-anchor=\"middle\" x=\"499.5\" y=\"-216.8\" font-family=\"Times New Roman,serif\" font-size=\"14.00\">value = [[3, 0]</text>\r\n",
       "<text text-anchor=\"middle\" x=\"499.5\" y=\"-201.8\" font-family=\"Times New Roman,serif\" font-size=\"14.00\">[2, 1]</text>\r\n",
       "<text text-anchor=\"middle\" x=\"499.5\" y=\"-186.8\" font-family=\"Times New Roman,serif\" font-size=\"14.00\">[2, 1]</text>\r\n",
       "<text text-anchor=\"middle\" x=\"499.5\" y=\"-171.8\" font-family=\"Times New Roman,serif\" font-size=\"14.00\">[1, 2]</text>\r\n",
       "<text text-anchor=\"middle\" x=\"499.5\" y=\"-156.8\" font-family=\"Times New Roman,serif\" font-size=\"14.00\">[0, 3]]</text>\r\n",
       "</g>\r\n",
       "<!-- 6&#45;&gt;10 -->\r\n",
       "<g id=\"edge10\" class=\"edge\"><title>6&#45;&gt;10</title>\r\n",
       "<path fill=\"none\" stroke=\"black\" d=\"M430.512,-312.903C436.775,-303.924 443.253,-294.637 449.618,-285.512\"/>\r\n",
       "<polygon fill=\"black\" stroke=\"black\" points=\"452.571,-287.396 455.422,-277.192 446.83,-283.391 452.571,-287.396\"/>\r\n",
       "</g>\r\n",
       "<!-- 8 -->\r\n",
       "<g id=\"node9\" class=\"node\"><title>8</title>\r\n",
       "<polygon fill=\"none\" stroke=\"black\" points=\"321,-113 226,-113 226,-0 321,-0 321,-113\"/>\r\n",
       "<text text-anchor=\"middle\" x=\"273.5\" y=\"-97.8\" font-family=\"Times New Roman,serif\" font-size=\"14.00\">gini = 0.128</text>\r\n",
       "<text text-anchor=\"middle\" x=\"273.5\" y=\"-82.8\" font-family=\"Times New Roman,serif\" font-size=\"14.00\">samples = 5</text>\r\n",
       "<text text-anchor=\"middle\" x=\"273.5\" y=\"-67.8\" font-family=\"Times New Roman,serif\" font-size=\"14.00\">value = [[5, 0]</text>\r\n",
       "<text text-anchor=\"middle\" x=\"273.5\" y=\"-52.8\" font-family=\"Times New Roman,serif\" font-size=\"14.00\">[4, 1]</text>\r\n",
       "<text text-anchor=\"middle\" x=\"273.5\" y=\"-37.8\" font-family=\"Times New Roman,serif\" font-size=\"14.00\">[1, 4]</text>\r\n",
       "<text text-anchor=\"middle\" x=\"273.5\" y=\"-22.8\" font-family=\"Times New Roman,serif\" font-size=\"14.00\">[5, 0]</text>\r\n",
       "<text text-anchor=\"middle\" x=\"273.5\" y=\"-7.8\" font-family=\"Times New Roman,serif\" font-size=\"14.00\">[5, 0]]</text>\r\n",
       "</g>\r\n",
       "<!-- 7&#45;&gt;8 -->\r\n",
       "<g id=\"edge8\" class=\"edge\"><title>7&#45;&gt;8</title>\r\n",
       "<path fill=\"none\" stroke=\"black\" d=\"M340.213,-148.713C333.586,-139.653 326.766,-130.328 320.133,-121.259\"/>\r\n",
       "<polygon fill=\"black\" stroke=\"black\" points=\"322.833,-119.022 314.105,-113.017 317.183,-123.155 322.833,-119.022\"/>\r\n",
       "</g>\r\n",
       "<!-- 9 -->\r\n",
       "<g id=\"node10\" class=\"node\"><title>9</title>\r\n",
       "<polygon fill=\"none\" stroke=\"black\" points=\"434,-113 339,-113 339,-0 434,-0 434,-113\"/>\r\n",
       "<text text-anchor=\"middle\" x=\"386.5\" y=\"-97.8\" font-family=\"Times New Roman,serif\" font-size=\"14.00\">gini = 0.0</text>\r\n",
       "<text text-anchor=\"middle\" x=\"386.5\" y=\"-82.8\" font-family=\"Times New Roman,serif\" font-size=\"14.00\">samples = 1</text>\r\n",
       "<text text-anchor=\"middle\" x=\"386.5\" y=\"-67.8\" font-family=\"Times New Roman,serif\" font-size=\"14.00\">value = [[0, 1]</text>\r\n",
       "<text text-anchor=\"middle\" x=\"386.5\" y=\"-52.8\" font-family=\"Times New Roman,serif\" font-size=\"14.00\">[1, 0]</text>\r\n",
       "<text text-anchor=\"middle\" x=\"386.5\" y=\"-37.8\" font-family=\"Times New Roman,serif\" font-size=\"14.00\">[0, 1]</text>\r\n",
       "<text text-anchor=\"middle\" x=\"386.5\" y=\"-22.8\" font-family=\"Times New Roman,serif\" font-size=\"14.00\">[1, 0]</text>\r\n",
       "<text text-anchor=\"middle\" x=\"386.5\" y=\"-7.8\" font-family=\"Times New Roman,serif\" font-size=\"14.00\">[1, 0]]</text>\r\n",
       "</g>\r\n",
       "<!-- 7&#45;&gt;9 -->\r\n",
       "<g id=\"edge9\" class=\"edge\"><title>7&#45;&gt;9</title>\r\n",
       "<path fill=\"none\" stroke=\"black\" d=\"M386.5,-148.713C386.5,-140.3 386.5,-131.659 386.5,-123.206\"/>\r\n",
       "<polygon fill=\"black\" stroke=\"black\" points=\"390,-123.017 386.5,-113.017 383,-123.017 390,-123.017\"/>\r\n",
       "</g>\r\n",
       "<!-- 11 -->\r\n",
       "<g id=\"node12\" class=\"node\"><title>11</title>\r\n",
       "<polygon fill=\"none\" stroke=\"black\" points=\"547,-113 452,-113 452,-0 547,-0 547,-113\"/>\r\n",
       "<text text-anchor=\"middle\" x=\"499.5\" y=\"-97.8\" font-family=\"Times New Roman,serif\" font-size=\"14.00\">gini = 0.1</text>\r\n",
       "<text text-anchor=\"middle\" x=\"499.5\" y=\"-82.8\" font-family=\"Times New Roman,serif\" font-size=\"14.00\">samples = 2</text>\r\n",
       "<text text-anchor=\"middle\" x=\"499.5\" y=\"-67.8\" font-family=\"Times New Roman,serif\" font-size=\"14.00\">value = [[2, 0]</text>\r\n",
       "<text text-anchor=\"middle\" x=\"499.5\" y=\"-52.8\" font-family=\"Times New Roman,serif\" font-size=\"14.00\">[2, 0]</text>\r\n",
       "<text text-anchor=\"middle\" x=\"499.5\" y=\"-37.8\" font-family=\"Times New Roman,serif\" font-size=\"14.00\">[2, 0]</text>\r\n",
       "<text text-anchor=\"middle\" x=\"499.5\" y=\"-22.8\" font-family=\"Times New Roman,serif\" font-size=\"14.00\">[1, 1]</text>\r\n",
       "<text text-anchor=\"middle\" x=\"499.5\" y=\"-7.8\" font-family=\"Times New Roman,serif\" font-size=\"14.00\">[0, 2]]</text>\r\n",
       "</g>\r\n",
       "<!-- 10&#45;&gt;11 -->\r\n",
       "<g id=\"edge11\" class=\"edge\"><title>10&#45;&gt;11</title>\r\n",
       "<path fill=\"none\" stroke=\"black\" d=\"M499.5,-148.713C499.5,-140.3 499.5,-131.659 499.5,-123.206\"/>\r\n",
       "<polygon fill=\"black\" stroke=\"black\" points=\"503,-123.017 499.5,-113.017 496,-123.017 503,-123.017\"/>\r\n",
       "</g>\r\n",
       "<!-- 12 -->\r\n",
       "<g id=\"node13\" class=\"node\"><title>12</title>\r\n",
       "<polygon fill=\"none\" stroke=\"black\" points=\"660,-113 565,-113 565,-0 660,-0 660,-113\"/>\r\n",
       "<text text-anchor=\"middle\" x=\"612.5\" y=\"-97.8\" font-family=\"Times New Roman,serif\" font-size=\"14.00\">gini = 0.0</text>\r\n",
       "<text text-anchor=\"middle\" x=\"612.5\" y=\"-82.8\" font-family=\"Times New Roman,serif\" font-size=\"14.00\">samples = 1</text>\r\n",
       "<text text-anchor=\"middle\" x=\"612.5\" y=\"-67.8\" font-family=\"Times New Roman,serif\" font-size=\"14.00\">value = [[1, 0]</text>\r\n",
       "<text text-anchor=\"middle\" x=\"612.5\" y=\"-52.8\" font-family=\"Times New Roman,serif\" font-size=\"14.00\">[0, 1]</text>\r\n",
       "<text text-anchor=\"middle\" x=\"612.5\" y=\"-37.8\" font-family=\"Times New Roman,serif\" font-size=\"14.00\">[0, 1]</text>\r\n",
       "<text text-anchor=\"middle\" x=\"612.5\" y=\"-22.8\" font-family=\"Times New Roman,serif\" font-size=\"14.00\">[0, 1]</text>\r\n",
       "<text text-anchor=\"middle\" x=\"612.5\" y=\"-7.8\" font-family=\"Times New Roman,serif\" font-size=\"14.00\">[0, 1]]</text>\r\n",
       "</g>\r\n",
       "<!-- 10&#45;&gt;12 -->\r\n",
       "<g id=\"edge12\" class=\"edge\"><title>10&#45;&gt;12</title>\r\n",
       "<path fill=\"none\" stroke=\"black\" d=\"M545.787,-148.713C552.414,-139.653 559.234,-130.328 565.867,-121.259\"/>\r\n",
       "<polygon fill=\"black\" stroke=\"black\" points=\"568.817,-123.155 571.895,-113.017 563.167,-119.022 568.817,-123.155\"/>\r\n",
       "</g>\r\n",
       "</g>\r\n",
       "</svg>\r\n"
      ],
      "text/plain": [
       "<graphviz.files.Source at 0x16b3ed78320>"
      ]
     },
     "execution_count": 5,
     "metadata": {},
     "output_type": "execute_result"
    }
   ],
   "source": [
    "dot_data = export_graphviz(arbol, out_file=None) \n",
    "graph = graphviz.Source(dot_data) \n",
    "graph"
   ]
  },
  {
   "cell_type": "code",
   "execution_count": 34,
   "metadata": {
    "collapsed": false
   },
   "outputs": [
    {
     "ename": "TypeError",
     "evalue": "If no scoring is specified, the estimator passed should have a 'score' method. The estimator <sklearn_ubu.disturbing_neighbors.DisturbingNeighbors object at 0x0000016B3C8BDFD0> does not.",
     "output_type": "error",
     "traceback": [
      "\u001b[0;31m---------------------------------------------------------------------------\u001b[0m",
      "\u001b[0;31mTypeError\u001b[0m                                 Traceback (most recent call last)",
      "\u001b[0;32m<ipython-input-34-31c089551119>\u001b[0m in \u001b[0;36m<module>\u001b[0;34m()\u001b[0m\n\u001b[0;32m----> 1\u001b[0;31m \u001b[0mscores\u001b[0m \u001b[1;33m=\u001b[0m \u001b[0mcross_val_score\u001b[0m\u001b[1;33m(\u001b[0m\u001b[0mdn\u001b[0m\u001b[1;33m,\u001b[0m \u001b[0mX\u001b[0m\u001b[1;33m,\u001b[0m \u001b[0my\u001b[0m\u001b[1;33m,\u001b[0m \u001b[0mcv\u001b[0m\u001b[1;33m=\u001b[0m\u001b[1;36m5\u001b[0m\u001b[1;33m)\u001b[0m\u001b[1;33m\u001b[0m\u001b[0m\n\u001b[0m\u001b[1;32m      2\u001b[0m \u001b[0mprint\u001b[0m\u001b[1;33m(\u001b[0m\u001b[0mscores\u001b[0m\u001b[1;33m)\u001b[0m\u001b[1;33m\u001b[0m\u001b[0m\n",
      "\u001b[0;32mC:\\Users\\Tubi\\Anaconda3\\lib\\site-packages\\sklearn\\model_selection\\_validation.py\u001b[0m in \u001b[0;36mcross_val_score\u001b[0;34m(estimator, X, y, groups, scoring, cv, n_jobs, verbose, fit_params, pre_dispatch)\u001b[0m\n\u001b[1;32m    130\u001b[0m     \u001b[0mcv\u001b[0m \u001b[1;33m=\u001b[0m \u001b[0mcheck_cv\u001b[0m\u001b[1;33m(\u001b[0m\u001b[0mcv\u001b[0m\u001b[1;33m,\u001b[0m \u001b[0my\u001b[0m\u001b[1;33m,\u001b[0m \u001b[0mclassifier\u001b[0m\u001b[1;33m=\u001b[0m\u001b[0mis_classifier\u001b[0m\u001b[1;33m(\u001b[0m\u001b[0mestimator\u001b[0m\u001b[1;33m)\u001b[0m\u001b[1;33m)\u001b[0m\u001b[1;33m\u001b[0m\u001b[0m\n\u001b[1;32m    131\u001b[0m     \u001b[0mcv_iter\u001b[0m \u001b[1;33m=\u001b[0m \u001b[0mlist\u001b[0m\u001b[1;33m(\u001b[0m\u001b[0mcv\u001b[0m\u001b[1;33m.\u001b[0m\u001b[0msplit\u001b[0m\u001b[1;33m(\u001b[0m\u001b[0mX\u001b[0m\u001b[1;33m,\u001b[0m \u001b[0my\u001b[0m\u001b[1;33m,\u001b[0m \u001b[0mgroups\u001b[0m\u001b[1;33m)\u001b[0m\u001b[1;33m)\u001b[0m\u001b[1;33m\u001b[0m\u001b[0m\n\u001b[0;32m--> 132\u001b[0;31m     \u001b[0mscorer\u001b[0m \u001b[1;33m=\u001b[0m \u001b[0mcheck_scoring\u001b[0m\u001b[1;33m(\u001b[0m\u001b[0mestimator\u001b[0m\u001b[1;33m,\u001b[0m \u001b[0mscoring\u001b[0m\u001b[1;33m=\u001b[0m\u001b[0mscoring\u001b[0m\u001b[1;33m)\u001b[0m\u001b[1;33m\u001b[0m\u001b[0m\n\u001b[0m\u001b[1;32m    133\u001b[0m     \u001b[1;31m# We clone the estimator to make sure that all the folds are\u001b[0m\u001b[1;33m\u001b[0m\u001b[1;33m\u001b[0m\u001b[0m\n\u001b[1;32m    134\u001b[0m     \u001b[1;31m# independent, and that it is pickle-able.\u001b[0m\u001b[1;33m\u001b[0m\u001b[1;33m\u001b[0m\u001b[0m\n",
      "\u001b[0;32mC:\\Users\\Tubi\\Anaconda3\\lib\\site-packages\\sklearn\\metrics\\scorer.py\u001b[0m in \u001b[0;36mcheck_scoring\u001b[0;34m(estimator, scoring, allow_none)\u001b[0m\n\u001b[1;32m    271\u001b[0m         raise TypeError(\n\u001b[1;32m    272\u001b[0m             \u001b[1;34m\"If no scoring is specified, the estimator passed should \"\u001b[0m\u001b[1;33m\u001b[0m\u001b[0m\n\u001b[0;32m--> 273\u001b[0;31m             \"have a 'score' method. The estimator %r does not.\" % estimator)\n\u001b[0m\u001b[1;32m    274\u001b[0m \u001b[1;33m\u001b[0m\u001b[0m\n\u001b[1;32m    275\u001b[0m \u001b[1;33m\u001b[0m\u001b[0m\n",
      "\u001b[0;31mTypeError\u001b[0m: If no scoring is specified, the estimator passed should have a 'score' method. The estimator <sklearn_ubu.disturbing_neighbors.DisturbingNeighbors object at 0x0000016B3C8BDFD0> does not."
     ]
    }
   ],
   "source": [
    "scores = cross_val_score(dn, X, y, cv=5)\n",
    "print(scores)"
   ]
  }
 ],
 "metadata": {
  "kernelspec": {
   "display_name": "Python 3",
   "language": "python",
   "name": "python3"
  },
  "language_info": {
   "codemirror_mode": {
    "name": "ipython",
    "version": 3
   },
   "file_extension": ".py",
   "mimetype": "text/x-python",
   "name": "python",
   "nbconvert_exporter": "python",
   "pygments_lexer": "ipython3",
   "version": "3.6.0"
  }
 },
 "nbformat": 4,
 "nbformat_minor": 2
}
