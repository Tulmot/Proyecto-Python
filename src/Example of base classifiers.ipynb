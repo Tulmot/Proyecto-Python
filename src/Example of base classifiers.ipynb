{
 "cells": [
  {
   "cell_type": "markdown",
   "metadata": {},
   "source": [
    "<img src=\"http://www.ubu.es/sites/default/files/portal_page/images/logo_color_2l_dcha.jpg\" height=\"200\" width=\"200\" align=\"right\"/> \n",
    "### Author: Eduardo Tubilleja Calvo \n",
    "### Director: Álvar Arnaiz González \n",
    "### Director: Juan José Rodríguez Díez\n",
    "### Title: Example of base classifiers"
   ]
  },
  {
   "cell_type": "markdown",
   "metadata": {},
   "source": [
    "### Table of contents:\n",
    "* [Select the classifier](#classifier)\n",
    "* [Fit the classifier](#fit)\n",
    "* [Make a predict](#predict)\n",
    "* [Make a predict_proba](#predict_proba)\n",
    "* [Calculate measures](#measures)\n",
    "* [Draw a tree](#tree)\n",
    "* [Make CrossValidation](#cross)"
   ]
  },
  {
   "cell_type": "markdown",
   "metadata": {},
   "source": [
    "In this notebook, we will see the example of a base classifier, that from some generated data, we train and predict them.\n",
    "\n",
    "After this, different sklearn distances and measures are calculated, and we draw a tree to better appreciate the results.\n",
    "\n",
    "Finally we use cross validation.\n"
   ]
  },
  {
   "cell_type": "code",
   "execution_count": 1,
   "metadata": {
    "collapsed": false
   },
   "outputs": [],
   "source": [
    "import numpy as np\n",
    "import graphviz\n",
    "\n",
    "from sklearn.datasets import make_multilabel_classification, make_moons\n",
    "from sklearn.metrics import hamming_loss\n",
    "from sklearn.metrics import accuracy_score\n",
    "from sklearn.metrics import jaccard_similarity_score\n",
    "from sklearn.metrics import zero_one_loss\n",
    "from sklearn.metrics import f1_score\n",
    "from sklearn.metrics import precision_score\n",
    "from sklearn.metrics import fbeta_score\n",
    "from sklearn.metrics import recall_score\n",
    "from sklearn.model_selection import train_test_split\n",
    "from sklearn.tree import DecisionTreeClassifier\n",
    "from sklearn.model_selection import cross_val_score\n",
    "from sklearn.tree import export_graphviz\n",
    "\n",
    "from sklearn_ubu.base_disturbing_neighbors import BaseDisturbingNeighbors\n",
    "from sklearn_ubu.base_random_oracles import BaseRandomOracles\n",
    "from sklearn_ubu.base_rotation_forest import BaseRotationForest\n"
   ]
  },
  {
   "cell_type": "markdown",
   "metadata": {},
   "source": [
    "Parameters"
   ]
  },
  {
   "cell_type": "code",
   "execution_count": 2,
   "metadata": {
    "collapsed": false
   },
   "outputs": [],
   "source": [
    "seed = 0\n",
    "cross_v=5\n",
    "num_samples=80\n",
    "num_features=10\n",
    "noise=0.3\n",
    "test_size=0.5\n",
    "train_size=0.5"
   ]
  },
  {
   "cell_type": "markdown",
   "metadata": {},
   "source": [
    "Takes as input two arrays: an array X, sparse or dense, of size [n_samples, n_features] holding the training samples, and an array Y of integer values, size [n_samples], holding the class labels for the training samples.\n",
    "\n",
    "Choose multilabel or singlelabel."
   ]
  },
  {
   "cell_type": "code",
   "execution_count": 3,
   "metadata": {
    "collapsed": false
   },
   "outputs": [],
   "source": [
    "X, y = make_multilabel_classification(\n",
    "    n_samples=num_samples, n_features=num_features, random_state=seed)"
   ]
  },
  {
   "cell_type": "code",
   "execution_count": 4,
   "metadata": {
    "collapsed": true
   },
   "outputs": [],
   "source": [
    "X, y=make_moons(noise=noise, random_state=seed)"
   ]
  },
  {
   "cell_type": "code",
   "execution_count": 5,
   "metadata": {
    "collapsed": true
   },
   "outputs": [],
   "source": [
    "X_train, X_test, y_train, y_test = train_test_split(\n",
    "                X, y, test_size=test_size, train_size=train_size, random_state=seed)"
   ]
  },
  {
   "cell_type": "markdown",
   "metadata": {},
   "source": [
    "<a id='classifier'></a>\n",
    "Select classifier Disturbing Neighbors or Random Oracles or Rotation Forest"
   ]
  },
  {
   "cell_type": "code",
   "execution_count": 6,
   "metadata": {
    "collapsed": true
   },
   "outputs": [],
   "source": [
    "classifier = BaseDisturbingNeighbors(base_estimator=DecisionTreeClassifier(\n",
    "        random_state=seed), random_state=seed)"
   ]
  },
  {
   "cell_type": "code",
   "execution_count": 7,
   "metadata": {
    "collapsed": true
   },
   "outputs": [],
   "source": [
    "classifier = BaseRandomOracles(base_estimator=DecisionTreeClassifier(\n",
    "        random_state=seed), random_state=seed)"
   ]
  },
  {
   "cell_type": "code",
   "execution_count": 8,
   "metadata": {
    "collapsed": true
   },
   "outputs": [],
   "source": [
    "classifier=BaseRotationForest(base_estimator=DecisionTreeClassifier(\n",
    "                      random_state=seed),random_state=seed)"
   ]
  },
  {
   "cell_type": "markdown",
   "metadata": {},
   "source": [
    "Train of classifier<a id='fit'></a>"
   ]
  },
  {
   "cell_type": "code",
   "execution_count": 9,
   "metadata": {
    "collapsed": false
   },
   "outputs": [
    {
     "data": {
      "text/plain": [
       "BaseRotationForest(base_estimator=DecisionTreeClassifier(class_weight=None, criterion='gini', max_depth=None,\n",
       "            max_features=None, max_leaf_nodes=None,\n",
       "            min_impurity_split=1e-07, min_samples_leaf=1,\n",
       "            min_samples_split=2, min_weight_fraction_leaf=0.0,\n",
       "            presort=False, random_state=0, splitter='best'),\n",
       "          n_groups=3, per_samples=0.75, per_samples_classes=0.8,\n",
       "          random_state=<mtrand.RandomState object at 0x000002148AB44090>)"
      ]
     },
     "execution_count": 9,
     "metadata": {},
     "output_type": "execute_result"
    }
   ],
   "source": [
    "classifier.fit(X_train, y_train)"
   ]
  },
  {
   "cell_type": "markdown",
   "metadata": {},
   "source": [
    "After being fitted, the model can then be used to predict the class of samples:<a id='predict'></a>"
   ]
  },
  {
   "cell_type": "code",
   "execution_count": 10,
   "metadata": {
    "collapsed": false
   },
   "outputs": [],
   "source": [
    "y_predict = classifier.predict(X_test)"
   ]
  },
  {
   "cell_type": "markdown",
   "metadata": {},
   "source": [
    "Alternatively, the probability of each class can be predicted, which is the fraction of training samples of the same class in a leaf:<a id='predict_proba'></a>"
   ]
  },
  {
   "cell_type": "code",
   "execution_count": 11,
   "metadata": {
    "collapsed": false
   },
   "outputs": [],
   "source": [
    "y_predict_proba = classifier.predict_proba(X_test)\n"
   ]
  },
  {
   "cell_type": "markdown",
   "metadata": {},
   "source": [
    "Calculate different distances and measures <a id='measures'></a>"
   ]
  },
  {
   "cell_type": "code",
   "execution_count": 12,
   "metadata": {
    "collapsed": false
   },
   "outputs": [
    {
     "name": "stdout",
     "output_type": "stream",
     "text": [
      "Hamming Loss: 0.14\n",
      "Accuracy Score: 0.86\n",
      "Jaccard Similarity Score: 0.86\n",
      "Zero One Loss: 0.14\n",
      "F1 Score: 0.86\n",
      "Precision Score: 0.86\n",
      "Fbeta Score: 0.86\n",
      "Recall Score: 0.86\n"
     ]
    }
   ],
   "source": [
    "dist_hamming = hamming_loss(y_test, y_predict)\n",
    "print(\"Hamming Loss:\", dist_hamming)\n",
    "\n",
    "dist_accuracy = accuracy_score(y_test, y_predict)\n",
    "print(\"Accuracy Score:\", dist_accuracy)\n",
    "\n",
    "dist_jaccard = jaccard_similarity_score(y_test, y_predict)\n",
    "print(\"Jaccard Similarity Score:\", dist_jaccard)\n",
    "\n",
    "dist_zero_one = zero_one_loss(y_test, y_predict)\n",
    "print(\"Zero One Loss:\", dist_zero_one)\n",
    "\n",
    "measure_f1 = f1_score(y_test, y_predict, average='micro')\n",
    "print(\"F1 Score:\", measure_f1)\n",
    "\n",
    "measure_precision = precision_score(y_test, y_predict, average='micro')\n",
    "print(\"Precision Score:\", measure_precision)\n",
    "\n",
    "measure_fbeta = fbeta_score(y_test, y_predict, average='micro', beta=0.5)\n",
    "print(\"Fbeta Score:\", measure_fbeta)\n",
    "\n",
    "measure_recall = recall_score(y_test, y_predict, average='micro')\n",
    "print(\"Recall Score:\", measure_recall)"
   ]
  },
  {
   "cell_type": "markdown",
   "metadata": {},
   "source": [
    "Once trained, we can export the tree in Graphviz format using the export_graphviz exporter. If you use the conda package manager, the graphviz binaries and the python package can be installed with\n",
    "\n",
    "    conda install python-graphviz\n",
    " \n",
    "The export_graphviz exporter also supports a variety of aesthetic options. Jupyter notebooks also render these plots inline automatically:<a id='tree'></a>"
   ]
  },
  {
   "cell_type": "markdown",
   "metadata": {
    "collapsed": false
   },
   "source": [
    "If the classifier is RandomOracle, as for each element it has a classifier, in order to access the attribute where we have saved those classifiers, and in this case print the first one.\n",
    "\n",
    "If not, we draw the base estimator."
   ]
  },
  {
   "cell_type": "code",
   "execution_count": 13,
   "metadata": {
    "collapsed": false
   },
   "outputs": [
    {
     "data": {
      "image/svg+xml": [
       "<?xml version=\"1.0\" encoding=\"UTF-8\" standalone=\"no\"?>\r\n",
       "<!DOCTYPE svg PUBLIC \"-//W3C//DTD SVG 1.1//EN\"\r\n",
       " \"http://www.w3.org/Graphics/SVG/1.1/DTD/svg11.dtd\">\r\n",
       "<!-- Generated by graphviz version 2.38.0 (20140413.2041)\r\n",
       " -->\r\n",
       "<!-- Title: Tree Pages: 1 -->\r\n",
       "<svg width=\"286pt\" height=\"477pt\"\r\n",
       " viewBox=\"0.00 0.00 286.00 477.00\" xmlns=\"http://www.w3.org/2000/svg\" xmlns:xlink=\"http://www.w3.org/1999/xlink\">\r\n",
       "<g id=\"graph0\" class=\"graph\" transform=\"scale(1 1) rotate(0) translate(4 473)\">\r\n",
       "<title>Tree</title>\r\n",
       "<polygon fill=\"white\" stroke=\"none\" points=\"-4,4 -4,-473 282,-473 282,4 -4,4\"/>\r\n",
       "<!-- 0 -->\r\n",
       "<g id=\"node1\" class=\"node\"><title>0</title>\r\n",
       "<polygon fill=\"none\" stroke=\"black\" points=\"220,-469 116,-469 116,-401 220,-401 220,-469\"/>\r\n",
       "<text text-anchor=\"middle\" x=\"168\" y=\"-453.8\" font-family=\"Times New Roman,serif\" font-size=\"14.00\">X[0] &lt;= 0.2526</text>\r\n",
       "<text text-anchor=\"middle\" x=\"168\" y=\"-438.8\" font-family=\"Times New Roman,serif\" font-size=\"14.00\">gini = 0.4992</text>\r\n",
       "<text text-anchor=\"middle\" x=\"168\" y=\"-423.8\" font-family=\"Times New Roman,serif\" font-size=\"14.00\">samples = 50</text>\r\n",
       "<text text-anchor=\"middle\" x=\"168\" y=\"-408.8\" font-family=\"Times New Roman,serif\" font-size=\"14.00\">value = [24, 26]</text>\r\n",
       "</g>\r\n",
       "<!-- 1 -->\r\n",
       "<g id=\"node2\" class=\"node\"><title>1</title>\r\n",
       "<polygon fill=\"none\" stroke=\"black\" points=\"162,-365 54,-365 54,-297 162,-297 162,-365\"/>\r\n",
       "<text text-anchor=\"middle\" x=\"108\" y=\"-349.8\" font-family=\"Times New Roman,serif\" font-size=\"14.00\">X[1] &lt;= &#45;0.0922</text>\r\n",
       "<text text-anchor=\"middle\" x=\"108\" y=\"-334.8\" font-family=\"Times New Roman,serif\" font-size=\"14.00\">gini = 0.2854</text>\r\n",
       "<text text-anchor=\"middle\" x=\"108\" y=\"-319.8\" font-family=\"Times New Roman,serif\" font-size=\"14.00\">samples = 29</text>\r\n",
       "<text text-anchor=\"middle\" x=\"108\" y=\"-304.8\" font-family=\"Times New Roman,serif\" font-size=\"14.00\">value = [24, 5]</text>\r\n",
       "</g>\r\n",
       "<!-- 0&#45;&gt;1 -->\r\n",
       "<g id=\"edge1\" class=\"edge\"><title>0&#45;&gt;1</title>\r\n",
       "<path fill=\"none\" stroke=\"black\" d=\"M148.52,-400.884C143.49,-392.332 138.008,-383.013 132.748,-374.072\"/>\r\n",
       "<polygon fill=\"black\" stroke=\"black\" points=\"135.675,-372.144 127.588,-365.299 129.641,-375.693 135.675,-372.144\"/>\r\n",
       "<text text-anchor=\"middle\" x=\"121.314\" y=\"-385.799\" font-family=\"Times New Roman,serif\" font-size=\"14.00\">True</text>\r\n",
       "</g>\r\n",
       "<!-- 8 -->\r\n",
       "<g id=\"node9\" class=\"node\"><title>8</title>\r\n",
       "<polygon fill=\"none\" stroke=\"black\" points=\"278,-357.5 180,-357.5 180,-304.5 278,-304.5 278,-357.5\"/>\r\n",
       "<text text-anchor=\"middle\" x=\"229\" y=\"-342.3\" font-family=\"Times New Roman,serif\" font-size=\"14.00\">gini = 0.0</text>\r\n",
       "<text text-anchor=\"middle\" x=\"229\" y=\"-327.3\" font-family=\"Times New Roman,serif\" font-size=\"14.00\">samples = 21</text>\r\n",
       "<text text-anchor=\"middle\" x=\"229\" y=\"-312.3\" font-family=\"Times New Roman,serif\" font-size=\"14.00\">value = [0, 21]</text>\r\n",
       "</g>\r\n",
       "<!-- 0&#45;&gt;8 -->\r\n",
       "<g id=\"edge8\" class=\"edge\"><title>0&#45;&gt;8</title>\r\n",
       "<path fill=\"none\" stroke=\"black\" d=\"M187.805,-400.884C194.448,-389.776 201.866,-377.372 208.557,-366.184\"/>\r\n",
       "<polygon fill=\"black\" stroke=\"black\" points=\"211.609,-367.899 213.738,-357.52 205.602,-364.306 211.609,-367.899\"/>\r\n",
       "<text text-anchor=\"middle\" x=\"219.836\" y=\"-378.065\" font-family=\"Times New Roman,serif\" font-size=\"14.00\">False</text>\r\n",
       "</g>\r\n",
       "<!-- 2 -->\r\n",
       "<g id=\"node3\" class=\"node\"><title>2</title>\r\n",
       "<polygon fill=\"none\" stroke=\"black\" points=\"98,-253.5 0,-253.5 0,-200.5 98,-200.5 98,-253.5\"/>\r\n",
       "<text text-anchor=\"middle\" x=\"49\" y=\"-238.3\" font-family=\"Times New Roman,serif\" font-size=\"14.00\">gini = 0.0</text>\r\n",
       "<text text-anchor=\"middle\" x=\"49\" y=\"-223.3\" font-family=\"Times New Roman,serif\" font-size=\"14.00\">samples = 14</text>\r\n",
       "<text text-anchor=\"middle\" x=\"49\" y=\"-208.3\" font-family=\"Times New Roman,serif\" font-size=\"14.00\">value = [14, 0]</text>\r\n",
       "</g>\r\n",
       "<!-- 1&#45;&gt;2 -->\r\n",
       "<g id=\"edge2\" class=\"edge\"><title>1&#45;&gt;2</title>\r\n",
       "<path fill=\"none\" stroke=\"black\" d=\"M88.8444,-296.884C82.4193,-285.776 75.2445,-273.372 68.773,-262.184\"/>\r\n",
       "<polygon fill=\"black\" stroke=\"black\" points=\"71.7983,-260.424 63.7615,-253.52 65.7389,-263.929 71.7983,-260.424\"/>\r\n",
       "</g>\r\n",
       "<!-- 3 -->\r\n",
       "<g id=\"node4\" class=\"node\"><title>3</title>\r\n",
       "<polygon fill=\"none\" stroke=\"black\" points=\"220,-261 116,-261 116,-193 220,-193 220,-261\"/>\r\n",
       "<text text-anchor=\"middle\" x=\"168\" y=\"-245.8\" font-family=\"Times New Roman,serif\" font-size=\"14.00\">X[1] &lt;= 0.4702</text>\r\n",
       "<text text-anchor=\"middle\" x=\"168\" y=\"-230.8\" font-family=\"Times New Roman,serif\" font-size=\"14.00\">gini = 0.4444</text>\r\n",
       "<text text-anchor=\"middle\" x=\"168\" y=\"-215.8\" font-family=\"Times New Roman,serif\" font-size=\"14.00\">samples = 15</text>\r\n",
       "<text text-anchor=\"middle\" x=\"168\" y=\"-200.8\" font-family=\"Times New Roman,serif\" font-size=\"14.00\">value = [10, 5]</text>\r\n",
       "</g>\r\n",
       "<!-- 1&#45;&gt;3 -->\r\n",
       "<g id=\"edge3\" class=\"edge\"><title>1&#45;&gt;3</title>\r\n",
       "<path fill=\"none\" stroke=\"black\" d=\"M127.48,-296.884C132.51,-288.332 137.992,-279.013 143.252,-270.072\"/>\r\n",
       "<polygon fill=\"black\" stroke=\"black\" points=\"146.359,-271.693 148.412,-261.299 140.325,-268.144 146.359,-271.693\"/>\r\n",
       "</g>\r\n",
       "<!-- 4 -->\r\n",
       "<g id=\"node5\" class=\"node\"><title>4</title>\r\n",
       "<polygon fill=\"none\" stroke=\"black\" points=\"163,-157 55,-157 55,-89 163,-89 163,-157\"/>\r\n",
       "<text text-anchor=\"middle\" x=\"109\" y=\"-141.8\" font-family=\"Times New Roman,serif\" font-size=\"14.00\">X[0] &lt;= &#45;1.0755</text>\r\n",
       "<text text-anchor=\"middle\" x=\"109\" y=\"-126.8\" font-family=\"Times New Roman,serif\" font-size=\"14.00\">gini = 0.4688</text>\r\n",
       "<text text-anchor=\"middle\" x=\"109\" y=\"-111.8\" font-family=\"Times New Roman,serif\" font-size=\"14.00\">samples = 8</text>\r\n",
       "<text text-anchor=\"middle\" x=\"109\" y=\"-96.8\" font-family=\"Times New Roman,serif\" font-size=\"14.00\">value = [3, 5]</text>\r\n",
       "</g>\r\n",
       "<!-- 3&#45;&gt;4 -->\r\n",
       "<g id=\"edge4\" class=\"edge\"><title>3&#45;&gt;4</title>\r\n",
       "<path fill=\"none\" stroke=\"black\" d=\"M148.844,-192.884C143.898,-184.332 138.508,-175.013 133.336,-166.072\"/>\r\n",
       "<polygon fill=\"black\" stroke=\"black\" points=\"136.298,-164.203 128.261,-157.299 130.239,-167.708 136.298,-164.203\"/>\r\n",
       "</g>\r\n",
       "<!-- 7 -->\r\n",
       "<g id=\"node8\" class=\"node\"><title>7</title>\r\n",
       "<polygon fill=\"none\" stroke=\"black\" points=\"272.5,-149.5 181.5,-149.5 181.5,-96.5 272.5,-96.5 272.5,-149.5\"/>\r\n",
       "<text text-anchor=\"middle\" x=\"227\" y=\"-134.3\" font-family=\"Times New Roman,serif\" font-size=\"14.00\">gini = 0.0</text>\r\n",
       "<text text-anchor=\"middle\" x=\"227\" y=\"-119.3\" font-family=\"Times New Roman,serif\" font-size=\"14.00\">samples = 7</text>\r\n",
       "<text text-anchor=\"middle\" x=\"227\" y=\"-104.3\" font-family=\"Times New Roman,serif\" font-size=\"14.00\">value = [7, 0]</text>\r\n",
       "</g>\r\n",
       "<!-- 3&#45;&gt;7 -->\r\n",
       "<g id=\"edge7\" class=\"edge\"><title>3&#45;&gt;7</title>\r\n",
       "<path fill=\"none\" stroke=\"black\" d=\"M187.156,-192.884C193.581,-181.776 200.755,-169.372 207.227,-158.184\"/>\r\n",
       "<polygon fill=\"black\" stroke=\"black\" points=\"210.261,-159.929 212.238,-149.52 204.202,-156.424 210.261,-159.929\"/>\r\n",
       "</g>\r\n",
       "<!-- 5 -->\r\n",
       "<g id=\"node6\" class=\"node\"><title>5</title>\r\n",
       "<polygon fill=\"none\" stroke=\"black\" points=\"100.5,-53 9.5,-53 9.5,-0 100.5,-0 100.5,-53\"/>\r\n",
       "<text text-anchor=\"middle\" x=\"55\" y=\"-37.8\" font-family=\"Times New Roman,serif\" font-size=\"14.00\">gini = 0.0</text>\r\n",
       "<text text-anchor=\"middle\" x=\"55\" y=\"-22.8\" font-family=\"Times New Roman,serif\" font-size=\"14.00\">samples = 3</text>\r\n",
       "<text text-anchor=\"middle\" x=\"55\" y=\"-7.8\" font-family=\"Times New Roman,serif\" font-size=\"14.00\">value = [3, 0]</text>\r\n",
       "</g>\r\n",
       "<!-- 4&#45;&gt;5 -->\r\n",
       "<g id=\"edge5\" class=\"edge\"><title>4&#45;&gt;5</title>\r\n",
       "<path fill=\"none\" stroke=\"black\" d=\"M90.1134,-88.9485C85.1474,-80.2579 79.7776,-70.8608 74.7667,-62.0917\"/>\r\n",
       "<polygon fill=\"black\" stroke=\"black\" points=\"77.707,-60.1826 69.7067,-53.2367 71.6293,-63.6557 77.707,-60.1826\"/>\r\n",
       "</g>\r\n",
       "<!-- 6 -->\r\n",
       "<g id=\"node7\" class=\"node\"><title>6</title>\r\n",
       "<polygon fill=\"none\" stroke=\"black\" points=\"209.5,-53 118.5,-53 118.5,-0 209.5,-0 209.5,-53\"/>\r\n",
       "<text text-anchor=\"middle\" x=\"164\" y=\"-37.8\" font-family=\"Times New Roman,serif\" font-size=\"14.00\">gini = 0.0</text>\r\n",
       "<text text-anchor=\"middle\" x=\"164\" y=\"-22.8\" font-family=\"Times New Roman,serif\" font-size=\"14.00\">samples = 5</text>\r\n",
       "<text text-anchor=\"middle\" x=\"164\" y=\"-7.8\" font-family=\"Times New Roman,serif\" font-size=\"14.00\">value = [0, 5]</text>\r\n",
       "</g>\r\n",
       "<!-- 4&#45;&gt;6 -->\r\n",
       "<g id=\"edge6\" class=\"edge\"><title>4&#45;&gt;6</title>\r\n",
       "<path fill=\"none\" stroke=\"black\" d=\"M128.236,-88.9485C133.294,-80.2579 138.764,-70.8608 143.867,-62.0917\"/>\r\n",
       "<polygon fill=\"black\" stroke=\"black\" points=\"147.016,-63.6401 149.021,-53.2367 140.966,-60.1189 147.016,-63.6401\"/>\r\n",
       "</g>\r\n",
       "</g>\r\n",
       "</svg>\r\n"
      ],
      "text/plain": [
       "<graphviz.files.Source at 0x2148ab3dac8>"
      ]
     },
     "execution_count": 13,
     "metadata": {},
     "output_type": "execute_result"
    }
   ],
   "source": [
    "if(isinstance(classifier, BaseRandomOracles)):\n",
    "    dot_data = export_graphviz(classifier._classifiers_train[0], out_file=None)\n",
    "else:\n",
    "    dot_data = export_graphviz(classifier.base_estimator, out_file=None)\n",
    "graph = graphviz.Source(dot_data)\n",
    "graph\n"
   ]
  },
  {
   "cell_type": "markdown",
   "metadata": {},
   "source": [
    "Croos Validation <a id='cross'></a>"
   ]
  },
  {
   "cell_type": "code",
   "execution_count": 14,
   "metadata": {
    "collapsed": false
   },
   "outputs": [
    {
     "name": "stdout",
     "output_type": "stream",
     "text": [
      "[ 0.85  0.9   0.8   0.95  1.  ]\n",
      "0.9\n"
     ]
    }
   ],
   "source": [
    "scores = cross_val_score(classifier, X, y, cv=cross_v)\n",
    "average=np.mean(scores)\n",
    "print(scores)\n",
    "print(average)"
   ]
  },
  {
   "cell_type": "code",
   "execution_count": null,
   "metadata": {
    "collapsed": true
   },
   "outputs": [],
   "source": []
  }
 ],
 "metadata": {
  "kernelspec": {
   "display_name": "Python 3",
   "language": "python",
   "name": "python3"
  },
  "language_info": {
   "codemirror_mode": {
    "name": "ipython",
    "version": 3
   },
   "file_extension": ".py",
   "mimetype": "text/x-python",
   "name": "python",
   "nbconvert_exporter": "python",
   "pygments_lexer": "ipython3",
   "version": "3.6.0"
  }
 },
 "nbformat": 4,
 "nbformat_minor": 2
}
