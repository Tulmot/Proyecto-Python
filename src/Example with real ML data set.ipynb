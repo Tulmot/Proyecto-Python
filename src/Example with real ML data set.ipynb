{
 "cells": [
  {
   "cell_type": "markdown",
   "metadata": {},
   "source": [
    "<img src=\"http://www.ubu.es/sites/default/files/portal_page/images/logo_color_2l_dcha.jpg\" height=\"200\" width=\"200\" align=\"right\"/> \n",
    "### Author: Eduardo Tubilleja Calvo \n",
    "### Director: Álvar Arnaiz González \n",
    "### Director: Juan José Rodríguez Díez\n",
    "### Title: Example with real ML data set"
   ]
  },
  {
   "cell_type": "markdown",
   "metadata": {},
   "source": [
    "### Table of contents:\n",
    "* [Select the classifier](#classifier)\n",
    "* [Fit the classifier](#fit)\n",
    "* [Make a predict](#predict)\n",
    "* [Make a predict_proba](#predict_proba)\n",
    "* [Calculate measures](#measures)\n",
    "* [Make CrossValidation](#cross)"
   ]
  },
  {
   "cell_type": "markdown",
   "metadata": {},
   "source": [
    "In this notebook, we will see the example of an ensemble on base classifiers, than from a set of real data obtained from [Mulan](http://mulan.sourceforge.net/datasets-mlc.html), we train and predict them.\n",
    "\n",
    "After this, different sklearn distances and measures are calculated, and we draw a tree to better appreciate the results.\n",
    "\n",
    "Finally we use cross validation."
   ]
  },
  {
   "cell_type": "code",
   "execution_count": 3,
   "metadata": {
    "collapsed": true
   },
   "outputs": [],
   "source": [
    "import numpy as np\n",
    "import arff\n",
    "\n",
    "from sklearn.datasets import make_multilabel_classification\n",
    "from sklearn.metrics import hamming_loss\n",
    "from sklearn.metrics import accuracy_score\n",
    "from sklearn.metrics import jaccard_similarity_score\n",
    "from sklearn.metrics import zero_one_loss\n",
    "from sklearn.metrics import f1_score\n",
    "from sklearn.metrics import precision_score\n",
    "from sklearn.metrics import fbeta_score\n",
    "from sklearn.metrics import recall_score\n",
    "from sklearn.model_selection import train_test_split\n",
    "from sklearn.tree import DecisionTreeClassifier\n",
    "from sklearn.model_selection import cross_val_score\n",
    "\n",
    "from sklearn_ubu.disturbing_neighbors import DisturbingNeighbors\n",
    "from sklearn_ubu.random_oracles import RandomOracles\n",
    "from sklearn_ubu.rotation_forest import RotationForest"
   ]
  },
  {
   "cell_type": "markdown",
   "metadata": {},
   "source": [
    "Read the file that contains the data set that we are going to use"
   ]
  },
  {
   "cell_type": "code",
   "execution_count": 2,
   "metadata": {
    "collapsed": false
   },
   "outputs": [
    {
     "data": {
      "text/plain": [
       "array([[ 0.,  0.,  0., ...,  1.,  1.,  0.],\n",
       "       [ 0.,  0.,  1., ...,  0.,  1.,  0.],\n",
       "       [ 0.,  0.,  0., ...,  1.,  0.,  0.],\n",
       "       ..., \n",
       "       [ 0.,  0.,  0., ...,  0.,  0.,  1.],\n",
       "       [ 0.,  0.,  0., ...,  0.,  1.,  1.],\n",
       "       [ 0.,  0.,  0., ...,  1.,  1.,  0.]])"
      ]
     },
     "execution_count": 2,
     "metadata": {},
     "output_type": "execute_result"
    }
   ],
   "source": [
    "dataset = arff.load(open('flags.arff', \"r\"))\n",
    "data = np.array(dataset['data'], dtype=float)\n",
    "data"
   ]
  },
  {
   "cell_type": "code",
   "execution_count": 3,
   "metadata": {
    "collapsed": false,
    "scrolled": true
   },
   "outputs": [],
   "source": [
    "rows = np.arange(0,data.shape[0])\n",
    "columnsX = np.arange(0,data.shape[1]-7)\n",
    "columnsy = np.arange(data.shape[1]-7,data.shape[1])\n",
    "rows[:, np.newaxis]\n",
    "X=data[rows[:, np.newaxis], columnsX]\n",
    "y=data[rows[:, np.newaxis], columnsy]\n"
   ]
  },
  {
   "cell_type": "markdown",
   "metadata": {},
   "source": [
    "Select classifier Disturbing Neighbors or Random Oracles or Rotation Forest <a id='classifier'></a>"
   ]
  },
  {
   "cell_type": "code",
   "execution_count": 4,
   "metadata": {
    "collapsed": false
   },
   "outputs": [],
   "source": [
    "classifier = DisturbingNeighbors()"
   ]
  },
  {
   "cell_type": "code",
   "execution_count": 8,
   "metadata": {
    "collapsed": true
   },
   "outputs": [],
   "source": [
    "classifier = RandomOracles()"
   ]
  },
  {
   "cell_type": "code",
   "execution_count": 5,
   "metadata": {
    "collapsed": true
   },
   "outputs": [],
   "source": [
    "classifier = RotationForest()"
   ]
  },
  {
   "cell_type": "code",
   "execution_count": 5,
   "metadata": {
    "collapsed": true
   },
   "outputs": [],
   "source": [
    "X_train, X_test, y_train, y_test = train_test_split(\n",
    "                X, y, test_size=0.5, train_size=0.5)\n"
   ]
  },
  {
   "cell_type": "markdown",
   "metadata": {},
   "source": [
    "Train of classifier<a id='fit'></a>"
   ]
  },
  {
   "cell_type": "code",
   "execution_count": 6,
   "metadata": {
    "collapsed": true
   },
   "outputs": [],
   "source": [
    "classifier_train = classifier.fit(X_train, y_train)"
   ]
  },
  {
   "cell_type": "markdown",
   "metadata": {},
   "source": [
    "After being fitted, the model can then be used to predict the class of samples: <a id='predict'></a>"
   ]
  },
  {
   "cell_type": "code",
   "execution_count": 7,
   "metadata": {
    "collapsed": false
   },
   "outputs": [],
   "source": [
    "y_predict = classifier.predict(X_test)\n"
   ]
  },
  {
   "cell_type": "markdown",
   "metadata": {},
   "source": [
    "Alternatively, the probability of each class can be predicted, which is the fraction of training samples of the same class in a leaf:<a id='predict_proba'></a>"
   ]
  },
  {
   "cell_type": "code",
   "execution_count": 8,
   "metadata": {
    "collapsed": true
   },
   "outputs": [],
   "source": [
    "y_predict_proba = classifier.predict_proba(X_test)\n"
   ]
  },
  {
   "cell_type": "markdown",
   "metadata": {},
   "source": [
    "Calculate different distances and measures <a id='measures'></a>"
   ]
  },
  {
   "cell_type": "code",
   "execution_count": 11,
   "metadata": {
    "collapsed": false
   },
   "outputs": [
    {
     "name": "stdout",
     "output_type": "stream",
     "text": [
      "F1 Score: 0.706422018349\n",
      "Precision Score: 0.702127659574\n",
      "Fbeta Score: 0.703839122486\n",
      "Recall Score: 0.710769230769\n"
     ]
    }
   ],
   "source": [
    "dist_hamming = hamming_loss(y_test, y_predict)\n",
    "print(\"Hamming Loss:\", dist_hamming)\n",
    "\n",
    "dist_accuracy = accuracy_score(y_test, y_predict)\n",
    "print(\"Accuracy Score:\", dist_accuracy)\n",
    "\n",
    "dist_jaccard = jaccard_similarity_score(y_test, y_predict)\n",
    "print(\"Jaccard Similarity Score:\", dist_jaccard)\n",
    "\n",
    "dist_zero_one = zero_one_loss(y_test, y_predict)\n",
    "print(\"Zero One Loss:\", dist_zero_one)\n",
    "\n",
    "measure_f1 = f1_score(y_test, y_predict, average='micro')\n",
    "print(\"F1 Score:\", measure_f1)\n",
    "\n",
    "measure_precision = precision_score(y_test, y_predict, average='micro')\n",
    "print(\"Precision Score:\", measure_precision)\n",
    "\n",
    "measure_fbeta = fbeta_score(y_test, y_predict, average='micro', beta=0.5)\n",
    "print(\"Fbeta Score:\", measure_fbeta)\n",
    "\n",
    "measure_recall = recall_score(y_test, y_predict, average='micro')\n",
    "print(\"Recall Score:\", measure_recall)"
   ]
  },
  {
   "cell_type": "markdown",
   "metadata": {},
   "source": [
    "Croos Validation <a id='cross'></a>"
   ]
  },
  {
   "cell_type": "code",
   "execution_count": 16,
   "metadata": {
    "collapsed": false
   },
   "outputs": [
    {
     "name": "stdout",
     "output_type": "stream",
     "text": [
      "[ 0.20512821  0.23076923  0.17948718  0.28205128  0.15789474]\n"
     ]
    }
   ],
   "source": [
    "scores = cross_val_score(classifier, X, y, cv=5)\n",
    "print(scores)"
   ]
  }
 ],
 "metadata": {
  "kernelspec": {
   "display_name": "Python 3",
   "language": "python",
   "name": "python3"
  },
  "language_info": {
   "codemirror_mode": {
    "name": "ipython",
    "version": 3
   },
   "file_extension": ".py",
   "mimetype": "text/x-python",
   "name": "python",
   "nbconvert_exporter": "python",
   "pygments_lexer": "ipython3",
   "version": "3.6.0"
  }
 },
 "nbformat": 4,
 "nbformat_minor": 2
}
