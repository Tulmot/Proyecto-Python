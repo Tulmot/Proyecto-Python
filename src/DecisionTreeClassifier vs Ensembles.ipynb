{
 "cells": [
  {
   "cell_type": "markdown",
   "metadata": {},
   "source": [
    "<img src=\"http://www.ubu.es/sites/default/files/portal_page/images/logo_color_2l_dcha.jpg\" height=\"200\" width=\"200\" align=\"right\"/> \n",
    "### Author: Eduardo Tubilleja Calvo \n",
    "### Director: Álvar Arnaiz González \n",
    "### Director: Juan José Rodríguez Díez\n",
    "### Title: DecisionTreeClassifier vs Ensembles"
   ]
  },
  {
   "cell_type": "markdown",
   "metadata": {},
   "source": [
    "### Table of contents:\n",
    "* [Select the parameters](#parameters)\n",
    "* [Generate datasets](#datasets)\n",
    "* [Create classifiers](#classifiers)\n",
    "* [Make CrossValidation](#cross)\n",
    "* [Results accuracy](#accuracy)\n",
    "* [Results precision](#precision)\n",
    "* [Results recall](#recall)\n",
    "* [Results f1](#f1)"
   ]
  },
  {
   "cell_type": "markdown",
   "metadata": {},
   "source": [
    "In thi notebook shows the comparison of the Disturbing Neighbors, Random Oracles, Rotation Forest and DecisionTreeClassifier algorithms. In which we will calculate measures to see which classifier is better in terms of precision"
   ]
  },
  {
   "cell_type": "code",
   "execution_count": 1,
   "metadata": {
    "collapsed": false
   },
   "outputs": [],
   "source": [
    "import numpy as np\n",
    "import pandas as pd\n",
    "\n",
    "from sklearn.tree import DecisionTreeClassifier\n",
    "from sklearn.datasets import make_moons, make_circles, make_classification, make_multilabel_classification\n",
    "from sklearn.model_selection import cross_val_score\n",
    "from sklearn.model_selection import train_test_split\n",
    "\n",
    "from sklearn.metrics import f1_score\n",
    "from sklearn.metrics import recall_score\n",
    "from sklearn.metrics import precision_score\n",
    "\n",
    "from sklearn_ubu.disturbing_neighbors import DisturbingNeighbors\n",
    "from sklearn_ubu.random_oracles import RandomOracles\n",
    "from sklearn_ubu.rotation_forest import RotationForest"
   ]
  },
  {
   "cell_type": "markdown",
   "metadata": {},
   "source": [
    "We create the different parameters, to which we give the desired value.\n",
    "\n",
    "To test different sets, the characteristics and classes of each data set are varied.<a id='parameters'></a>"
   ]
  },
  {
   "cell_type": "code",
   "execution_count": 3,
   "metadata": {
    "collapsed": false
   },
   "outputs": [],
   "source": [
    "seed=1\n",
    "num_samples=2500\n",
    "num_datasets=5\n",
    "num_features=7\n",
    "num_classes=2\n",
    "cross_v=5\n",
    "list_tuples=[]\n",
    "names_rows=[]\n",
    "for i in range(num_datasets):\n",
    "    num_features=num_features+3\n",
    "    num_classes=num_classes+1\n",
    "    list_tuples.append((num_features,num_classes))\n",
    "    names_rows.append('dataset' + str(i+1) )\n",
    "names_rows.append('mean')"
   ]
  },
  {
   "cell_type": "markdown",
   "metadata": {},
   "source": [
    "The different data sets are generated according to the number of data sets that we have indicated.<a id='datasets'></a>"
   ]
  },
  {
   "cell_type": "code",
   "execution_count": 4,
   "metadata": {
    "collapsed": false
   },
   "outputs": [],
   "source": [
    "X=[]\n",
    "y=[]\n",
    "y_test=[]\n",
    "for i in range(num_datasets):\n",
    "    X.append(make_multilabel_classification(\n",
    "        n_samples=num_samples, n_features=list_tuples[i][0], n_classes=list_tuples[i][1],  random_state=seed)[0])\n",
    "    y.append(make_multilabel_classification(\n",
    "        n_samples=num_samples, n_features=list_tuples[i][0], n_classes=list_tuples[i][1],  random_state=seed)[1])"
   ]
  },
  {
   "cell_type": "markdown",
   "metadata": {},
   "source": [
    "Create classifiers<a id='classifiers'></a>"
   ]
  },
  {
   "cell_type": "code",
   "execution_count": 7,
   "metadata": {
    "collapsed": false
   },
   "outputs": [],
   "source": [
    "classifier=[]\n",
    "classifier.append(DisturbingNeighbors(n_neighbors=20, n_features=2))\n",
    "classifier.append(RandomOracles(n_oracles=5))\n",
    "classifier.append(RotationForest(n_groups=5))\n",
    "classifier.append(DecisionTreeClassifier())"
   ]
  },
  {
   "cell_type": "markdown",
   "metadata": {},
   "source": [
    "Cross validation is calculated, with the accuracy measure, on each of the classifiers, and the average is calculated.<a id='cross'></a>"
   ]
  },
  {
   "cell_type": "code",
   "execution_count": 8,
   "metadata": {
    "collapsed": false
   },
   "outputs": [],
   "source": [
    "ensembles_accuracy=[]\n",
    "ensembles_precision=[]\n",
    "ensembles_recall_score=[]\n",
    "ensembles_f1=[]\n",
    "for i in range(len(classifier)):\n",
    "    accuracy=[]\n",
    "    precision=[]\n",
    "    recall_score=[]\n",
    "    f1=[]\n",
    "    for j in range(num_datasets):\n",
    "        accuracy.append(np.mean(cross_val_score(classifier[i], X[j], y[j],scoring='accuracy', cv=cross_v)))\n",
    "        precision.append(np.mean(cross_val_score(classifier[i], X[j], y[j],scoring='precision_micro', cv=cross_v)))\n",
    "        recall_score.append(np.mean(cross_val_score(classifier[i], X[j], y[j],scoring='recall_micro', cv=cross_v)))\n",
    "        f1.append(np.mean(cross_val_score(classifier[i], X[j], y[j],scoring='f1_micro', cv=cross_v)))\n",
    "        \n",
    "    accuracy.append(np.mean(accuracy))\n",
    "    ensembles_accuracy.append(accuracy)\n",
    "    \n",
    "    precision.append(np.mean(precision))\n",
    "    ensembles_precision.append(precision)\n",
    "    \n",
    "    recall_score.append(np.mean(recall_score))\n",
    "    ensembles_recall_score.append(recall_score)\n",
    "    \n",
    "    f1.append(np.mean(f1))\n",
    "    ensembles_f1.append(f1)"
   ]
  },
  {
   "cell_type": "code",
   "execution_count": 9,
   "metadata": {
    "collapsed": false
   },
   "outputs": [],
   "source": [
    "ensembles_accuracy = np.array(ensembles_accuracy).T\n",
    "ensembles_accuracy=list(ensembles_accuracy)\n",
    "\n",
    "ensembles_precision = np.array(ensembles_precision).T\n",
    "ensembles_precision=list(ensembles_precision)\n",
    "\n",
    "ensembles_recall_score = np.array(ensembles_recall_score).T\n",
    "ensembles_recall_score=list(ensembles_recall_score)\n",
    "\n",
    "ensembles_f1 = np.array(ensembles_f1).T\n",
    "ensembles_f1=list(ensembles_f1)"
   ]
  },
  {
   "cell_type": "markdown",
   "metadata": {},
   "source": [
    "A test with 5 different data sets has been realized and the average of the 5 has been calculated. Thoses sets have been analyzed with the 3 algorithms realized and the DecisionTreeClassifier. \n"
   ]
  },
  {
   "cell_type": "markdown",
   "metadata": {},
   "source": [
    "The accuracy measure has been used. The accuracy computes subset accuracy: the set of labels predicted for a sample must exactly match the corresponding set of labels in y_true.\n",
    "\n",
    "Below is a table to see the results:<a id='accuracy'></a>"
   ]
  },
  {
   "cell_type": "code",
   "execution_count": 10,
   "metadata": {
    "collapsed": false
   },
   "outputs": [
    {
     "data": {
      "text/html": [
       "<div>\n",
       "<table border=\"1\" class=\"dataframe\">\n",
       "  <thead>\n",
       "    <tr style=\"text-align: right;\">\n",
       "      <th></th>\n",
       "      <th>Disturbing Neighbors</th>\n",
       "      <th>Random Oracles</th>\n",
       "      <th>Rotation Forest</th>\n",
       "      <th>Decision Tree Classifier</th>\n",
       "    </tr>\n",
       "  </thead>\n",
       "  <tbody>\n",
       "    <tr>\n",
       "      <th>dataset1</th>\n",
       "      <td>0.70120</td>\n",
       "      <td>0.77680</td>\n",
       "      <td>0.79040</td>\n",
       "      <td>0.6848</td>\n",
       "    </tr>\n",
       "    <tr>\n",
       "      <th>dataset2</th>\n",
       "      <td>0.46120</td>\n",
       "      <td>0.53560</td>\n",
       "      <td>0.54080</td>\n",
       "      <td>0.4456</td>\n",
       "    </tr>\n",
       "    <tr>\n",
       "      <th>dataset3</th>\n",
       "      <td>0.36920</td>\n",
       "      <td>0.45720</td>\n",
       "      <td>0.46080</td>\n",
       "      <td>0.3564</td>\n",
       "    </tr>\n",
       "    <tr>\n",
       "      <th>dataset4</th>\n",
       "      <td>0.28320</td>\n",
       "      <td>0.38000</td>\n",
       "      <td>0.36800</td>\n",
       "      <td>0.2784</td>\n",
       "    </tr>\n",
       "    <tr>\n",
       "      <th>dataset5</th>\n",
       "      <td>0.30640</td>\n",
       "      <td>0.39480</td>\n",
       "      <td>0.38560</td>\n",
       "      <td>0.2968</td>\n",
       "    </tr>\n",
       "    <tr>\n",
       "      <th>mean</th>\n",
       "      <td>0.42424</td>\n",
       "      <td>0.50888</td>\n",
       "      <td>0.50912</td>\n",
       "      <td>0.4124</td>\n",
       "    </tr>\n",
       "  </tbody>\n",
       "</table>\n",
       "</div>"
      ],
      "text/plain": [
       "          Disturbing Neighbors  Random Oracles  Rotation Forest  \\\n",
       "dataset1               0.70120         0.77680          0.79040   \n",
       "dataset2               0.46120         0.53560          0.54080   \n",
       "dataset3               0.36920         0.45720          0.46080   \n",
       "dataset4               0.28320         0.38000          0.36800   \n",
       "dataset5               0.30640         0.39480          0.38560   \n",
       "mean                   0.42424         0.50888          0.50912   \n",
       "\n",
       "          Decision Tree Classifier  \n",
       "dataset1                    0.6848  \n",
       "dataset2                    0.4456  \n",
       "dataset3                    0.3564  \n",
       "dataset4                    0.2784  \n",
       "dataset5                    0.2968  \n",
       "mean                        0.4124  "
      ]
     },
     "execution_count": 10,
     "metadata": {},
     "output_type": "execute_result"
    }
   ],
   "source": [
    "names_columns=['Disturbing Neighbors', 'Random Oracles', 'Rotation Forest', 'Decision Tree Classifier']\n",
    "df = pd.DataFrame(ensembles_accuracy, \\\n",
    "       columns=(names_columns), \\\n",
    "       index=(names_rows)) \n",
    "df"
   ]
  },
  {
   "cell_type": "markdown",
   "metadata": {},
   "source": [
    "The precision measure has been used. The precision is the ratio tp / (tp + fp) where tp is the number of true positives and fp the number of false positives. The precision is intuitively the ability of the classifier not to label as positive a sample that is negative.\n",
    "\n",
    "Below is a table to see the results:<a id='precision'></a>"
   ]
  },
  {
   "cell_type": "code",
   "execution_count": 11,
   "metadata": {
    "collapsed": false
   },
   "outputs": [
    {
     "data": {
      "text/html": [
       "<div>\n",
       "<table border=\"1\" class=\"dataframe\">\n",
       "  <thead>\n",
       "    <tr style=\"text-align: right;\">\n",
       "      <th></th>\n",
       "      <th>Disturbing Neighbors</th>\n",
       "      <th>Random Oracles</th>\n",
       "      <th>Rotation Forest</th>\n",
       "      <th>Decision Tree Classifier</th>\n",
       "    </tr>\n",
       "  </thead>\n",
       "  <tbody>\n",
       "    <tr>\n",
       "      <th>dataset1</th>\n",
       "      <td>0.848033</td>\n",
       "      <td>0.879104</td>\n",
       "      <td>0.889221</td>\n",
       "      <td>0.843222</td>\n",
       "    </tr>\n",
       "    <tr>\n",
       "      <th>dataset2</th>\n",
       "      <td>0.740773</td>\n",
       "      <td>0.796107</td>\n",
       "      <td>0.799953</td>\n",
       "      <td>0.735488</td>\n",
       "    </tr>\n",
       "    <tr>\n",
       "      <th>dataset3</th>\n",
       "      <td>0.685363</td>\n",
       "      <td>0.760399</td>\n",
       "      <td>0.761327</td>\n",
       "      <td>0.682705</td>\n",
       "    </tr>\n",
       "    <tr>\n",
       "      <th>dataset4</th>\n",
       "      <td>0.592855</td>\n",
       "      <td>0.698554</td>\n",
       "      <td>0.714132</td>\n",
       "      <td>0.593511</td>\n",
       "    </tr>\n",
       "    <tr>\n",
       "      <th>dataset5</th>\n",
       "      <td>0.590578</td>\n",
       "      <td>0.695939</td>\n",
       "      <td>0.721433</td>\n",
       "      <td>0.583411</td>\n",
       "    </tr>\n",
       "    <tr>\n",
       "      <th>mean</th>\n",
       "      <td>0.691520</td>\n",
       "      <td>0.766021</td>\n",
       "      <td>0.777213</td>\n",
       "      <td>0.687667</td>\n",
       "    </tr>\n",
       "  </tbody>\n",
       "</table>\n",
       "</div>"
      ],
      "text/plain": [
       "          Disturbing Neighbors  Random Oracles  Rotation Forest  \\\n",
       "dataset1              0.848033        0.879104         0.889221   \n",
       "dataset2              0.740773        0.796107         0.799953   \n",
       "dataset3              0.685363        0.760399         0.761327   \n",
       "dataset4              0.592855        0.698554         0.714132   \n",
       "dataset5              0.590578        0.695939         0.721433   \n",
       "mean                  0.691520        0.766021         0.777213   \n",
       "\n",
       "          Decision Tree Classifier  \n",
       "dataset1                  0.843222  \n",
       "dataset2                  0.735488  \n",
       "dataset3                  0.682705  \n",
       "dataset4                  0.593511  \n",
       "dataset5                  0.583411  \n",
       "mean                      0.687667  "
      ]
     },
     "execution_count": 11,
     "metadata": {},
     "output_type": "execute_result"
    }
   ],
   "source": [
    "names_columns=['Disturbing Neighbors', 'Random Oracles', 'Rotation Forest', 'Decision Tree Classifier']\n",
    "df = pd.DataFrame(ensembles_precision, \\\n",
    "       columns=(names_columns), \\\n",
    "       index=(names_rows)) \n",
    "df"
   ]
  },
  {
   "cell_type": "markdown",
   "metadata": {},
   "source": [
    "The recall score measure has been used. The recall is the ratio tp / (tp + fn) where tp is the number of true positives and fn the number of false negatives. The recall is intuitively the ability of the classifier to find all the positive samples.\n",
    "\n",
    "Below is a table to see the results:<a id='recall'></a>"
   ]
  },
  {
   "cell_type": "code",
   "execution_count": 12,
   "metadata": {
    "collapsed": false
   },
   "outputs": [
    {
     "data": {
      "text/html": [
       "<div>\n",
       "<table border=\"1\" class=\"dataframe\">\n",
       "  <thead>\n",
       "    <tr style=\"text-align: right;\">\n",
       "      <th></th>\n",
       "      <th>Disturbing Neighbors</th>\n",
       "      <th>Random Oracles</th>\n",
       "      <th>Rotation Forest</th>\n",
       "      <th>Decision Tree Classifier</th>\n",
       "    </tr>\n",
       "  </thead>\n",
       "  <tbody>\n",
       "    <tr>\n",
       "      <th>dataset1</th>\n",
       "      <td>0.862488</td>\n",
       "      <td>0.919093</td>\n",
       "      <td>0.919785</td>\n",
       "      <td>0.848409</td>\n",
       "    </tr>\n",
       "    <tr>\n",
       "      <th>dataset2</th>\n",
       "      <td>0.786409</td>\n",
       "      <td>0.856021</td>\n",
       "      <td>0.862141</td>\n",
       "      <td>0.761742</td>\n",
       "    </tr>\n",
       "    <tr>\n",
       "      <th>dataset3</th>\n",
       "      <td>0.712864</td>\n",
       "      <td>0.811667</td>\n",
       "      <td>0.824922</td>\n",
       "      <td>0.694648</td>\n",
       "    </tr>\n",
       "    <tr>\n",
       "      <th>dataset4</th>\n",
       "      <td>0.630400</td>\n",
       "      <td>0.705606</td>\n",
       "      <td>0.701404</td>\n",
       "      <td>0.612479</td>\n",
       "    </tr>\n",
       "    <tr>\n",
       "      <th>dataset5</th>\n",
       "      <td>0.627221</td>\n",
       "      <td>0.679977</td>\n",
       "      <td>0.669661</td>\n",
       "      <td>0.604858</td>\n",
       "    </tr>\n",
       "    <tr>\n",
       "      <th>mean</th>\n",
       "      <td>0.723877</td>\n",
       "      <td>0.794473</td>\n",
       "      <td>0.795583</td>\n",
       "      <td>0.704427</td>\n",
       "    </tr>\n",
       "  </tbody>\n",
       "</table>\n",
       "</div>"
      ],
      "text/plain": [
       "          Disturbing Neighbors  Random Oracles  Rotation Forest  \\\n",
       "dataset1              0.862488        0.919093         0.919785   \n",
       "dataset2              0.786409        0.856021         0.862141   \n",
       "dataset3              0.712864        0.811667         0.824922   \n",
       "dataset4              0.630400        0.705606         0.701404   \n",
       "dataset5              0.627221        0.679977         0.669661   \n",
       "mean                  0.723877        0.794473         0.795583   \n",
       "\n",
       "          Decision Tree Classifier  \n",
       "dataset1                  0.848409  \n",
       "dataset2                  0.761742  \n",
       "dataset3                  0.694648  \n",
       "dataset4                  0.612479  \n",
       "dataset5                  0.604858  \n",
       "mean                      0.704427  "
      ]
     },
     "execution_count": 12,
     "metadata": {},
     "output_type": "execute_result"
    }
   ],
   "source": [
    "names_columns=['Disturbing Neighbors', 'Random Oracles', 'Rotation Forest', 'Decision Tree Classifier']\n",
    "df = pd.DataFrame(ensembles_recall_score, \\\n",
    "       columns=(names_columns), \\\n",
    "       index=(names_rows)) \n",
    "df"
   ]
  },
  {
   "cell_type": "markdown",
   "metadata": {},
   "source": [
    "The f1 measure has been used. The F1 score can be interpreted as a weighted average of the precision and recall, where an F1 score reaches its best value at 1 and worst score at 0.\n",
    "\n",
    "Below is a table to see the results:<a id='f1'></a>"
   ]
  },
  {
   "cell_type": "code",
   "execution_count": 13,
   "metadata": {
    "collapsed": false
   },
   "outputs": [
    {
     "data": {
      "text/html": [
       "<div>\n",
       "<table border=\"1\" class=\"dataframe\">\n",
       "  <thead>\n",
       "    <tr style=\"text-align: right;\">\n",
       "      <th></th>\n",
       "      <th>Disturbing Neighbors</th>\n",
       "      <th>Random Oracles</th>\n",
       "      <th>Rotation Forest</th>\n",
       "      <th>Decision Tree Classifier</th>\n",
       "    </tr>\n",
       "  </thead>\n",
       "  <tbody>\n",
       "    <tr>\n",
       "      <th>dataset1</th>\n",
       "      <td>0.852223</td>\n",
       "      <td>0.899392</td>\n",
       "      <td>0.904484</td>\n",
       "      <td>0.847844</td>\n",
       "    </tr>\n",
       "    <tr>\n",
       "      <th>dataset2</th>\n",
       "      <td>0.756722</td>\n",
       "      <td>0.825919</td>\n",
       "      <td>0.828408</td>\n",
       "      <td>0.745463</td>\n",
       "    </tr>\n",
       "    <tr>\n",
       "      <th>dataset3</th>\n",
       "      <td>0.702520</td>\n",
       "      <td>0.784954</td>\n",
       "      <td>0.788631</td>\n",
       "      <td>0.683785</td>\n",
       "    </tr>\n",
       "    <tr>\n",
       "      <th>dataset4</th>\n",
       "      <td>0.614911</td>\n",
       "      <td>0.707448</td>\n",
       "      <td>0.704014</td>\n",
       "      <td>0.603844</td>\n",
       "    </tr>\n",
       "    <tr>\n",
       "      <th>dataset5</th>\n",
       "      <td>0.607821</td>\n",
       "      <td>0.688923</td>\n",
       "      <td>0.690003</td>\n",
       "      <td>0.592305</td>\n",
       "    </tr>\n",
       "    <tr>\n",
       "      <th>mean</th>\n",
       "      <td>0.706839</td>\n",
       "      <td>0.781327</td>\n",
       "      <td>0.783108</td>\n",
       "      <td>0.694648</td>\n",
       "    </tr>\n",
       "  </tbody>\n",
       "</table>\n",
       "</div>"
      ],
      "text/plain": [
       "          Disturbing Neighbors  Random Oracles  Rotation Forest  \\\n",
       "dataset1              0.852223        0.899392         0.904484   \n",
       "dataset2              0.756722        0.825919         0.828408   \n",
       "dataset3              0.702520        0.784954         0.788631   \n",
       "dataset4              0.614911        0.707448         0.704014   \n",
       "dataset5              0.607821        0.688923         0.690003   \n",
       "mean                  0.706839        0.781327         0.783108   \n",
       "\n",
       "          Decision Tree Classifier  \n",
       "dataset1                  0.847844  \n",
       "dataset2                  0.745463  \n",
       "dataset3                  0.683785  \n",
       "dataset4                  0.603844  \n",
       "dataset5                  0.592305  \n",
       "mean                      0.694648  "
      ]
     },
     "execution_count": 13,
     "metadata": {},
     "output_type": "execute_result"
    }
   ],
   "source": [
    "names_columns=['Disturbing Neighbors', 'Random Oracles', 'Rotation Forest', 'Decision Tree Classifier']\n",
    "df = pd.DataFrame(ensembles_f1, \\\n",
    "       columns=(names_columns), \\\n",
    "       index=(names_rows)) \n",
    "df"
   ]
  }
 ],
 "metadata": {
  "kernelspec": {
   "display_name": "Python 3",
   "language": "python",
   "name": "python3"
  },
  "language_info": {
   "codemirror_mode": {
    "name": "ipython",
    "version": 3
   },
   "file_extension": ".py",
   "mimetype": "text/x-python",
   "name": "python",
   "nbconvert_exporter": "python",
   "pygments_lexer": "ipython3",
   "version": "3.6.0"
  }
 },
 "nbformat": 4,
 "nbformat_minor": 2
}
