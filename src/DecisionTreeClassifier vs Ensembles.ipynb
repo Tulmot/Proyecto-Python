{
 "cells": [
  {
   "cell_type": "code",
   "execution_count": 1,
   "metadata": {
    "collapsed": false
   },
   "outputs": [],
   "source": [
    "import numpy as np\n",
    "import pandas as pd\n",
    "\n",
    "from sklearn.tree import DecisionTreeClassifier\n",
    "from sklearn.datasets import make_moons, make_circles, make_classification, make_multilabel_classification\n",
    "from sklearn.model_selection import cross_val_score\n",
    "from sklearn.model_selection import train_test_split\n",
    "\n",
    "from sklearn.metrics import f1_score\n",
    "from sklearn.metrics import f1_score\n",
    "from sklearn.metrics import average_precision_score\n",
    "from sklearn.metrics import precision_score\n",
    "\n",
    "from sklearn_ubu.disturbing_neighbors import DisturbingNeighbors\n",
    "from sklearn_ubu.random_oracles import RandomOracles\n",
    "from sklearn_ubu.rotation_forest import RotationForest"
   ]
  },
  {
   "cell_type": "code",
   "execution_count": 13,
   "metadata": {
    "collapsed": false
   },
   "outputs": [],
   "source": [
    "seed=0\n",
    "num_datasets=5\n",
    "num_features=5\n",
    "num_classes=2\n",
    "num_labels=1\n",
    "list_tuples=[]\n",
    "names_rows=[]\n",
    "for i in range(num_datasets):\n",
    "    num_features=num_features+3\n",
    "    num_classes=num_classes+2\n",
    "    num_labels=num_labels+1\n",
    "    list_tuples.append((num_features,num_classes,num_labels))\n",
    "    names_rows.append('dataset' + str(i+1) )\n",
    "names_rows.append('mean')"
   ]
  },
  {
   "cell_type": "code",
   "execution_count": 14,
   "metadata": {
    "collapsed": false
   },
   "outputs": [],
   "source": [
    "X=[]\n",
    "y=[]\n",
    "y_test=[]\n",
    "for i in range(num_datasets):\n",
    "    X.append(make_multilabel_classification(\n",
    "        n_samples=2500, n_features=list_tuples[i][0], n_classes=list_tuples[i][1],\n",
    "        n_labels=list_tuples[i][2],  random_state=seed)[0])\n",
    "    y.append(make_multilabel_classification(\n",
    "        n_samples=2500, n_features=list_tuples[i][0], n_classes=list_tuples[i][1],\n",
    "        n_labels=list_tuples[i][2],  random_state=seed)[1])"
   ]
  },
  {
   "cell_type": "code",
   "execution_count": 15,
   "metadata": {
    "collapsed": false
   },
   "outputs": [],
   "source": [
    "classifier=[]\n",
    "classifier.append(DisturbingNeighbors(n_neighbors=20, n_features=2))\n",
    "classifier.append(RandomOracles(n_oracles=5))\n",
    "classifier.append(RotationForest(n_groups=5))\n",
    "classifier.append(DecisionTreeClassifier())"
   ]
  },
  {
   "cell_type": "code",
   "execution_count": 16,
   "metadata": {
    "collapsed": false
   },
   "outputs": [],
   "source": [
    "cross_v=5\n",
    "ensembles_accuracy=[]\n",
    "for i in range(len(classifier)):\n",
    "    accuracy=[]\n",
    "    for j in range(num_datasets):\n",
    "        accuracy.append(np.mean(cross_val_score(classifier[i], X[j], y[j],scoring='accuracy', cv=cross_v)))\n",
    "    accuracy.append(np.mean(accuracy))\n",
    "    ensembles_accuracy.append(accuracy)"
   ]
  },
  {
   "cell_type": "code",
   "execution_count": 17,
   "metadata": {
    "collapsed": false
   },
   "outputs": [
    {
     "data": {
      "text/plain": [
       "[array([ 0.37  ,  0.4224,  0.4372,  0.3608]),\n",
       " array([ 0.138 ,  0.1864,  0.1852,  0.1332]),\n",
       " array([ 0.0516,  0.0564,  0.0532,  0.046 ]),\n",
       " array([ 0.008 ,  0.0096,  0.0084,  0.0056]),\n",
       " array([ 0.0036,  0.0024,  0.002 ,  0.0036]),\n",
       " array([ 0.11424,  0.13544,  0.1372 ,  0.10984])]"
      ]
     },
     "execution_count": 17,
     "metadata": {},
     "output_type": "execute_result"
    }
   ],
   "source": [
    "ensembles_accuracy = np.array(ensembles_accuracy).T\n",
    "ensembles_accuracy=list(ensembles_accuracy)\n",
    "\n",
    "ensembles_accuracy"
   ]
  },
  {
   "cell_type": "markdown",
   "metadata": {},
   "source": [
    "A test with 5 different data sets has been realized and the average of the 5 has been calculated. Thoses sets have been analyzed with the 3 algorithms realized and the DecisionTreeClassifier. The accuracy measure has been used, with which we obtain the precision.\n",
    "\n",
    "Below is a table to see the results:"
   ]
  },
  {
   "cell_type": "code",
   "execution_count": 18,
   "metadata": {
    "collapsed": false
   },
   "outputs": [
    {
     "data": {
      "text/html": [
       "<div>\n",
       "<table border=\"1\" class=\"dataframe\">\n",
       "  <thead>\n",
       "    <tr style=\"text-align: right;\">\n",
       "      <th></th>\n",
       "      <th>Disturbing Neighbors</th>\n",
       "      <th>Random Oracles</th>\n",
       "      <th>Rotation Forest</th>\n",
       "      <th>Decision Tree Classifier</th>\n",
       "    </tr>\n",
       "  </thead>\n",
       "  <tbody>\n",
       "    <tr>\n",
       "      <th>dataset1</th>\n",
       "      <td>0.37000</td>\n",
       "      <td>0.42240</td>\n",
       "      <td>0.4372</td>\n",
       "      <td>0.36080</td>\n",
       "    </tr>\n",
       "    <tr>\n",
       "      <th>dataset2</th>\n",
       "      <td>0.13800</td>\n",
       "      <td>0.18640</td>\n",
       "      <td>0.1852</td>\n",
       "      <td>0.13320</td>\n",
       "    </tr>\n",
       "    <tr>\n",
       "      <th>dataset3</th>\n",
       "      <td>0.05160</td>\n",
       "      <td>0.05640</td>\n",
       "      <td>0.0532</td>\n",
       "      <td>0.04600</td>\n",
       "    </tr>\n",
       "    <tr>\n",
       "      <th>dataset4</th>\n",
       "      <td>0.00800</td>\n",
       "      <td>0.00960</td>\n",
       "      <td>0.0084</td>\n",
       "      <td>0.00560</td>\n",
       "    </tr>\n",
       "    <tr>\n",
       "      <th>dataset5</th>\n",
       "      <td>0.00360</td>\n",
       "      <td>0.00240</td>\n",
       "      <td>0.0020</td>\n",
       "      <td>0.00360</td>\n",
       "    </tr>\n",
       "    <tr>\n",
       "      <th>mean</th>\n",
       "      <td>0.11424</td>\n",
       "      <td>0.13544</td>\n",
       "      <td>0.1372</td>\n",
       "      <td>0.10984</td>\n",
       "    </tr>\n",
       "  </tbody>\n",
       "</table>\n",
       "</div>"
      ],
      "text/plain": [
       "          Disturbing Neighbors  Random Oracles  Rotation Forest  \\\n",
       "dataset1               0.37000         0.42240           0.4372   \n",
       "dataset2               0.13800         0.18640           0.1852   \n",
       "dataset3               0.05160         0.05640           0.0532   \n",
       "dataset4               0.00800         0.00960           0.0084   \n",
       "dataset5               0.00360         0.00240           0.0020   \n",
       "mean                   0.11424         0.13544           0.1372   \n",
       "\n",
       "          Decision Tree Classifier  \n",
       "dataset1                   0.36080  \n",
       "dataset2                   0.13320  \n",
       "dataset3                   0.04600  \n",
       "dataset4                   0.00560  \n",
       "dataset5                   0.00360  \n",
       "mean                       0.10984  "
      ]
     },
     "execution_count": 18,
     "metadata": {},
     "output_type": "execute_result"
    }
   ],
   "source": [
    "names_columns=['Disturbing Neighbors', 'Random Oracles', 'Rotation Forest', 'Decision Tree Classifier']\n",
    "df = pd.DataFrame(ensembles_accuracy, \\\n",
    "       columns=(names_columns), \\\n",
    "       index=(names_rows)) \n",
    "df"
   ]
  }
 ],
 "metadata": {
  "kernelspec": {
   "display_name": "Python 3",
   "language": "python",
   "name": "python3"
  },
  "language_info": {
   "codemirror_mode": {
    "name": "ipython",
    "version": 3
   },
   "file_extension": ".py",
   "mimetype": "text/x-python",
   "name": "python",
   "nbconvert_exporter": "python",
   "pygments_lexer": "ipython3",
   "version": "3.6.0"
  }
 },
 "nbformat": 4,
 "nbformat_minor": 2
}
