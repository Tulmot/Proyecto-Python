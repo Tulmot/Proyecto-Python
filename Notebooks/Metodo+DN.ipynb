{
 "cells": [
  {
   "cell_type": "code",
   "execution_count": 1,
   "metadata": {
    "collapsed": false
   },
   "outputs": [],
   "source": [
    "import numpy as np\n",
    "from random import shuffle\n",
    "from sklearn.datasets import make_multilabel_classification\n",
    "from sklearn.metrics.pairwise import euclidean_distances\n",
    "from sklearn.tree import DecisionTreeClassifier\n",
    "from sklearn import tree\n",
    "import graphviz"
   ]
  },
  {
   "cell_type": "code",
   "execution_count": 13,
   "metadata": {
    "collapsed": false
   },
   "outputs": [],
   "source": [
    "n_instancias=10\n",
    "n_caracteristicas=8\n",
    "n_clases=5\n",
    "rnd_neighbors=np.array([])\n",
    "rnd_dimensions=np.array([])\n",
    "e=DecisionTreeClassifier()"
   ]
  },
  {
   "cell_type": "code",
   "execution_count": 14,
   "metadata": {
    "collapsed": true
   },
   "outputs": [],
   "source": [
    "def conjunto_datos(n_instancias,n_caracteristicas,n_clases):\n",
    "        return make_multilabel_classification(n_samples=n_instancias, \n",
    "                                              n_features=n_caracteristicas, n_classes=n_clases)   "
   ]
  },
  {
   "cell_type": "code",
   "execution_count": 15,
   "metadata": {
    "collapsed": false
   },
   "outputs": [
    {
     "data": {
      "text/plain": [
       "(array([[ 11.,  14.,   8.,   0.,   3.,   8.,   1.,   3.],\n",
       "        [ 11.,  17.,   5.,   4.,   2.,   6.,   9.,   1.],\n",
       "        [  5.,  17.,   2.,   3.,   6.,   9.,   6.,   6.],\n",
       "        [  8.,   9.,   5.,   2.,   5.,   8.,   9.,   2.],\n",
       "        [  8.,   4.,   6.,   0.,  11.,  14.,  11.,   5.],\n",
       "        [ 11.,   6.,   3.,   1.,   7.,  11.,   8.,   0.],\n",
       "        [ 11.,  15.,   8.,   2.,   8.,   6.,   4.,   1.],\n",
       "        [ 17.,   4.,   2.,   0.,  12.,  16.,   0.,   2.],\n",
       "        [ 15.,  10.,   1.,   2.,   2.,  12.,   4.,   6.],\n",
       "        [ 11.,   9.,   5.,   0.,   8.,   9.,   4.,   2.]]),\n",
       " array([[1, 0, 1, 1, 0],\n",
       "        [0, 0, 0, 1, 0],\n",
       "        [1, 1, 1, 1, 1],\n",
       "        [1, 0, 0, 1, 0],\n",
       "        [1, 1, 0, 0, 0],\n",
       "        [1, 0, 1, 1, 0],\n",
       "        [0, 0, 1, 1, 0],\n",
       "        [1, 0, 0, 0, 0],\n",
       "        [1, 0, 0, 0, 1],\n",
       "        [1, 0, 1, 0, 0]]))"
      ]
     },
     "execution_count": 15,
     "metadata": {},
     "output_type": "execute_result"
    }
   ],
   "source": [
    "X,Y=conjunto_datos(n_instancias,n_caracteristicas,n_clases)\n",
    "X,Y"
   ]
  },
  {
   "cell_type": "code",
   "execution_count": 16,
   "metadata": {
    "collapsed": true
   },
   "outputs": [],
   "source": [
    "def aleatorio_boolean(n_caracteristicas):\n",
    "    rnd_dimensions=np.random.randint(0, 2,n_caracteristicas)\n",
    "    return rnd_dimensions.astype(bool)  "
   ]
  },
  {
   "cell_type": "code",
   "execution_count": 17,
   "metadata": {
    "collapsed": false
   },
   "outputs": [],
   "source": [
    "def aleatorio_array(n_instancias):\n",
    "    s=list(range(n_instancias))\n",
    "    shuffle(s)\n",
    "    return np.array(s[:(int(len(s)/2))])"
   ]
  },
  {
   "cell_type": "code",
   "execution_count": 18,
   "metadata": {
    "collapsed": true
   },
   "outputs": [],
   "source": [
    "def reducir_datos(X,rnd_dimensions):\n",
    "    return X[:, rnd_dimensions]"
   ]
  },
  {
   "cell_type": "code",
   "execution_count": 19,
   "metadata": {
    "collapsed": false
   },
   "outputs": [],
   "source": [
    "def vecino_cercano(n_instancias,rnd_neighbors,m_reducida):\n",
    "    m_vecinos=np.zeros((n_instancias,len(rnd_neighbors)))\n",
    "    cont=-1\n",
    "    for i in m_reducida:\n",
    "        dist=999\n",
    "        cont+=1\n",
    "        cont2=-1\n",
    "        for j in rnd_neighbors:\n",
    "            cont2+=1\n",
    "            dist2=euclidean_distances([i],[m_reducida[j,:]])\n",
    "            if dist2<dist:\n",
    "                dist=dist2\n",
    "                a=cont\n",
    "                b=cont2\n",
    "        m_vecinos[a][b]=1\n",
    "    return m_vecinos"
   ]
  },
  {
   "cell_type": "code",
   "execution_count": 20,
   "metadata": {
    "collapsed": false
   },
   "outputs": [],
   "source": [
    "def vecino_cercano_prueba(n_instancias,rnd_neighbors,m_reducida):\n",
    "    for i in rnd_neighbors:\n",
    "        print(m_reducida[i,:])\n",
    "        prueba = m_reducida.apply(lambda row: euclidean_distances(row, m_reducida[i,:]), axis=1)\n",
    "        print(prueba)"
   ]
  },
  {
   "cell_type": "code",
   "execution_count": 21,
   "metadata": {
    "collapsed": false
   },
   "outputs": [],
   "source": [
    "def clasificador(X,Y,m_vecinos):\n",
    "    m_entrenamiento=np.concatenate((X,m_vecinos),axis=1)\n",
    "    return e.fit(m_entrenamiento,Y)"
   ]
  },
  {
   "cell_type": "code",
   "execution_count": 22,
   "metadata": {
    "collapsed": true
   },
   "outputs": [],
   "source": [
    "def fit(X,Y,n_instancias):\n",
    "    rnd_dimensions=aleatorio_boolean(n_caracteristicas)\n",
    "    rnd_neighbors=aleatorio_array(n_instancias)\n",
    "    m_reducida=reducir_datos(X,rnd_dimensions)\n",
    "    m_vecinos=vecino_cercano(n_instancias,rnd_neighbors,m_reducida)\n",
    "    print(m_vecinos)\n",
    "    #m_vecinos2=vecino_cercano_prueba(n_instancias,rnd_neighbors,m_reducida)\n",
    "    #print(m_vecinos2)\n",
    "    return clasificador(X,Y,m_vecinos),rnd_neighbors,rnd_dimensions"
   ]
  },
  {
   "cell_type": "code",
   "execution_count": 23,
   "metadata": {
    "collapsed": false
   },
   "outputs": [
    {
     "name": "stdout",
     "output_type": "stream",
     "text": [
      "[[ 1.  0.  0.  0.  0.]\n",
      " [ 1.  0.  0.  0.  0.]\n",
      " [ 0.  0.  0.  1.  0.]\n",
      " [ 0.  1.  0.  0.  0.]\n",
      " [ 0.  0.  1.  0.  0.]\n",
      " [ 0.  0.  0.  0.  1.]\n",
      " [ 0.  0.  0.  1.  0.]\n",
      " [ 0.  0.  1.  0.  0.]\n",
      " [ 0.  0.  0.  0.  1.]\n",
      " [ 0.  1.  0.  0.  0.]]\n"
     ]
    }
   ],
   "source": [
    "arbol,rnd_neighbors,rnd_dimensions=fit(X,Y,n_instancias)"
   ]
  },
  {
   "cell_type": "code",
   "execution_count": 24,
   "metadata": {
    "collapsed": false
   },
   "outputs": [
    {
     "data": {
      "image/svg+xml": [
       "<?xml version=\"1.0\" encoding=\"UTF-8\" standalone=\"no\"?>\r\n",
       "<!DOCTYPE svg PUBLIC \"-//W3C//DTD SVG 1.1//EN\"\r\n",
       " \"http://www.w3.org/Graphics/SVG/1.1/DTD/svg11.dtd\">\r\n",
       "<!-- Generated by graphviz version 2.38.0 (20140413.2041)\r\n",
       " -->\r\n",
       "<!-- Title: Tree Pages: 1 -->\r\n",
       "<svg width=\"611pt\" height=\"941pt\"\r\n",
       " viewBox=\"0.00 0.00 611.00 941.00\" xmlns=\"http://www.w3.org/2000/svg\" xmlns:xlink=\"http://www.w3.org/1999/xlink\">\r\n",
       "<g id=\"graph0\" class=\"graph\" transform=\"scale(1 1) rotate(0) translate(4 937)\">\r\n",
       "<title>Tree</title>\r\n",
       "<polygon fill=\"white\" stroke=\"none\" points=\"-4,4 -4,-937 607,-937 607,4 -4,4\"/>\r\n",
       "<!-- 0 -->\r\n",
       "<g id=\"node1\" class=\"node\"><title>0</title>\r\n",
       "<polygon fill=\"none\" stroke=\"black\" points=\"377,-933 282,-933 282,-805 377,-805 377,-933\"/>\r\n",
       "<text text-anchor=\"middle\" x=\"329.5\" y=\"-917.8\" font-family=\"Times New Roman,serif\" font-size=\"14.00\">X[5] &lt;= 11.5</text>\r\n",
       "<text text-anchor=\"middle\" x=\"329.5\" y=\"-902.8\" font-family=\"Times New Roman,serif\" font-size=\"14.00\">gini = 0.388</text>\r\n",
       "<text text-anchor=\"middle\" x=\"329.5\" y=\"-887.8\" font-family=\"Times New Roman,serif\" font-size=\"14.00\">samples = 10</text>\r\n",
       "<text text-anchor=\"middle\" x=\"329.5\" y=\"-872.8\" font-family=\"Times New Roman,serif\" font-size=\"14.00\">value = [[2, 8]</text>\r\n",
       "<text text-anchor=\"middle\" x=\"329.5\" y=\"-857.8\" font-family=\"Times New Roman,serif\" font-size=\"14.00\">[8, 2]</text>\r\n",
       "<text text-anchor=\"middle\" x=\"329.5\" y=\"-842.8\" font-family=\"Times New Roman,serif\" font-size=\"14.00\">[5, 5]</text>\r\n",
       "<text text-anchor=\"middle\" x=\"329.5\" y=\"-827.8\" font-family=\"Times New Roman,serif\" font-size=\"14.00\">[4, 6]</text>\r\n",
       "<text text-anchor=\"middle\" x=\"329.5\" y=\"-812.8\" font-family=\"Times New Roman,serif\" font-size=\"14.00\">[8, 2]]</text>\r\n",
       "</g>\r\n",
       "<!-- 1 -->\r\n",
       "<g id=\"node2\" class=\"node\"><title>1</title>\r\n",
       "<polygon fill=\"none\" stroke=\"black\" points=\"321,-769 226,-769 226,-641 321,-641 321,-769\"/>\r\n",
       "<text text-anchor=\"middle\" x=\"273.5\" y=\"-753.8\" font-family=\"Times New Roman,serif\" font-size=\"14.00\">X[7] &lt;= 4.5</text>\r\n",
       "<text text-anchor=\"middle\" x=\"273.5\" y=\"-738.8\" font-family=\"Times New Roman,serif\" font-size=\"14.00\">gini = 0.3102</text>\r\n",
       "<text text-anchor=\"middle\" x=\"273.5\" y=\"-723.8\" font-family=\"Times New Roman,serif\" font-size=\"14.00\">samples = 7</text>\r\n",
       "<text text-anchor=\"middle\" x=\"273.5\" y=\"-708.8\" font-family=\"Times New Roman,serif\" font-size=\"14.00\">value = [[2, 5]</text>\r\n",
       "<text text-anchor=\"middle\" x=\"273.5\" y=\"-693.8\" font-family=\"Times New Roman,serif\" font-size=\"14.00\">[6, 1]</text>\r\n",
       "<text text-anchor=\"middle\" x=\"273.5\" y=\"-678.8\" font-family=\"Times New Roman,serif\" font-size=\"14.00\">[2, 5]</text>\r\n",
       "<text text-anchor=\"middle\" x=\"273.5\" y=\"-663.8\" font-family=\"Times New Roman,serif\" font-size=\"14.00\">[1, 6]</text>\r\n",
       "<text text-anchor=\"middle\" x=\"273.5\" y=\"-648.8\" font-family=\"Times New Roman,serif\" font-size=\"14.00\">[6, 1]]</text>\r\n",
       "</g>\r\n",
       "<!-- 0&#45;&gt;1 -->\r\n",
       "<g id=\"edge1\" class=\"edge\"><title>0&#45;&gt;1</title>\r\n",
       "<path fill=\"none\" stroke=\"black\" d=\"M307.689,-804.903C304.743,-796.382 301.702,-787.584 298.703,-778.91\"/>\r\n",
       "<polygon fill=\"black\" stroke=\"black\" points=\"301.919,-777.499 295.344,-769.192 295.303,-779.786 301.919,-777.499\"/>\r\n",
       "<text text-anchor=\"middle\" x=\"284.412\" y=\"-787.975\" font-family=\"Times New Roman,serif\" font-size=\"14.00\">True</text>\r\n",
       "</g>\r\n",
       "<!-- 12 -->\r\n",
       "<g id=\"node13\" class=\"node\"><title>12</title>\r\n",
       "<polygon fill=\"none\" stroke=\"black\" points=\"434,-769 339,-769 339,-641 434,-641 434,-769\"/>\r\n",
       "<text text-anchor=\"middle\" x=\"386.5\" y=\"-753.8\" font-family=\"Times New Roman,serif\" font-size=\"14.00\">X[2] &lt;= 1.5</text>\r\n",
       "<text text-anchor=\"middle\" x=\"386.5\" y=\"-738.8\" font-family=\"Times New Roman,serif\" font-size=\"14.00\">gini = 0.1778</text>\r\n",
       "<text text-anchor=\"middle\" x=\"386.5\" y=\"-723.8\" font-family=\"Times New Roman,serif\" font-size=\"14.00\">samples = 3</text>\r\n",
       "<text text-anchor=\"middle\" x=\"386.5\" y=\"-708.8\" font-family=\"Times New Roman,serif\" font-size=\"14.00\">value = [[0, 3]</text>\r\n",
       "<text text-anchor=\"middle\" x=\"386.5\" y=\"-693.8\" font-family=\"Times New Roman,serif\" font-size=\"14.00\">[2, 1]</text>\r\n",
       "<text text-anchor=\"middle\" x=\"386.5\" y=\"-678.8\" font-family=\"Times New Roman,serif\" font-size=\"14.00\">[3, 0]</text>\r\n",
       "<text text-anchor=\"middle\" x=\"386.5\" y=\"-663.8\" font-family=\"Times New Roman,serif\" font-size=\"14.00\">[3, 0]</text>\r\n",
       "<text text-anchor=\"middle\" x=\"386.5\" y=\"-648.8\" font-family=\"Times New Roman,serif\" font-size=\"14.00\">[2, 1]]</text>\r\n",
       "</g>\r\n",
       "<!-- 0&#45;&gt;12 -->\r\n",
       "<g id=\"edge12\" class=\"edge\"><title>0&#45;&gt;12</title>\r\n",
       "<path fill=\"none\" stroke=\"black\" d=\"M351.701,-804.903C354.731,-796.291 357.861,-787.394 360.945,-778.63\"/>\r\n",
       "<polygon fill=\"black\" stroke=\"black\" points=\"364.248,-779.786 364.266,-769.192 357.645,-777.463 364.248,-779.786\"/>\r\n",
       "<text text-anchor=\"middle\" x=\"375.074\" y=\"-788.034\" font-family=\"Times New Roman,serif\" font-size=\"14.00\">False</text>\r\n",
       "</g>\r\n",
       "<!-- 2 -->\r\n",
       "<g id=\"node3\" class=\"node\"><title>2</title>\r\n",
       "<polygon fill=\"none\" stroke=\"black\" points=\"208,-605 113,-605 113,-477 208,-477 208,-605\"/>\r\n",
       "<text text-anchor=\"middle\" x=\"160.5\" y=\"-589.8\" font-family=\"Times New Roman,serif\" font-size=\"14.00\">X[3] &lt;= 1.5</text>\r\n",
       "<text text-anchor=\"middle\" x=\"160.5\" y=\"-574.8\" font-family=\"Times New Roman,serif\" font-size=\"14.00\">gini = 0.2333</text>\r\n",
       "<text text-anchor=\"middle\" x=\"160.5\" y=\"-559.8\" font-family=\"Times New Roman,serif\" font-size=\"14.00\">samples = 6</text>\r\n",
       "<text text-anchor=\"middle\" x=\"160.5\" y=\"-544.8\" font-family=\"Times New Roman,serif\" font-size=\"14.00\">value = [[2, 4]</text>\r\n",
       "<text text-anchor=\"middle\" x=\"160.5\" y=\"-529.8\" font-family=\"Times New Roman,serif\" font-size=\"14.00\">[6, 0]</text>\r\n",
       "<text text-anchor=\"middle\" x=\"160.5\" y=\"-514.8\" font-family=\"Times New Roman,serif\" font-size=\"14.00\">[2, 4]</text>\r\n",
       "<text text-anchor=\"middle\" x=\"160.5\" y=\"-499.8\" font-family=\"Times New Roman,serif\" font-size=\"14.00\">[1, 5]</text>\r\n",
       "<text text-anchor=\"middle\" x=\"160.5\" y=\"-484.8\" font-family=\"Times New Roman,serif\" font-size=\"14.00\">[6, 0]]</text>\r\n",
       "</g>\r\n",
       "<!-- 1&#45;&gt;2 -->\r\n",
       "<g id=\"edge2\" class=\"edge\"><title>1&#45;&gt;2</title>\r\n",
       "<path fill=\"none\" stroke=\"black\" d=\"M229.488,-640.903C223.225,-631.924 216.747,-622.637 210.382,-613.512\"/>\r\n",
       "<polygon fill=\"black\" stroke=\"black\" points=\"213.17,-611.391 204.578,-605.192 207.429,-615.396 213.17,-611.391\"/>\r\n",
       "</g>\r\n",
       "<!-- 11 -->\r\n",
       "<g id=\"node12\" class=\"node\"><title>11</title>\r\n",
       "<polygon fill=\"none\" stroke=\"black\" points=\"321,-597.5 226,-597.5 226,-484.5 321,-484.5 321,-597.5\"/>\r\n",
       "<text text-anchor=\"middle\" x=\"273.5\" y=\"-582.3\" font-family=\"Times New Roman,serif\" font-size=\"14.00\">gini = 0.0</text>\r\n",
       "<text text-anchor=\"middle\" x=\"273.5\" y=\"-567.3\" font-family=\"Times New Roman,serif\" font-size=\"14.00\">samples = 1</text>\r\n",
       "<text text-anchor=\"middle\" x=\"273.5\" y=\"-552.3\" font-family=\"Times New Roman,serif\" font-size=\"14.00\">value = [[0, 1]</text>\r\n",
       "<text text-anchor=\"middle\" x=\"273.5\" y=\"-537.3\" font-family=\"Times New Roman,serif\" font-size=\"14.00\">[0, 1]</text>\r\n",
       "<text text-anchor=\"middle\" x=\"273.5\" y=\"-522.3\" font-family=\"Times New Roman,serif\" font-size=\"14.00\">[0, 1]</text>\r\n",
       "<text text-anchor=\"middle\" x=\"273.5\" y=\"-507.3\" font-family=\"Times New Roman,serif\" font-size=\"14.00\">[0, 1]</text>\r\n",
       "<text text-anchor=\"middle\" x=\"273.5\" y=\"-492.3\" font-family=\"Times New Roman,serif\" font-size=\"14.00\">[0, 1]]</text>\r\n",
       "</g>\r\n",
       "<!-- 1&#45;&gt;11 -->\r\n",
       "<g id=\"edge11\" class=\"edge\"><title>1&#45;&gt;11</title>\r\n",
       "<path fill=\"none\" stroke=\"black\" d=\"M273.5,-640.903C273.5,-630.063 273.5,-618.774 273.5,-607.864\"/>\r\n",
       "<polygon fill=\"black\" stroke=\"black\" points=\"277,-607.548 273.5,-597.548 270,-607.548 277,-607.548\"/>\r\n",
       "</g>\r\n",
       "<!-- 3 -->\r\n",
       "<g id=\"node4\" class=\"node\"><title>3</title>\r\n",
       "<polygon fill=\"none\" stroke=\"black\" points=\"208,-441 113,-441 113,-313 208,-313 208,-441\"/>\r\n",
       "<text text-anchor=\"middle\" x=\"160.5\" y=\"-425.8\" font-family=\"Times New Roman,serif\" font-size=\"14.00\">X[9] &lt;= 0.5</text>\r\n",
       "<text text-anchor=\"middle\" x=\"160.5\" y=\"-410.8\" font-family=\"Times New Roman,serif\" font-size=\"14.00\">gini = 0.0889</text>\r\n",
       "<text text-anchor=\"middle\" x=\"160.5\" y=\"-395.8\" font-family=\"Times New Roman,serif\" font-size=\"14.00\">samples = 3</text>\r\n",
       "<text text-anchor=\"middle\" x=\"160.5\" y=\"-380.8\" font-family=\"Times New Roman,serif\" font-size=\"14.00\">value = [[0, 3]</text>\r\n",
       "<text text-anchor=\"middle\" x=\"160.5\" y=\"-365.8\" font-family=\"Times New Roman,serif\" font-size=\"14.00\">[3, 0]</text>\r\n",
       "<text text-anchor=\"middle\" x=\"160.5\" y=\"-350.8\" font-family=\"Times New Roman,serif\" font-size=\"14.00\">[0, 3]</text>\r\n",
       "<text text-anchor=\"middle\" x=\"160.5\" y=\"-335.8\" font-family=\"Times New Roman,serif\" font-size=\"14.00\">[1, 2]</text>\r\n",
       "<text text-anchor=\"middle\" x=\"160.5\" y=\"-320.8\" font-family=\"Times New Roman,serif\" font-size=\"14.00\">[3, 0]]</text>\r\n",
       "</g>\r\n",
       "<!-- 2&#45;&gt;3 -->\r\n",
       "<g id=\"edge3\" class=\"edge\"><title>2&#45;&gt;3</title>\r\n",
       "<path fill=\"none\" stroke=\"black\" d=\"M160.5,-476.903C160.5,-468.565 160.5,-459.962 160.5,-451.47\"/>\r\n",
       "<polygon fill=\"black\" stroke=\"black\" points=\"164,-451.192 160.5,-441.192 157,-451.192 164,-451.192\"/>\r\n",
       "</g>\r\n",
       "<!-- 6 -->\r\n",
       "<g id=\"node7\" class=\"node\"><title>6</title>\r\n",
       "<polygon fill=\"none\" stroke=\"black\" points=\"321,-441 226,-441 226,-313 321,-313 321,-441\"/>\r\n",
       "<text text-anchor=\"middle\" x=\"273.5\" y=\"-425.8\" font-family=\"Times New Roman,serif\" font-size=\"14.00\">X[4] &lt;= 6.5</text>\r\n",
       "<text text-anchor=\"middle\" x=\"273.5\" y=\"-410.8\" font-family=\"Times New Roman,serif\" font-size=\"14.00\">gini = 0.1778</text>\r\n",
       "<text text-anchor=\"middle\" x=\"273.5\" y=\"-395.8\" font-family=\"Times New Roman,serif\" font-size=\"14.00\">samples = 3</text>\r\n",
       "<text text-anchor=\"middle\" x=\"273.5\" y=\"-380.8\" font-family=\"Times New Roman,serif\" font-size=\"14.00\">value = [[2, 1]</text>\r\n",
       "<text text-anchor=\"middle\" x=\"273.5\" y=\"-365.8\" font-family=\"Times New Roman,serif\" font-size=\"14.00\">[3, 0]</text>\r\n",
       "<text text-anchor=\"middle\" x=\"273.5\" y=\"-350.8\" font-family=\"Times New Roman,serif\" font-size=\"14.00\">[2, 1]</text>\r\n",
       "<text text-anchor=\"middle\" x=\"273.5\" y=\"-335.8\" font-family=\"Times New Roman,serif\" font-size=\"14.00\">[0, 3]</text>\r\n",
       "<text text-anchor=\"middle\" x=\"273.5\" y=\"-320.8\" font-family=\"Times New Roman,serif\" font-size=\"14.00\">[3, 0]]</text>\r\n",
       "</g>\r\n",
       "<!-- 2&#45;&gt;6 -->\r\n",
       "<g id=\"edge6\" class=\"edge\"><title>2&#45;&gt;6</title>\r\n",
       "<path fill=\"none\" stroke=\"black\" d=\"M204.512,-476.903C210.775,-467.924 217.253,-458.637 223.618,-449.512\"/>\r\n",
       "<polygon fill=\"black\" stroke=\"black\" points=\"226.571,-451.396 229.422,-441.192 220.83,-447.391 226.571,-451.396\"/>\r\n",
       "</g>\r\n",
       "<!-- 4 -->\r\n",
       "<g id=\"node5\" class=\"node\"><title>4</title>\r\n",
       "<polygon fill=\"none\" stroke=\"black\" points=\"95,-269.5 0,-269.5 0,-156.5 95,-156.5 95,-269.5\"/>\r\n",
       "<text text-anchor=\"middle\" x=\"47.5\" y=\"-254.3\" font-family=\"Times New Roman,serif\" font-size=\"14.00\">gini = 0.0</text>\r\n",
       "<text text-anchor=\"middle\" x=\"47.5\" y=\"-239.3\" font-family=\"Times New Roman,serif\" font-size=\"14.00\">samples = 2</text>\r\n",
       "<text text-anchor=\"middle\" x=\"47.5\" y=\"-224.3\" font-family=\"Times New Roman,serif\" font-size=\"14.00\">value = [[0, 2]</text>\r\n",
       "<text text-anchor=\"middle\" x=\"47.5\" y=\"-209.3\" font-family=\"Times New Roman,serif\" font-size=\"14.00\">[2, 0]</text>\r\n",
       "<text text-anchor=\"middle\" x=\"47.5\" y=\"-194.3\" font-family=\"Times New Roman,serif\" font-size=\"14.00\">[0, 2]</text>\r\n",
       "<text text-anchor=\"middle\" x=\"47.5\" y=\"-179.3\" font-family=\"Times New Roman,serif\" font-size=\"14.00\">[0, 2]</text>\r\n",
       "<text text-anchor=\"middle\" x=\"47.5\" y=\"-164.3\" font-family=\"Times New Roman,serif\" font-size=\"14.00\">[2, 0]]</text>\r\n",
       "</g>\r\n",
       "<!-- 3&#45;&gt;4 -->\r\n",
       "<g id=\"edge4\" class=\"edge\"><title>3&#45;&gt;4</title>\r\n",
       "<path fill=\"none\" stroke=\"black\" d=\"M116.488,-312.903C108.459,-301.393 100.077,-289.375 92.0332,-277.844\"/>\r\n",
       "<polygon fill=\"black\" stroke=\"black\" points=\"94.8379,-275.747 86.2461,-269.548 89.0966,-279.752 94.8379,-275.747\"/>\r\n",
       "</g>\r\n",
       "<!-- 5 -->\r\n",
       "<g id=\"node6\" class=\"node\"><title>5</title>\r\n",
       "<polygon fill=\"none\" stroke=\"black\" points=\"208,-269.5 113,-269.5 113,-156.5 208,-156.5 208,-269.5\"/>\r\n",
       "<text text-anchor=\"middle\" x=\"160.5\" y=\"-254.3\" font-family=\"Times New Roman,serif\" font-size=\"14.00\">gini = 0.0</text>\r\n",
       "<text text-anchor=\"middle\" x=\"160.5\" y=\"-239.3\" font-family=\"Times New Roman,serif\" font-size=\"14.00\">samples = 1</text>\r\n",
       "<text text-anchor=\"middle\" x=\"160.5\" y=\"-224.3\" font-family=\"Times New Roman,serif\" font-size=\"14.00\">value = [[0, 1]</text>\r\n",
       "<text text-anchor=\"middle\" x=\"160.5\" y=\"-209.3\" font-family=\"Times New Roman,serif\" font-size=\"14.00\">[1, 0]</text>\r\n",
       "<text text-anchor=\"middle\" x=\"160.5\" y=\"-194.3\" font-family=\"Times New Roman,serif\" font-size=\"14.00\">[0, 1]</text>\r\n",
       "<text text-anchor=\"middle\" x=\"160.5\" y=\"-179.3\" font-family=\"Times New Roman,serif\" font-size=\"14.00\">[1, 0]</text>\r\n",
       "<text text-anchor=\"middle\" x=\"160.5\" y=\"-164.3\" font-family=\"Times New Roman,serif\" font-size=\"14.00\">[1, 0]]</text>\r\n",
       "</g>\r\n",
       "<!-- 3&#45;&gt;5 -->\r\n",
       "<g id=\"edge5\" class=\"edge\"><title>3&#45;&gt;5</title>\r\n",
       "<path fill=\"none\" stroke=\"black\" d=\"M160.5,-312.903C160.5,-302.063 160.5,-290.774 160.5,-279.864\"/>\r\n",
       "<polygon fill=\"black\" stroke=\"black\" points=\"164,-279.548 160.5,-269.548 157,-279.548 164,-279.548\"/>\r\n",
       "</g>\r\n",
       "<!-- 7 -->\r\n",
       "<g id=\"node8\" class=\"node\"><title>7</title>\r\n",
       "<polygon fill=\"none\" stroke=\"black\" points=\"321,-277 226,-277 226,-149 321,-149 321,-277\"/>\r\n",
       "<text text-anchor=\"middle\" x=\"273.5\" y=\"-261.8\" font-family=\"Times New Roman,serif\" font-size=\"14.00\">X[5] &lt;= 7.0</text>\r\n",
       "<text text-anchor=\"middle\" x=\"273.5\" y=\"-246.8\" font-family=\"Times New Roman,serif\" font-size=\"14.00\">gini = 0.1</text>\r\n",
       "<text text-anchor=\"middle\" x=\"273.5\" y=\"-231.8\" font-family=\"Times New Roman,serif\" font-size=\"14.00\">samples = 2</text>\r\n",
       "<text text-anchor=\"middle\" x=\"273.5\" y=\"-216.8\" font-family=\"Times New Roman,serif\" font-size=\"14.00\">value = [[1, 1]</text>\r\n",
       "<text text-anchor=\"middle\" x=\"273.5\" y=\"-201.8\" font-family=\"Times New Roman,serif\" font-size=\"14.00\">[2, 0]</text>\r\n",
       "<text text-anchor=\"middle\" x=\"273.5\" y=\"-186.8\" font-family=\"Times New Roman,serif\" font-size=\"14.00\">[2, 0]</text>\r\n",
       "<text text-anchor=\"middle\" x=\"273.5\" y=\"-171.8\" font-family=\"Times New Roman,serif\" font-size=\"14.00\">[0, 2]</text>\r\n",
       "<text text-anchor=\"middle\" x=\"273.5\" y=\"-156.8\" font-family=\"Times New Roman,serif\" font-size=\"14.00\">[2, 0]]</text>\r\n",
       "</g>\r\n",
       "<!-- 6&#45;&gt;7 -->\r\n",
       "<g id=\"edge7\" class=\"edge\"><title>6&#45;&gt;7</title>\r\n",
       "<path fill=\"none\" stroke=\"black\" d=\"M273.5,-312.903C273.5,-304.565 273.5,-295.962 273.5,-287.47\"/>\r\n",
       "<polygon fill=\"black\" stroke=\"black\" points=\"277,-287.192 273.5,-277.192 270,-287.192 277,-287.192\"/>\r\n",
       "</g>\r\n",
       "<!-- 10 -->\r\n",
       "<g id=\"node11\" class=\"node\"><title>10</title>\r\n",
       "<polygon fill=\"none\" stroke=\"black\" points=\"434,-269.5 339,-269.5 339,-156.5 434,-156.5 434,-269.5\"/>\r\n",
       "<text text-anchor=\"middle\" x=\"386.5\" y=\"-254.3\" font-family=\"Times New Roman,serif\" font-size=\"14.00\">gini = 0.0</text>\r\n",
       "<text text-anchor=\"middle\" x=\"386.5\" y=\"-239.3\" font-family=\"Times New Roman,serif\" font-size=\"14.00\">samples = 1</text>\r\n",
       "<text text-anchor=\"middle\" x=\"386.5\" y=\"-224.3\" font-family=\"Times New Roman,serif\" font-size=\"14.00\">value = [[1, 0]</text>\r\n",
       "<text text-anchor=\"middle\" x=\"386.5\" y=\"-209.3\" font-family=\"Times New Roman,serif\" font-size=\"14.00\">[1, 0]</text>\r\n",
       "<text text-anchor=\"middle\" x=\"386.5\" y=\"-194.3\" font-family=\"Times New Roman,serif\" font-size=\"14.00\">[0, 1]</text>\r\n",
       "<text text-anchor=\"middle\" x=\"386.5\" y=\"-179.3\" font-family=\"Times New Roman,serif\" font-size=\"14.00\">[0, 1]</text>\r\n",
       "<text text-anchor=\"middle\" x=\"386.5\" y=\"-164.3\" font-family=\"Times New Roman,serif\" font-size=\"14.00\">[1, 0]]</text>\r\n",
       "</g>\r\n",
       "<!-- 6&#45;&gt;10 -->\r\n",
       "<g id=\"edge10\" class=\"edge\"><title>6&#45;&gt;10</title>\r\n",
       "<path fill=\"none\" stroke=\"black\" d=\"M317.512,-312.903C325.541,-301.393 333.923,-289.375 341.967,-277.844\"/>\r\n",
       "<polygon fill=\"black\" stroke=\"black\" points=\"344.903,-279.752 347.754,-269.548 339.162,-275.747 344.903,-279.752\"/>\r\n",
       "</g>\r\n",
       "<!-- 8 -->\r\n",
       "<g id=\"node9\" class=\"node\"><title>8</title>\r\n",
       "<polygon fill=\"none\" stroke=\"black\" points=\"264,-113 169,-113 169,-0 264,-0 264,-113\"/>\r\n",
       "<text text-anchor=\"middle\" x=\"216.5\" y=\"-97.8\" font-family=\"Times New Roman,serif\" font-size=\"14.00\">gini = 0.0</text>\r\n",
       "<text text-anchor=\"middle\" x=\"216.5\" y=\"-82.8\" font-family=\"Times New Roman,serif\" font-size=\"14.00\">samples = 1</text>\r\n",
       "<text text-anchor=\"middle\" x=\"216.5\" y=\"-67.8\" font-family=\"Times New Roman,serif\" font-size=\"14.00\">value = [[1, 0]</text>\r\n",
       "<text text-anchor=\"middle\" x=\"216.5\" y=\"-52.8\" font-family=\"Times New Roman,serif\" font-size=\"14.00\">[1, 0]</text>\r\n",
       "<text text-anchor=\"middle\" x=\"216.5\" y=\"-37.8\" font-family=\"Times New Roman,serif\" font-size=\"14.00\">[1, 0]</text>\r\n",
       "<text text-anchor=\"middle\" x=\"216.5\" y=\"-22.8\" font-family=\"Times New Roman,serif\" font-size=\"14.00\">[0, 1]</text>\r\n",
       "<text text-anchor=\"middle\" x=\"216.5\" y=\"-7.8\" font-family=\"Times New Roman,serif\" font-size=\"14.00\">[1, 0]]</text>\r\n",
       "</g>\r\n",
       "<!-- 7&#45;&gt;8 -->\r\n",
       "<g id=\"edge8\" class=\"edge\"><title>7&#45;&gt;8</title>\r\n",
       "<path fill=\"none\" stroke=\"black\" d=\"M250.151,-148.713C246.979,-140.115 243.719,-131.279 240.536,-122.649\"/>\r\n",
       "<polygon fill=\"black\" stroke=\"black\" points=\"243.727,-121.188 236.982,-113.017 237.16,-123.611 243.727,-121.188\"/>\r\n",
       "</g>\r\n",
       "<!-- 9 -->\r\n",
       "<g id=\"node10\" class=\"node\"><title>9</title>\r\n",
       "<polygon fill=\"none\" stroke=\"black\" points=\"377,-113 282,-113 282,-0 377,-0 377,-113\"/>\r\n",
       "<text text-anchor=\"middle\" x=\"329.5\" y=\"-97.8\" font-family=\"Times New Roman,serif\" font-size=\"14.00\">gini = 0.0</text>\r\n",
       "<text text-anchor=\"middle\" x=\"329.5\" y=\"-82.8\" font-family=\"Times New Roman,serif\" font-size=\"14.00\">samples = 1</text>\r\n",
       "<text text-anchor=\"middle\" x=\"329.5\" y=\"-67.8\" font-family=\"Times New Roman,serif\" font-size=\"14.00\">value = [[0, 1]</text>\r\n",
       "<text text-anchor=\"middle\" x=\"329.5\" y=\"-52.8\" font-family=\"Times New Roman,serif\" font-size=\"14.00\">[1, 0]</text>\r\n",
       "<text text-anchor=\"middle\" x=\"329.5\" y=\"-37.8\" font-family=\"Times New Roman,serif\" font-size=\"14.00\">[1, 0]</text>\r\n",
       "<text text-anchor=\"middle\" x=\"329.5\" y=\"-22.8\" font-family=\"Times New Roman,serif\" font-size=\"14.00\">[0, 1]</text>\r\n",
       "<text text-anchor=\"middle\" x=\"329.5\" y=\"-7.8\" font-family=\"Times New Roman,serif\" font-size=\"14.00\">[1, 0]]</text>\r\n",
       "</g>\r\n",
       "<!-- 7&#45;&gt;9 -->\r\n",
       "<g id=\"edge9\" class=\"edge\"><title>7&#45;&gt;9</title>\r\n",
       "<path fill=\"none\" stroke=\"black\" d=\"M296.439,-148.713C299.555,-140.115 302.758,-131.279 305.886,-122.649\"/>\r\n",
       "<polygon fill=\"black\" stroke=\"black\" points=\"309.26,-123.611 309.377,-113.017 302.679,-121.226 309.26,-123.611\"/>\r\n",
       "</g>\r\n",
       "<!-- 13 -->\r\n",
       "<g id=\"node14\" class=\"node\"><title>13</title>\r\n",
       "<polygon fill=\"none\" stroke=\"black\" points=\"434,-597.5 339,-597.5 339,-484.5 434,-484.5 434,-597.5\"/>\r\n",
       "<text text-anchor=\"middle\" x=\"386.5\" y=\"-582.3\" font-family=\"Times New Roman,serif\" font-size=\"14.00\">gini = 0.0</text>\r\n",
       "<text text-anchor=\"middle\" x=\"386.5\" y=\"-567.3\" font-family=\"Times New Roman,serif\" font-size=\"14.00\">samples = 1</text>\r\n",
       "<text text-anchor=\"middle\" x=\"386.5\" y=\"-552.3\" font-family=\"Times New Roman,serif\" font-size=\"14.00\">value = [[0, 1]</text>\r\n",
       "<text text-anchor=\"middle\" x=\"386.5\" y=\"-537.3\" font-family=\"Times New Roman,serif\" font-size=\"14.00\">[1, 0]</text>\r\n",
       "<text text-anchor=\"middle\" x=\"386.5\" y=\"-522.3\" font-family=\"Times New Roman,serif\" font-size=\"14.00\">[1, 0]</text>\r\n",
       "<text text-anchor=\"middle\" x=\"386.5\" y=\"-507.3\" font-family=\"Times New Roman,serif\" font-size=\"14.00\">[1, 0]</text>\r\n",
       "<text text-anchor=\"middle\" x=\"386.5\" y=\"-492.3\" font-family=\"Times New Roman,serif\" font-size=\"14.00\">[0, 1]]</text>\r\n",
       "</g>\r\n",
       "<!-- 12&#45;&gt;13 -->\r\n",
       "<g id=\"edge13\" class=\"edge\"><title>12&#45;&gt;13</title>\r\n",
       "<path fill=\"none\" stroke=\"black\" d=\"M386.5,-640.903C386.5,-630.063 386.5,-618.774 386.5,-607.864\"/>\r\n",
       "<polygon fill=\"black\" stroke=\"black\" points=\"390,-607.548 386.5,-597.548 383,-607.548 390,-607.548\"/>\r\n",
       "</g>\r\n",
       "<!-- 14 -->\r\n",
       "<g id=\"node15\" class=\"node\"><title>14</title>\r\n",
       "<polygon fill=\"none\" stroke=\"black\" points=\"547,-605 452,-605 452,-477 547,-477 547,-605\"/>\r\n",
       "<text text-anchor=\"middle\" x=\"499.5\" y=\"-589.8\" font-family=\"Times New Roman,serif\" font-size=\"14.00\">X[6] &lt;= 5.5</text>\r\n",
       "<text text-anchor=\"middle\" x=\"499.5\" y=\"-574.8\" font-family=\"Times New Roman,serif\" font-size=\"14.00\">gini = 0.1</text>\r\n",
       "<text text-anchor=\"middle\" x=\"499.5\" y=\"-559.8\" font-family=\"Times New Roman,serif\" font-size=\"14.00\">samples = 2</text>\r\n",
       "<text text-anchor=\"middle\" x=\"499.5\" y=\"-544.8\" font-family=\"Times New Roman,serif\" font-size=\"14.00\">value = [[0, 2]</text>\r\n",
       "<text text-anchor=\"middle\" x=\"499.5\" y=\"-529.8\" font-family=\"Times New Roman,serif\" font-size=\"14.00\">[1, 1]</text>\r\n",
       "<text text-anchor=\"middle\" x=\"499.5\" y=\"-514.8\" font-family=\"Times New Roman,serif\" font-size=\"14.00\">[2, 0]</text>\r\n",
       "<text text-anchor=\"middle\" x=\"499.5\" y=\"-499.8\" font-family=\"Times New Roman,serif\" font-size=\"14.00\">[2, 0]</text>\r\n",
       "<text text-anchor=\"middle\" x=\"499.5\" y=\"-484.8\" font-family=\"Times New Roman,serif\" font-size=\"14.00\">[2, 0]]</text>\r\n",
       "</g>\r\n",
       "<!-- 12&#45;&gt;14 -->\r\n",
       "<g id=\"edge14\" class=\"edge\"><title>12&#45;&gt;14</title>\r\n",
       "<path fill=\"none\" stroke=\"black\" d=\"M430.512,-640.903C436.775,-631.924 443.253,-622.637 449.618,-613.512\"/>\r\n",
       "<polygon fill=\"black\" stroke=\"black\" points=\"452.571,-615.396 455.422,-605.192 446.83,-611.391 452.571,-615.396\"/>\r\n",
       "</g>\r\n",
       "<!-- 15 -->\r\n",
       "<g id=\"node16\" class=\"node\"><title>15</title>\r\n",
       "<polygon fill=\"none\" stroke=\"black\" points=\"490,-433.5 395,-433.5 395,-320.5 490,-320.5 490,-433.5\"/>\r\n",
       "<text text-anchor=\"middle\" x=\"442.5\" y=\"-418.3\" font-family=\"Times New Roman,serif\" font-size=\"14.00\">gini = 0.0</text>\r\n",
       "<text text-anchor=\"middle\" x=\"442.5\" y=\"-403.3\" font-family=\"Times New Roman,serif\" font-size=\"14.00\">samples = 1</text>\r\n",
       "<text text-anchor=\"middle\" x=\"442.5\" y=\"-388.3\" font-family=\"Times New Roman,serif\" font-size=\"14.00\">value = [[0, 1]</text>\r\n",
       "<text text-anchor=\"middle\" x=\"442.5\" y=\"-373.3\" font-family=\"Times New Roman,serif\" font-size=\"14.00\">[1, 0]</text>\r\n",
       "<text text-anchor=\"middle\" x=\"442.5\" y=\"-358.3\" font-family=\"Times New Roman,serif\" font-size=\"14.00\">[1, 0]</text>\r\n",
       "<text text-anchor=\"middle\" x=\"442.5\" y=\"-343.3\" font-family=\"Times New Roman,serif\" font-size=\"14.00\">[1, 0]</text>\r\n",
       "<text text-anchor=\"middle\" x=\"442.5\" y=\"-328.3\" font-family=\"Times New Roman,serif\" font-size=\"14.00\">[1, 0]]</text>\r\n",
       "</g>\r\n",
       "<!-- 14&#45;&gt;15 -->\r\n",
       "<g id=\"edge15\" class=\"edge\"><title>14&#45;&gt;15</title>\r\n",
       "<path fill=\"none\" stroke=\"black\" d=\"M477.299,-476.903C473.407,-465.84 469.349,-454.308 465.437,-443.19\"/>\r\n",
       "<polygon fill=\"black\" stroke=\"black\" points=\"468.665,-441.819 462.045,-433.548 462.062,-444.142 468.665,-441.819\"/>\r\n",
       "</g>\r\n",
       "<!-- 16 -->\r\n",
       "<g id=\"node17\" class=\"node\"><title>16</title>\r\n",
       "<polygon fill=\"none\" stroke=\"black\" points=\"603,-433.5 508,-433.5 508,-320.5 603,-320.5 603,-433.5\"/>\r\n",
       "<text text-anchor=\"middle\" x=\"555.5\" y=\"-418.3\" font-family=\"Times New Roman,serif\" font-size=\"14.00\">gini = 0.0</text>\r\n",
       "<text text-anchor=\"middle\" x=\"555.5\" y=\"-403.3\" font-family=\"Times New Roman,serif\" font-size=\"14.00\">samples = 1</text>\r\n",
       "<text text-anchor=\"middle\" x=\"555.5\" y=\"-388.3\" font-family=\"Times New Roman,serif\" font-size=\"14.00\">value = [[0, 1]</text>\r\n",
       "<text text-anchor=\"middle\" x=\"555.5\" y=\"-373.3\" font-family=\"Times New Roman,serif\" font-size=\"14.00\">[0, 1]</text>\r\n",
       "<text text-anchor=\"middle\" x=\"555.5\" y=\"-358.3\" font-family=\"Times New Roman,serif\" font-size=\"14.00\">[1, 0]</text>\r\n",
       "<text text-anchor=\"middle\" x=\"555.5\" y=\"-343.3\" font-family=\"Times New Roman,serif\" font-size=\"14.00\">[1, 0]</text>\r\n",
       "<text text-anchor=\"middle\" x=\"555.5\" y=\"-328.3\" font-family=\"Times New Roman,serif\" font-size=\"14.00\">[1, 0]]</text>\r\n",
       "</g>\r\n",
       "<!-- 14&#45;&gt;16 -->\r\n",
       "<g id=\"edge16\" class=\"edge\"><title>14&#45;&gt;16</title>\r\n",
       "<path fill=\"none\" stroke=\"black\" d=\"M521.311,-476.903C525.136,-465.84 529.122,-454.308 532.965,-443.19\"/>\r\n",
       "<polygon fill=\"black\" stroke=\"black\" points=\"536.339,-444.142 536.298,-433.548 529.723,-441.855 536.339,-444.142\"/>\r\n",
       "</g>\r\n",
       "</g>\r\n",
       "</svg>\r\n"
      ],
      "text/plain": [
       "<graphviz.files.Source at 0x22cde96beb8>"
      ]
     },
     "execution_count": 24,
     "metadata": {},
     "output_type": "execute_result"
    }
   ],
   "source": [
    "dot_data = tree.export_graphviz(arbol, out_file=None) \n",
    "graph = graphviz.Source(dot_data) \n",
    "graph"
   ]
  },
  {
   "cell_type": "code",
   "execution_count": 225,
   "metadata": {
    "collapsed": false
   },
   "outputs": [
    {
     "data": {
      "text/plain": [
       "array([[  5.,  12.,   1.,  13.,   6.,   6.,  12.,   5.],\n",
       "       [  7.,  10.,   4.,   5.,   2.,   5.,  12.,   5.],\n",
       "       [  4.,  10.,   0.,   9.,   7.,   2.,   7.,   5.],\n",
       "       [ 15.,   5.,   6.,   7.,  17.,   2.,   7.,   1.],\n",
       "       [  7.,   6.,   5.,  11.,   8.,   8.,   3.,  12.],\n",
       "       [  7.,   6.,   6.,  11.,   6.,   3.,   4.,   2.],\n",
       "       [  8.,   4.,   5.,   5.,   3.,   3.,   6.,   2.],\n",
       "       [  6.,   4.,   2.,  13.,   1.,   5.,   9.,   6.],\n",
       "       [  6.,   3.,   7.,   5.,   8.,   8.,   7.,   9.],\n",
       "       [  3.,   6.,  12.,   7.,   0.,   7.,   7.,   5.]])"
      ]
     },
     "execution_count": 225,
     "metadata": {},
     "output_type": "execute_result"
    }
   ],
   "source": [
    "X1,Y1=conjunto_datos(n_instancias,n_caracteristicas,n_clases)\n",
    "X1"
   ]
  },
  {
   "cell_type": "code",
   "execution_count": 226,
   "metadata": {
    "collapsed": false
   },
   "outputs": [],
   "source": [
    "m_reducida2=reducir_datos(X1,rnd_dimensions)"
   ]
  },
  {
   "cell_type": "code",
   "execution_count": 227,
   "metadata": {
    "collapsed": false
   },
   "outputs": [],
   "source": [
    "m_vecinos2=vecino_cercano(n_instancias,rnd_neighbors,m_reducida2)\n",
    "m_entrenamiento2=np.concatenate((X1,m_vecinos2),axis=1)"
   ]
  },
  {
   "cell_type": "code",
   "execution_count": 228,
   "metadata": {
    "collapsed": false
   },
   "outputs": [
    {
     "name": "stdout",
     "output_type": "stream",
     "text": [
      "[[ 0.  1.  0.  1.  1.]\n",
      " [ 0.  1.  0.  1.  1.]\n",
      " [ 0.  0.  0.  0.  0.]\n",
      " [ 0.  0.  0.  1.  0.]\n",
      " [ 0.  0.  0.  0.  0.]\n",
      " [ 0.  0.  0.  0.  0.]\n",
      " [ 0.  0.  0.  0.  0.]\n",
      " [ 0.  0.  0.  0.  0.]\n",
      " [ 0.  0.  0.  0.  0.]\n",
      " [ 0.  0.  0.  0.  0.]]\n"
     ]
    }
   ],
   "source": [
    "#e.predict(m_entrenamiento2)\n",
    "print(e.predict(m_entrenamiento2))"
   ]
  },
  {
   "cell_type": "code",
   "execution_count": null,
   "metadata": {
    "collapsed": false
   },
   "outputs": [],
   "source": []
  }
 ],
 "metadata": {
  "kernelspec": {
   "display_name": "Python 3",
   "language": "python",
   "name": "python3"
  },
  "language_info": {
   "codemirror_mode": {
    "name": "ipython",
    "version": 3
   },
   "file_extension": ".py",
   "mimetype": "text/x-python",
   "name": "python",
   "nbconvert_exporter": "python",
   "pygments_lexer": "ipython3",
   "version": "3.6.0"
  }
 },
 "nbformat": 4,
 "nbformat_minor": 2
}
