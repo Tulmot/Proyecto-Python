{
 "cells": [
  {
   "cell_type": "code",
   "execution_count": 342,
   "metadata": {
    "collapsed": true
   },
   "outputs": [],
   "source": [
    "import numpy as np\n",
    "import matplotlib.pyplot as plt\n",
    "from sklearn.datasets import make_multilabel_classification\n",
    "from scipy.spatial import distance"
   ]
  },
  {
   "cell_type": "code",
   "execution_count": 343,
   "metadata": {
    "collapsed": false
   },
   "outputs": [],
   "source": [
    "l=8\n",
    "instancias=10\n",
    "X, Y = make_multilabel_classification(n_samples=instancias, n_features=l, n_classes=5)"
   ]
  },
  {
   "cell_type": "code",
   "execution_count": 344,
   "metadata": {
    "collapsed": false
   },
   "outputs": [
    {
     "data": {
      "text/plain": [
       "array([[  6.,   9.,   9.,   2.,   3.,   5.,   8.,   4.],\n",
       "       [  9.,   9.,   7.,   5.,   4.,   5.,   7.,   6.],\n",
       "       [  4.,  11.,   7.,   3.,   7.,   6.,   4.,   9.],\n",
       "       [ 15.,   5.,   1.,   9.,   1.,   9.,   6.,   3.],\n",
       "       [  4.,  16.,   7.,   2.,   3.,   2.,  10.,   7.],\n",
       "       [  9.,   7.,   1.,   7.,   3.,   8.,  10.,   3.],\n",
       "       [  3.,  10.,   6.,   2.,   2.,   3.,  10.,   8.],\n",
       "       [  3.,  15.,   9.,   6.,   9.,   1.,   6.,  10.],\n",
       "       [ 14.,   8.,   4.,   4.,   8.,   3.,  10.,  10.],\n",
       "       [  9.,  13.,   3.,   6.,   4.,   8.,   9.,   2.]])"
      ]
     },
     "execution_count": 344,
     "metadata": {},
     "output_type": "execute_result"
    }
   ],
   "source": [
    "X"
   ]
  },
  {
   "cell_type": "code",
   "execution_count": 345,
   "metadata": {
    "collapsed": false
   },
   "outputs": [
    {
     "data": {
      "text/plain": [
       "array([[0, 0, 1, 0, 1],\n",
       "       [0, 1, 1, 1, 1],\n",
       "       [1, 0, 1, 0, 0],\n",
       "       [0, 1, 0, 1, 0],\n",
       "       [1, 0, 1, 0, 0],\n",
       "       [0, 1, 0, 1, 0],\n",
       "       [1, 0, 1, 0, 1],\n",
       "       [1, 0, 1, 0, 1],\n",
       "       [0, 0, 0, 0, 0],\n",
       "       [0, 1, 1, 1, 1]])"
      ]
     },
     "execution_count": 345,
     "metadata": {},
     "output_type": "execute_result"
    }
   ],
   "source": [
    "Y"
   ]
  },
  {
   "cell_type": "code",
   "execution_count": 414,
   "metadata": {
    "collapsed": false
   },
   "outputs": [
    {
     "data": {
      "text/plain": [
       "array([ True,  True, False, False, False,  True, False, False], dtype=bool)"
      ]
     },
     "execution_count": 414,
     "metadata": {},
     "output_type": "execute_result"
    }
   ],
   "source": [
    "from random import randint\n",
    "RndDimensions=np.random.randint(0, 2,l)\n",
    "RndDimensions=RndDimensions.astype(bool)\n",
    "RndDimensions"
   ]
  },
  {
   "cell_type": "code",
   "execution_count": 413,
   "metadata": {
    "collapsed": false
   },
   "outputs": [
    {
     "data": {
      "text/plain": [
       "array([3, 6, 2, 4, 8])"
      ]
     },
     "execution_count": 413,
     "metadata": {},
     "output_type": "execute_result"
    }
   ],
   "source": [
    "from random import shuffle\n",
    "s=list(range(instancias))\n",
    "random.shuffle(s)\n",
    "RndNeighbors=np.array(s[:(int(len(s)/2))])\n",
    "RndNeighbors"
   ]
  },
  {
   "cell_type": "code",
   "execution_count": 415,
   "metadata": {
    "collapsed": false
   },
   "outputs": [
    {
     "data": {
      "text/plain": [
       "array([[  6.,   9.,   5.],\n",
       "       [  9.,   9.,   5.],\n",
       "       [  4.,  11.,   6.],\n",
       "       [ 15.,   5.,   9.],\n",
       "       [  4.,  16.,   2.],\n",
       "       [  9.,   7.,   8.],\n",
       "       [  3.,  10.,   3.],\n",
       "       [  3.,  15.,   1.],\n",
       "       [ 14.,   8.,   3.],\n",
       "       [  9.,  13.,   8.]])"
      ]
     },
     "execution_count": 415,
     "metadata": {},
     "output_type": "execute_result"
    }
   ],
   "source": [
    "filtro = np.array([True, False, True, False, False, False, False, False])\n",
    "X[:, RndDimensions]"
   ]
  },
  {
   "cell_type": "code",
   "execution_count": 355,
   "metadata": {
    "collapsed": false
   },
   "outputs": [
    {
     "name": "stdout",
     "output_type": "stream",
     "text": [
      "18.49324200890693\n",
      "18.894443627691185\n",
      "20.8806130178211\n",
      "21.142374511865974\n",
      "23.259406699226016\n"
     ]
    }
   ],
   "source": [
    "for i in RndNeighbors:\n",
    "    print(distance.euclidean(X[i,:],RndDimensions))\n",
    "    #print(X[i,:])"
   ]
  }
 ],
 "metadata": {
  "kernelspec": {
   "display_name": "Python 3",
   "language": "python",
   "name": "python3"
  },
  "language_info": {
   "codemirror_mode": {
    "name": "ipython",
    "version": 3
   },
   "file_extension": ".py",
   "mimetype": "text/x-python",
   "name": "python",
   "nbconvert_exporter": "python",
   "pygments_lexer": "ipython3",
   "version": "3.6.0"
  }
 },
 "nbformat": 4,
 "nbformat_minor": 2
}
