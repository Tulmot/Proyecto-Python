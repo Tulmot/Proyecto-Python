{
 "cells": [
  {
   "cell_type": "code",
   "execution_count": 528,
   "metadata": {
    "collapsed": true
   },
   "outputs": [],
   "source": [
    "import numpy as np\n",
    "import matplotlib.pyplot as plt\n",
    "from sklearn.datasets import make_multilabel_classification\n",
    "from scipy.spatial import distance\n",
    "from sklearn.tree import DecisionTreeClassifier"
   ]
  },
  {
   "cell_type": "code",
   "execution_count": 445,
   "metadata": {
    "collapsed": false
   },
   "outputs": [],
   "source": [
    "caracteristicas=8\n",
    "instancias=10\n",
    "X, Y = make_multilabel_classification(n_samples=instancias, n_features=caracteristicas, n_classes=5)"
   ]
  },
  {
   "cell_type": "code",
   "execution_count": 446,
   "metadata": {
    "collapsed": false
   },
   "outputs": [
    {
     "data": {
      "text/plain": [
       "array([[  4.,   3.,   9.,   3.,   6.,   8.,  12.,   5.],\n",
       "       [  5.,   5.,   5.,   2.,   3.,  13.,   7.,   4.],\n",
       "       [  7.,   4.,   9.,   1.,   2.,  15.,   9.,   8.],\n",
       "       [  5.,   0.,   0.,   3.,  26.,   5.,  13.,   8.],\n",
       "       [  3.,   7.,   6.,   3.,   2.,   9.,  13.,   1.],\n",
       "       [ 15.,   6.,   3.,   4.,   0.,  10.,  13.,   4.],\n",
       "       [  4.,   2.,   6.,   2.,  14.,   4.,  13.,   3.],\n",
       "       [ 11.,   6.,   1.,   3.,  10.,  12.,  13.,   5.],\n",
       "       [  0.,  14.,   5.,   5.,   6.,   7.,  17.,   5.],\n",
       "       [  5.,   6.,  12.,   4.,   5.,   9.,   9.,   4.]])"
      ]
     },
     "execution_count": 446,
     "metadata": {},
     "output_type": "execute_result"
    }
   ],
   "source": [
    "X"
   ]
  },
  {
   "cell_type": "code",
   "execution_count": 447,
   "metadata": {
    "collapsed": false
   },
   "outputs": [
    {
     "data": {
      "text/plain": [
       "array([[1, 0, 1, 0, 0],\n",
       "       [0, 1, 0, 1, 0],\n",
       "       [1, 1, 1, 0, 1],\n",
       "       [1, 0, 0, 0, 0],\n",
       "       [0, 0, 1, 0, 0],\n",
       "       [0, 0, 0, 1, 0],\n",
       "       [1, 0, 0, 0, 1],\n",
       "       [1, 0, 1, 1, 0],\n",
       "       [0, 0, 1, 0, 0],\n",
       "       [0, 1, 1, 0, 1]])"
      ]
     },
     "execution_count": 447,
     "metadata": {},
     "output_type": "execute_result"
    }
   ],
   "source": [
    "Y"
   ]
  },
  {
   "cell_type": "code",
   "execution_count": 451,
   "metadata": {
    "collapsed": false
   },
   "outputs": [
    {
     "data": {
      "text/plain": [
       "array([False, False,  True,  True, False,  True, False,  True], dtype=bool)"
      ]
     },
     "execution_count": 451,
     "metadata": {},
     "output_type": "execute_result"
    }
   ],
   "source": [
    "from random import randint\n",
    "RndDimensions=np.random.randint(0, 2,caracteristicas)\n",
    "RndDimensions=RndDimensions.astype(bool)\n",
    "RndDimensions"
   ]
  },
  {
   "cell_type": "code",
   "execution_count": 449,
   "metadata": {
    "collapsed": false
   },
   "outputs": [
    {
     "data": {
      "text/plain": [
       "array([6, 4, 1, 8, 7])"
      ]
     },
     "execution_count": 449,
     "metadata": {},
     "output_type": "execute_result"
    }
   ],
   "source": [
    "from random import shuffle\n",
    "s=list(range(instancias))\n",
    "random.shuffle(s)\n",
    "RndNeighbors=np.array(s[:(int(len(s)/2))])\n",
    "RndNeighbors"
   ]
  },
  {
   "cell_type": "code",
   "execution_count": 452,
   "metadata": {
    "collapsed": false
   },
   "outputs": [
    {
     "data": {
      "text/plain": [
       "array([[  9.,   3.,   8.,   5.],\n",
       "       [  5.,   2.,  13.,   4.],\n",
       "       [  9.,   1.,  15.,   8.],\n",
       "       [  0.,   3.,   5.,   8.],\n",
       "       [  6.,   3.,   9.,   1.],\n",
       "       [  3.,   4.,  10.,   4.],\n",
       "       [  6.,   2.,   4.,   3.],\n",
       "       [  1.,   3.,  12.,   5.],\n",
       "       [  5.,   5.,   7.,   5.],\n",
       "       [ 12.,   4.,   9.,   4.]])"
      ]
     },
     "execution_count": 452,
     "metadata": {},
     "output_type": "execute_result"
    }
   ],
   "source": [
    "X2=X[:, RndDimensions]\n",
    "X2"
   ]
  },
  {
   "cell_type": "code",
   "execution_count": 489,
   "metadata": {
    "collapsed": false
   },
   "outputs": [
    {
     "data": {
      "text/plain": [
       "array([[ 0.,  0.,  0.,  0.,  0.],\n",
       "       [ 0.,  0.,  0.,  0.,  0.],\n",
       "       [ 0.,  0.,  0.,  0.,  0.],\n",
       "       [ 0.,  0.,  0.,  0.,  0.],\n",
       "       [ 0.,  0.,  0.,  0.,  0.],\n",
       "       [ 0.,  0.,  0.,  0.,  0.],\n",
       "       [ 0.,  0.,  0.,  0.,  0.],\n",
       "       [ 0.,  0.,  0.,  0.,  0.],\n",
       "       [ 0.,  0.,  0.,  0.,  0.],\n",
       "       [ 0.,  0.,  0.,  0.,  0.]])"
      ]
     },
     "execution_count": 489,
     "metadata": {},
     "output_type": "execute_result"
    }
   ],
   "source": [
    "mDistancia=np.empty((instancias,len(RndNeighbors)))\n",
    "mDistancia"
   ]
  },
  {
   "cell_type": "code",
   "execution_count": 494,
   "metadata": {
    "collapsed": false
   },
   "outputs": [
    {
     "data": {
      "text/plain": [
       "array([[ 0.,  0.,  0.,  1.,  0.],\n",
       "       [ 0.,  0.,  1.,  0.,  0.],\n",
       "       [ 0.,  0.,  1.,  0.,  0.],\n",
       "       [ 0.,  0.,  0.,  1.,  0.],\n",
       "       [ 0.,  1.,  0.,  0.,  0.],\n",
       "       [ 0.,  0.,  0.,  0.,  1.],\n",
       "       [ 1.,  0.,  0.,  0.,  0.],\n",
       "       [ 0.,  0.,  0.,  0.,  1.],\n",
       "       [ 0.,  0.,  0.,  1.,  0.],\n",
       "       [ 0.,  1.,  0.,  0.,  0.]])"
      ]
     },
     "execution_count": 494,
     "metadata": {},
     "output_type": "execute_result"
    }
   ],
   "source": [
    "cont=-1\n",
    "for i in X2:\n",
    "    dist=999\n",
    "    cont+=1\n",
    "    cont2=-1\n",
    "    for j in RndNeighbors:\n",
    "        cont2+=1\n",
    "        dist2=distance.euclidean(i,X2[j,:])\n",
    "        if dist2<dist:\n",
    "            dist=dist2\n",
    "            a=cont\n",
    "            b=cont2\n",
    "    mDistancia[a][b]=1\n",
    "mDistancia"
   ]
  },
  {
   "cell_type": "code",
   "execution_count": 526,
   "metadata": {
    "collapsed": false
   },
   "outputs": [
    {
     "data": {
      "text/plain": [
       "array([[  4.,   3.,   9.,   3.,   6.,   8.,  12.,   5.,   0.,   0.,   0.,\n",
       "          1.,   0.],\n",
       "       [  5.,   5.,   5.,   2.,   3.,  13.,   7.,   4.,   0.,   0.,   1.,\n",
       "          0.,   0.],\n",
       "       [  7.,   4.,   9.,   1.,   2.,  15.,   9.,   8.,   0.,   0.,   1.,\n",
       "          0.,   0.],\n",
       "       [  5.,   0.,   0.,   3.,  26.,   5.,  13.,   8.,   0.,   0.,   0.,\n",
       "          1.,   0.],\n",
       "       [  3.,   7.,   6.,   3.,   2.,   9.,  13.,   1.,   0.,   1.,   0.,\n",
       "          0.,   0.],\n",
       "       [ 15.,   6.,   3.,   4.,   0.,  10.,  13.,   4.,   0.,   0.,   0.,\n",
       "          0.,   1.],\n",
       "       [  4.,   2.,   6.,   2.,  14.,   4.,  13.,   3.,   1.,   0.,   0.,\n",
       "          0.,   0.],\n",
       "       [ 11.,   6.,   1.,   3.,  10.,  12.,  13.,   5.,   0.,   0.,   0.,\n",
       "          0.,   1.],\n",
       "       [  0.,  14.,   5.,   5.,   6.,   7.,  17.,   5.,   0.,   0.,   0.,\n",
       "          1.,   0.],\n",
       "       [  5.,   6.,  12.,   4.,   5.,   9.,   9.,   4.,   0.,   1.,   0.,\n",
       "          0.,   0.]])"
      ]
     },
     "execution_count": 526,
     "metadata": {},
     "output_type": "execute_result"
    }
   ],
   "source": [
    "mEntrenamiento=np.concatenate((X,mDistancia),axis=1)\n",
    "mEntrenamiento"
   ]
  },
  {
   "cell_type": "code",
   "execution_count": 530,
   "metadata": {
    "collapsed": false
   },
   "outputs": [],
   "source": [
    "e=DecisionTreeClassifier()"
   ]
  },
  {
   "cell_type": "code",
   "execution_count": 532,
   "metadata": {
    "collapsed": false
   },
   "outputs": [
    {
     "data": {
      "text/plain": [
       "DecisionTreeClassifier(class_weight=None, criterion='gini', max_depth=None,\n",
       "            max_features=None, max_leaf_nodes=None,\n",
       "            min_impurity_split=1e-07, min_samples_leaf=1,\n",
       "            min_samples_split=2, min_weight_fraction_leaf=0.0,\n",
       "            presort=False, random_state=None, splitter='best')"
      ]
     },
     "execution_count": 532,
     "metadata": {},
     "output_type": "execute_result"
    }
   ],
   "source": [
    "e.fit(X,mEntrenamiento)"
   ]
  },
  {
   "cell_type": "code",
   "execution_count": 533,
   "metadata": {
    "collapsed": false
   },
   "outputs": [
    {
     "data": {
      "text/plain": [
       "array([[  4.,   3.,   9.,   3.,   6.,   8.,  12.,   5.,   0.,   0.,   0.,\n",
       "          1.,   0.],\n",
       "       [  5.,   5.,   5.,   2.,   3.,  13.,   7.,   4.,   0.,   0.,   1.,\n",
       "          0.,   0.],\n",
       "       [  7.,   4.,   9.,   1.,   2.,  15.,   9.,   8.,   0.,   0.,   1.,\n",
       "          0.,   0.],\n",
       "       [  5.,   0.,   0.,   3.,  26.,   5.,  13.,   8.,   0.,   0.,   0.,\n",
       "          1.,   0.],\n",
       "       [  3.,   7.,   6.,   3.,   2.,   9.,  13.,   1.,   0.,   1.,   0.,\n",
       "          0.,   0.],\n",
       "       [ 15.,   6.,   3.,   4.,   0.,  10.,  13.,   4.,   0.,   0.,   0.,\n",
       "          0.,   1.],\n",
       "       [  4.,   2.,   6.,   2.,  14.,   4.,  13.,   3.,   1.,   0.,   0.,\n",
       "          0.,   0.],\n",
       "       [ 11.,   6.,   1.,   3.,  10.,  12.,  13.,   5.,   0.,   0.,   0.,\n",
       "          0.,   1.],\n",
       "       [  0.,  14.,   5.,   5.,   6.,   7.,  17.,   5.,   0.,   0.,   0.,\n",
       "          1.,   0.],\n",
       "       [  5.,   6.,  12.,   4.,   5.,   9.,   9.,   4.,   0.,   1.,   0.,\n",
       "          0.,   0.]])"
      ]
     },
     "execution_count": 533,
     "metadata": {},
     "output_type": "execute_result"
    }
   ],
   "source": [
    "e.predict(X)"
   ]
  }
 ],
 "metadata": {
  "kernelspec": {
   "display_name": "Python 3",
   "language": "python",
   "name": "python3"
  },
  "language_info": {
   "codemirror_mode": {
    "name": "ipython",
    "version": 3
   },
   "file_extension": ".py",
   "mimetype": "text/x-python",
   "name": "python",
   "nbconvert_exporter": "python",
   "pygments_lexer": "ipython3",
   "version": "3.6.0"
  }
 },
 "nbformat": 4,
 "nbformat_minor": 2
}
