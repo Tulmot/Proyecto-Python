{
 "cells": [
  {
   "cell_type": "code",
   "execution_count": 2,
   "metadata": {
    "collapsed": false
   },
   "outputs": [],
   "source": [
    "import numpy as np\n",
    "from random import shuffle\n",
    "from sklearn.datasets import make_multilabel_classification\n",
    "from sklearn.metrics.pairwise import euclidean_distances\n",
    "from sklearn.tree import DecisionTreeClassifier\n",
    "from sklearn import tree"
   ]
  },
  {
   "cell_type": "code",
   "execution_count": 141,
   "metadata": {
    "collapsed": false
   },
   "outputs": [],
   "source": [
    "n_instancias=10\n",
    "n_caracteristicas=8\n",
    "n_clases=5\n",
    "rnd_neighbors=np.array([])\n",
    "rnd_dimensions=np.array([])\n",
    "e=DecisionTreeClassifier()"
   ]
  },
  {
   "cell_type": "code",
   "execution_count": 4,
   "metadata": {
    "collapsed": true
   },
   "outputs": [],
   "source": [
    "def conjunto_datos(n_instancias,n_caracteristicas,n_clases):\n",
    "        return make_multilabel_classification(n_samples=n_instancias, \n",
    "                                              n_features=n_caracteristicas, n_classes=n_clases)   "
   ]
  },
  {
   "cell_type": "code",
   "execution_count": 105,
   "metadata": {
    "collapsed": false
   },
   "outputs": [
    {
     "data": {
      "text/plain": [
       "array([[  7.,   4.,   9.,   2.,   6.,   5.,   7.,   5.],\n",
       "       [  9.,   5.,   9.,  10.,   4.,   7.,   2.,   1.],\n",
       "       [  5.,   2.,   8.,   8.,   5.,   6.,   4.,  10.],\n",
       "       [  5.,   4.,   8.,  10.,   5.,   8.,   4.,   7.],\n",
       "       [  3.,   4.,   8.,   3.,   6.,   5.,   3.,  16.],\n",
       "       [  2.,   1.,  12.,  17.,   6.,   7.,   4.,   0.],\n",
       "       [  5.,   2.,   1.,   1.,  10.,   1.,   4.,  13.],\n",
       "       [ 10.,   5.,   6.,   5.,   6.,   9.,   5.,  13.],\n",
       "       [ 10.,   6.,   4.,   3.,   7.,   9.,   6.,   4.],\n",
       "       [  7.,  15.,   7.,   0.,   3.,   9.,   1.,  15.]])"
      ]
     },
     "execution_count": 105,
     "metadata": {},
     "output_type": "execute_result"
    }
   ],
   "source": [
    "X,Y=conjunto_datos(n_instancias,n_caracteristicas,n_clases)\n",
    "X"
   ]
  },
  {
   "cell_type": "code",
   "execution_count": 106,
   "metadata": {
    "collapsed": true
   },
   "outputs": [],
   "source": [
    "def aleatorio_boolean(n_caracteristicas):\n",
    "    rnd_dimensions=np.random.randint(0, 2,n_caracteristicas)\n",
    "    return rnd_dimensions.astype(bool)  "
   ]
  },
  {
   "cell_type": "code",
   "execution_count": 107,
   "metadata": {
    "collapsed": false
   },
   "outputs": [],
   "source": [
    "def aleatorio_array(n_instancias):\n",
    "    s=list(range(n_instancias))\n",
    "    shuffle(s)\n",
    "    return np.array(s[:(int(len(s)/2))])"
   ]
  },
  {
   "cell_type": "code",
   "execution_count": 108,
   "metadata": {
    "collapsed": true
   },
   "outputs": [],
   "source": [
    "def reducir_datos(X,rnd_dimensions):\n",
    "    return X[:, rnd_dimensions]"
   ]
  },
  {
   "cell_type": "code",
   "execution_count": 109,
   "metadata": {
    "collapsed": false
   },
   "outputs": [],
   "source": [
    "def vecino_cercano(n_instancias,rnd_neighbors,m_reducida):\n",
    "    m_vecinos=np.zeros((n_instancias,len(rnd_neighbors)))\n",
    "    cont=-1\n",
    "    for i in m_reducida:\n",
    "        dist=999\n",
    "        cont+=1\n",
    "        cont2=-1\n",
    "        for j in rnd_neighbors:\n",
    "            cont2+=1\n",
    "            dist2=euclidean_distances([i],[m_reducida[j,:]])\n",
    "            if dist2<dist:\n",
    "                dist=dist2\n",
    "                a=cont\n",
    "                b=cont2\n",
    "        m_vecinos[a][b]=1\n",
    "    return m_vecinos"
   ]
  },
  {
   "cell_type": "code",
   "execution_count": 142,
   "metadata": {
    "collapsed": false
   },
   "outputs": [],
   "source": [
    "def clasificador(X,Y,m_vecinos):\n",
    "    m_entrenamiento=np.concatenate((X,m_vecinos),axis=1)\n",
    "    return e.fit(m_entrenamiento,Y)"
   ]
  },
  {
   "cell_type": "code",
   "execution_count": 133,
   "metadata": {
    "collapsed": true
   },
   "outputs": [],
   "source": [
    "def fit(X,Y,n_instancias):\n",
    "    rnd_dimensions=aleatorio_boolean(n_caracteristicas)\n",
    "    rnd_neighbors=aleatorio_array(n_instancias)\n",
    "    m_reducida=reducir_datos(X,rnd_dimensions)\n",
    "    m_vecinos=vecino_cercano(n_instancias,rnd_neighbors,m_reducida)\n",
    "    return clasificador(X,Y,m_vecinos),rnd_neighbors,rnd_dimensions"
   ]
  },
  {
   "cell_type": "code",
   "execution_count": 143,
   "metadata": {
    "collapsed": false
   },
   "outputs": [
    {
     "name": "stdout",
     "output_type": "stream",
     "text": [
      "[[  4.   9.   2.   6.   5.   7.]\n",
      " [  5.   9.  10.   4.   7.   2.]\n",
      " [  2.   8.   8.   5.   6.   4.]\n",
      " [  4.   8.  10.   5.   8.   4.]\n",
      " [  4.   8.   3.   6.   5.   3.]\n",
      " [  1.  12.  17.   6.   7.   4.]\n",
      " [  2.   1.   1.  10.   1.   4.]\n",
      " [  5.   6.   5.   6.   9.   5.]\n",
      " [  6.   4.   3.   7.   9.   6.]\n",
      " [ 15.   7.   0.   3.   9.   1.]]\n",
      "[2 4 1 0 6]\n"
     ]
    }
   ],
   "source": [
    "arbol,rnd_neighbors,rnd_dimensions=fit(X,Y,n_instancias)\n",
    "print(rnd_neighbors)"
   ]
  },
  {
   "cell_type": "code",
   "execution_count": 144,
   "metadata": {
    "collapsed": false
   },
   "outputs": [],
   "source": [
    "with open(\"mi_arbol.dot\", 'w') as archivo_dot:\n",
    "    tree.export_graphviz(arbol, out_file = archivo_dot)"
   ]
  },
  {
   "cell_type": "code",
   "execution_count": 145,
   "metadata": {
    "collapsed": false,
    "scrolled": true
   },
   "outputs": [],
   "source": [
    "!dot -Tpng mi_arbol.dot -o arbol_decision.png"
   ]
  },
  {
   "cell_type": "code",
   "execution_count": 146,
   "metadata": {
    "collapsed": false
   },
   "outputs": [
    {
     "data": {
      "text/plain": [
       "array([[  4.,  11.,   4.,   7.,   2.,   8.,   3.,   9.],\n",
       "       [  5.,   4.,   6.,  12.,   8.,  11.,   1.,   9.],\n",
       "       [  8.,   9.,   8.,   7.,   6.,   7.,   7.,   8.],\n",
       "       [  9.,   6.,   2.,   4.,   2.,   5.,   5.,   6.],\n",
       "       [  4.,  11.,   3.,   9.,   3.,  10.,   3.,   6.],\n",
       "       [  6.,  16.,   7.,   0.,   4.,   5.,  10.,   1.],\n",
       "       [  2.,   7.,   6.,   9.,   1.,   6.,   6.,   9.],\n",
       "       [  2.,   3.,   1.,  10.,   1.,  14.,   1.,   2.],\n",
       "       [ 11.,   8.,   4.,   3.,   3.,   4.,  11.,   2.],\n",
       "       [  9.,  10.,   6.,   5.,   2.,  10.,   6.,   2.]])"
      ]
     },
     "execution_count": 146,
     "metadata": {},
     "output_type": "execute_result"
    }
   ],
   "source": [
    "X1,Y1=conjunto_datos(n_instancias,n_caracteristicas,n_clases)\n",
    "X1"
   ]
  },
  {
   "cell_type": "code",
   "execution_count": 147,
   "metadata": {
    "collapsed": false
   },
   "outputs": [
    {
     "data": {
      "text/plain": [
       "array([[  4.,  11.,   4.,   7.,   2.,   8.,   3.,   9.],\n",
       "       [  5.,   4.,   6.,  12.,   8.,  11.,   1.,   9.],\n",
       "       [  8.,   9.,   8.,   7.,   6.,   7.,   7.,   8.],\n",
       "       [  4.,  11.,   3.,   9.,   3.,  10.,   3.,   6.],\n",
       "       [  2.,   7.,   6.,   9.,   1.,   6.,   6.,   9.]])"
      ]
     },
     "execution_count": 147,
     "metadata": {},
     "output_type": "execute_result"
    }
   ],
   "source": [
    "m_predecir=np.zeros((len(rnd_neighbors),n_caracteristicas))\n",
    "cont=0\n",
    "for i in range(len(X1)):\n",
    "    if i in rnd_neighbors:\n",
    "        m_predecir[cont]=X1[i,:]\n",
    "        cont+=1\n",
    "m_predecir"
   ]
  },
  {
   "cell_type": "code",
   "execution_count": 151,
   "metadata": {
    "collapsed": false
   },
   "outputs": [],
   "source": [
    "m_reducida2=reducir_datos(X1,rnd_dimensions)"
   ]
  },
  {
   "cell_type": "code",
   "execution_count": 149,
   "metadata": {
    "collapsed": false
   },
   "outputs": [],
   "source": [
    "m_vecinos2=vecino_cercano(n_instancias,rnd_neighbors,m_reducida2)\n",
    "m_entrenamiento2=np.concatenate((X1,m_vecinos2),axis=1)"
   ]
  },
  {
   "cell_type": "code",
   "execution_count": 150,
   "metadata": {
    "collapsed": false
   },
   "outputs": [
    {
     "name": "stdout",
     "output_type": "stream",
     "text": [
      "DecisionTreeClassifier(class_weight=None, criterion='gini', max_depth=None,\n",
      "            max_features=None, max_leaf_nodes=None,\n",
      "            min_impurity_split=1e-07, min_samples_leaf=1,\n",
      "            min_samples_split=2, min_weight_fraction_leaf=0.0,\n",
      "            presort=False, random_state=None, splitter='best')\n"
     ]
    }
   ],
   "source": [
    "e.predict(m_entrenamiento2)\n",
    "print(e)"
   ]
  },
  {
   "cell_type": "code",
   "execution_count": null,
   "metadata": {
    "collapsed": true
   },
   "outputs": [],
   "source": []
  }
 ],
 "metadata": {
  "kernelspec": {
   "display_name": "Python 3",
   "language": "python",
   "name": "python3"
  },
  "language_info": {
   "codemirror_mode": {
    "name": "ipython",
    "version": 3
   },
   "file_extension": ".py",
   "mimetype": "text/x-python",
   "name": "python",
   "nbconvert_exporter": "python",
   "pygments_lexer": "ipython3",
   "version": "3.6.0"
  }
 },
 "nbformat": 4,
 "nbformat_minor": 2
}
