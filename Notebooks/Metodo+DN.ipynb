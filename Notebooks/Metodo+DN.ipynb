{
 "cells": [
  {
   "cell_type": "code",
   "execution_count": 71,
   "metadata": {
    "collapsed": true
   },
   "outputs": [],
   "source": [
    "import numpy as np\n",
    "import matplotlib.pyplot as plt\n",
    "from random import shuffle\n",
    "from sklearn.datasets import make_multilabel_classification\n",
    "from sklearn.metrics.pairwise import euclidean_distances\n",
    "from sklearn.tree import DecisionTreeClassifier"
   ]
  },
  {
   "cell_type": "code",
   "execution_count": 72,
   "metadata": {
    "collapsed": false
   },
   "outputs": [],
   "source": [
    "caracteristicas=8\n",
    "instancias=10\n",
    "X, Y = make_multilabel_classification(n_samples=instancias, n_features=caracteristicas, n_classes=5)"
   ]
  },
  {
   "cell_type": "code",
   "execution_count": 73,
   "metadata": {
    "collapsed": false
   },
   "outputs": [
    {
     "data": {
      "text/plain": [
       "array([[  3.,   3.,   9.,  10.,   4.,   6.,   1.,  10.],\n",
       "       [  2.,   9.,   2.,   7.,   8.,   4.,   6.,   2.],\n",
       "       [  8.,   7.,  12.,   8.,   2.,  13.,   4.,   5.],\n",
       "       [  6.,   5.,   5.,   3.,   8.,  12.,   6.,   1.],\n",
       "       [  0.,   7.,   5.,  16.,  14.,  10.,   7.,   3.],\n",
       "       [  4.,   2.,   9.,   0.,   7.,  14.,   7.,   6.],\n",
       "       [  3.,   8.,   9.,  13.,   2.,  13.,   4.,   2.],\n",
       "       [  2.,  10.,   9.,   9.,   6.,   5.,   4.,   6.],\n",
       "       [  1.,   2.,   8.,   7.,  20.,   2.,   5.,   8.],\n",
       "       [  4.,   4.,   5.,   8.,  15.,  10.,   3.,   2.]])"
      ]
     },
     "execution_count": 73,
     "metadata": {},
     "output_type": "execute_result"
    }
   ],
   "source": [
    "X"
   ]
  },
  {
   "cell_type": "code",
   "execution_count": 74,
   "metadata": {
    "collapsed": false
   },
   "outputs": [
    {
     "data": {
      "text/plain": [
       "array([[0, 1, 0, 1, 0],\n",
       "       [1, 1, 1, 1, 1],\n",
       "       [1, 1, 0, 0, 0],\n",
       "       [0, 1, 0, 0, 1],\n",
       "       [0, 1, 0, 1, 1],\n",
       "       [1, 0, 1, 1, 1],\n",
       "       [1, 1, 0, 0, 0],\n",
       "       [0, 1, 0, 0, 0],\n",
       "       [0, 0, 0, 1, 0],\n",
       "       [0, 1, 0, 0, 1]])"
      ]
     },
     "execution_count": 74,
     "metadata": {},
     "output_type": "execute_result"
    }
   ],
   "source": [
    "Y"
   ]
  },
  {
   "cell_type": "code",
   "execution_count": 75,
   "metadata": {
    "collapsed": false
   },
   "outputs": [
    {
     "data": {
      "text/plain": [
       "array([ True, False, False,  True,  True,  True,  True,  True], dtype=bool)"
      ]
     },
     "execution_count": 75,
     "metadata": {},
     "output_type": "execute_result"
    }
   ],
   "source": [
    "rnd_dimensions=np.random.randint(0, 2,caracteristicas)\n",
    "rnd_dimensions=rnd_dimensions.astype(bool)\n",
    "rnd_dimensions"
   ]
  },
  {
   "cell_type": "code",
   "execution_count": 76,
   "metadata": {
    "collapsed": false
   },
   "outputs": [
    {
     "data": {
      "text/plain": [
       "array([7, 0, 6, 5, 9])"
      ]
     },
     "execution_count": 76,
     "metadata": {},
     "output_type": "execute_result"
    }
   ],
   "source": [
    "s=list(range(instancias))\n",
    "shuffle(s)\n",
    "rnd_neighbors=np.array(s[:(int(len(s)/2))])\n",
    "rnd_neighbors"
   ]
  },
  {
   "cell_type": "code",
   "execution_count": 77,
   "metadata": {
    "collapsed": false
   },
   "outputs": [
    {
     "data": {
      "text/plain": [
       "array([[  3.,  10.,   4.,   6.,   1.,  10.],\n",
       "       [  2.,   7.,   8.,   4.,   6.,   2.],\n",
       "       [  8.,   8.,   2.,  13.,   4.,   5.],\n",
       "       [  6.,   3.,   8.,  12.,   6.,   1.],\n",
       "       [  0.,  16.,  14.,  10.,   7.,   3.],\n",
       "       [  4.,   0.,   7.,  14.,   7.,   6.],\n",
       "       [  3.,  13.,   2.,  13.,   4.,   2.],\n",
       "       [  2.,   9.,   6.,   5.,   4.,   6.],\n",
       "       [  1.,   7.,  20.,   2.,   5.,   8.],\n",
       "       [  4.,   8.,  15.,  10.,   3.,   2.]])"
      ]
     },
     "execution_count": 77,
     "metadata": {},
     "output_type": "execute_result"
    }
   ],
   "source": [
    "m_reducida=X[:, rnd_dimensions]\n",
    "m_reducida"
   ]
  },
  {
   "cell_type": "code",
   "execution_count": 78,
   "metadata": {
    "collapsed": false
   },
   "outputs": [
    {
     "data": {
      "text/plain": [
       "array([[ 0.,  0.,  0.,  0.,  0.],\n",
       "       [ 0.,  0.,  0.,  0.,  0.],\n",
       "       [ 0.,  0.,  0.,  0.,  0.],\n",
       "       [ 0.,  0.,  0.,  0.,  0.],\n",
       "       [ 0.,  0.,  0.,  0.,  0.],\n",
       "       [ 0.,  0.,  0.,  0.,  0.],\n",
       "       [ 0.,  0.,  0.,  0.,  0.],\n",
       "       [ 0.,  0.,  0.,  0.,  0.],\n",
       "       [ 0.,  0.,  0.,  0.,  0.],\n",
       "       [ 0.,  0.,  0.,  0.,  0.]])"
      ]
     },
     "execution_count": 78,
     "metadata": {},
     "output_type": "execute_result"
    }
   ],
   "source": [
    "m_vecinos=np.zeros((instancias,len(rnd_neighbors)))\n",
    "m_vecinos"
   ]
  },
  {
   "cell_type": "code",
   "execution_count": 79,
   "metadata": {
    "collapsed": false
   },
   "outputs": [
    {
     "data": {
      "text/plain": [
       "array([[ 0.,  1.,  0.,  0.,  0.],\n",
       "       [ 1.,  0.,  0.,  0.,  0.],\n",
       "       [ 0.,  0.,  1.,  0.,  0.],\n",
       "       [ 0.,  0.,  0.,  1.,  0.],\n",
       "       [ 0.,  0.,  0.,  0.,  1.],\n",
       "       [ 0.,  0.,  0.,  1.,  0.],\n",
       "       [ 0.,  0.,  1.,  0.,  0.],\n",
       "       [ 1.,  0.,  0.,  0.,  0.],\n",
       "       [ 0.,  0.,  0.,  0.,  1.],\n",
       "       [ 0.,  0.,  0.,  0.,  1.]])"
      ]
     },
     "execution_count": 79,
     "metadata": {},
     "output_type": "execute_result"
    }
   ],
   "source": [
    "cont=-1\n",
    "for i in m_reducida:\n",
    "    dist=999\n",
    "    cont+=1\n",
    "    cont2=-1\n",
    "    for j in rnd_neighbors:\n",
    "        cont2+=1\n",
    "        dist2=euclidean_distances([i],[m_reducida[j,:]])\n",
    "        if dist2<dist:\n",
    "            dist=dist2\n",
    "            a=cont\n",
    "            b=cont2\n",
    "    m_vecinos[a][b]=1\n",
    "m_vecinos"
   ]
  },
  {
   "cell_type": "code",
   "execution_count": 80,
   "metadata": {
    "collapsed": false
   },
   "outputs": [
    {
     "data": {
      "text/plain": [
       "array([[  3.,   3.,   9.,  10.,   4.,   6.,   1.,  10.,   0.,   1.,   0.,\n",
       "          0.,   0.],\n",
       "       [  2.,   9.,   2.,   7.,   8.,   4.,   6.,   2.,   1.,   0.,   0.,\n",
       "          0.,   0.],\n",
       "       [  8.,   7.,  12.,   8.,   2.,  13.,   4.,   5.,   0.,   0.,   1.,\n",
       "          0.,   0.],\n",
       "       [  6.,   5.,   5.,   3.,   8.,  12.,   6.,   1.,   0.,   0.,   0.,\n",
       "          1.,   0.],\n",
       "       [  0.,   7.,   5.,  16.,  14.,  10.,   7.,   3.,   0.,   0.,   0.,\n",
       "          0.,   1.],\n",
       "       [  4.,   2.,   9.,   0.,   7.,  14.,   7.,   6.,   0.,   0.,   0.,\n",
       "          1.,   0.],\n",
       "       [  3.,   8.,   9.,  13.,   2.,  13.,   4.,   2.,   0.,   0.,   1.,\n",
       "          0.,   0.],\n",
       "       [  2.,  10.,   9.,   9.,   6.,   5.,   4.,   6.,   1.,   0.,   0.,\n",
       "          0.,   0.],\n",
       "       [  1.,   2.,   8.,   7.,  20.,   2.,   5.,   8.,   0.,   0.,   0.,\n",
       "          0.,   1.],\n",
       "       [  4.,   4.,   5.,   8.,  15.,  10.,   3.,   2.,   0.,   0.,   0.,\n",
       "          0.,   1.]])"
      ]
     },
     "execution_count": 80,
     "metadata": {},
     "output_type": "execute_result"
    }
   ],
   "source": [
    "m_entrenamiento=np.concatenate((X,m_vecinos),axis=1)\n",
    "m_entrenamiento"
   ]
  },
  {
   "cell_type": "code",
   "execution_count": 81,
   "metadata": {
    "collapsed": false
   },
   "outputs": [
    {
     "data": {
      "text/plain": [
       "DecisionTreeClassifier(class_weight=None, criterion='gini', max_depth=None,\n",
       "            max_features=None, max_leaf_nodes=None,\n",
       "            min_impurity_split=1e-07, min_samples_leaf=1,\n",
       "            min_samples_split=2, min_weight_fraction_leaf=0.0,\n",
       "            presort=False, random_state=None, splitter='best')"
      ]
     },
     "execution_count": 81,
     "metadata": {},
     "output_type": "execute_result"
    }
   ],
   "source": [
    "e=DecisionTreeClassifier()\n",
    "e.fit(m_entrenamiento,Y)"
   ]
  },
  {
   "cell_type": "code",
   "execution_count": 132,
   "metadata": {
    "collapsed": false
   },
   "outputs": [
    {
     "data": {
      "text/plain": [
       "array([[  3.,   3.,   9.,  10.,   4.,   6.,   1.,  10.],\n",
       "       [  4.,   2.,   9.,   0.,   7.,  14.,   7.,   6.],\n",
       "       [  3.,   8.,   9.,  13.,   2.,  13.,   4.,   2.],\n",
       "       [  2.,  10.,   9.,   9.,   6.,   5.,   4.,   6.],\n",
       "       [  4.,   4.,   5.,   8.,  15.,  10.,   3.,   2.]])"
      ]
     },
     "execution_count": 132,
     "metadata": {},
     "output_type": "execute_result"
    }
   ],
   "source": [
    "m_predecir=np.zeros((len(rnd_neighbors),caracteristicas))\n",
    "cont=0\n",
    "for i in range(len(X)):\n",
    "    if i in rnd_neighbors:\n",
    "        m_predice[cont]=X[i,:]\n",
    "        cont+=1\n",
    "m_predicir"
   ]
  },
  {
   "cell_type": "code",
   "execution_count": 539,
   "metadata": {
    "collapsed": false
   },
   "outputs": [
    {
     "ename": "ValueError",
     "evalue": "Number of features of the model must match the input. Model n_features is 13 and input n_features is 8 ",
     "output_type": "error",
     "traceback": [
      "\u001b[0;31m---------------------------------------------------------------------------\u001b[0m",
      "\u001b[0;31mValueError\u001b[0m                                Traceback (most recent call last)",
      "\u001b[0;32m<ipython-input-539-c42286477116>\u001b[0m in \u001b[0;36m<module>\u001b[0;34m()\u001b[0m\n\u001b[0;32m----> 1\u001b[0;31m \u001b[0me\u001b[0m\u001b[1;33m.\u001b[0m\u001b[0mpredict\u001b[0m\u001b[1;33m(\u001b[0m\u001b[0mX\u001b[0m\u001b[1;33m)\u001b[0m\u001b[1;33m\u001b[0m\u001b[0m\n\u001b[0m\u001b[1;32m      2\u001b[0m \u001b[0mprint\u001b[0m\u001b[1;33m(\u001b[0m\u001b[0me\u001b[0m\u001b[1;33m)\u001b[0m\u001b[1;33m\u001b[0m\u001b[0m\n",
      "\u001b[0;32mC:\\Users\\Tubi\\Anaconda3\\lib\\site-packages\\sklearn\\tree\\tree.py\u001b[0m in \u001b[0;36mpredict\u001b[0;34m(self, X, check_input)\u001b[0m\n\u001b[1;32m    402\u001b[0m         \"\"\"\n\u001b[1;32m    403\u001b[0m \u001b[1;33m\u001b[0m\u001b[0m\n\u001b[0;32m--> 404\u001b[0;31m         \u001b[0mX\u001b[0m \u001b[1;33m=\u001b[0m \u001b[0mself\u001b[0m\u001b[1;33m.\u001b[0m\u001b[0m_validate_X_predict\u001b[0m\u001b[1;33m(\u001b[0m\u001b[0mX\u001b[0m\u001b[1;33m,\u001b[0m \u001b[0mcheck_input\u001b[0m\u001b[1;33m)\u001b[0m\u001b[1;33m\u001b[0m\u001b[0m\n\u001b[0m\u001b[1;32m    405\u001b[0m         \u001b[0mproba\u001b[0m \u001b[1;33m=\u001b[0m \u001b[0mself\u001b[0m\u001b[1;33m.\u001b[0m\u001b[0mtree_\u001b[0m\u001b[1;33m.\u001b[0m\u001b[0mpredict\u001b[0m\u001b[1;33m(\u001b[0m\u001b[0mX\u001b[0m\u001b[1;33m)\u001b[0m\u001b[1;33m\u001b[0m\u001b[0m\n\u001b[1;32m    406\u001b[0m         \u001b[0mn_samples\u001b[0m \u001b[1;33m=\u001b[0m \u001b[0mX\u001b[0m\u001b[1;33m.\u001b[0m\u001b[0mshape\u001b[0m\u001b[1;33m[\u001b[0m\u001b[1;36m0\u001b[0m\u001b[1;33m]\u001b[0m\u001b[1;33m\u001b[0m\u001b[0m\n",
      "\u001b[0;32mC:\\Users\\Tubi\\Anaconda3\\lib\\site-packages\\sklearn\\tree\\tree.py\u001b[0m in \u001b[0;36m_validate_X_predict\u001b[0;34m(self, X, check_input)\u001b[0m\n\u001b[1;32m    374\u001b[0m                              \u001b[1;34m\"match the input. Model n_features is %s and \"\u001b[0m\u001b[1;33m\u001b[0m\u001b[0m\n\u001b[1;32m    375\u001b[0m                              \u001b[1;34m\"input n_features is %s \"\u001b[0m\u001b[1;33m\u001b[0m\u001b[0m\n\u001b[0;32m--> 376\u001b[0;31m                              % (self.n_features_, n_features))\n\u001b[0m\u001b[1;32m    377\u001b[0m \u001b[1;33m\u001b[0m\u001b[0m\n\u001b[1;32m    378\u001b[0m         \u001b[1;32mreturn\u001b[0m \u001b[0mX\u001b[0m\u001b[1;33m\u001b[0m\u001b[0m\n",
      "\u001b[0;31mValueError\u001b[0m: Number of features of the model must match the input. Model n_features is 13 and input n_features is 8 "
     ]
    }
   ],
   "source": [
    "e.predict(X)\n",
    "print(e)"
   ]
  }
 ],
 "metadata": {
  "kernelspec": {
   "display_name": "Python 3",
   "language": "python",
   "name": "python3"
  },
  "language_info": {
   "codemirror_mode": {
    "name": "ipython",
    "version": 3
   },
   "file_extension": ".py",
   "mimetype": "text/x-python",
   "name": "python",
   "nbconvert_exporter": "python",
   "pygments_lexer": "ipython3",
   "version": "3.6.0"
  }
 },
 "nbformat": 4,
 "nbformat_minor": 2
}
