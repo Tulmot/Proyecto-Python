{
 "cells": [
  {
   "cell_type": "code",
   "execution_count": 17,
   "metadata": {
    "collapsed": false
   },
   "outputs": [],
   "source": [
    "from sklearn.datasets import make_multilabel_classification\n",
    "import numpy as np\n",
    "from sklearn.utils import check_random_state\n",
    "\n",
    "#from sklearn.disturbing_neighbors import disturbing_neighbors\n",
    "#from sklearn.disturbing_neighbors import DisturbingNeighbors"
   ]
  },
  {
   "cell_type": "code",
   "execution_count": 91,
   "metadata": {
    "collapsed": false
   },
   "outputs": [
    {
     "data": {
      "text/plain": [
       "array([8, 0, 4, 1, 4])"
      ]
     },
     "execution_count": 91,
     "metadata": {},
     "output_type": "execute_result"
    }
   ],
   "source": [
    "random_state=None\n",
    "random_state = check_random_state(random_state)\n",
    "random_state.randint(0, 12,5)"
   ]
  },
  {
   "cell_type": "code",
   "execution_count": 18,
   "metadata": {
    "collapsed": false
   },
   "outputs": [
    {
     "name": "stdout",
     "output_type": "stream",
     "text": [
      "[[  7.   8.   1.   9.   1.   9.   7.   3.   0.   4.]\n",
      " [  8.   5.   4.   8.   3.   7.  11.   5.   5.   4.]\n",
      " [  5.   8.   9.   4.   7.   3.   4.   5.   1.   6.]\n",
      " [  6.   7.   4.   4.   6.   4.   3.   4.   4.  13.]\n",
      " [  6.   4.   1.  10.   2.   2.   5.   4.   1.   0.]\n",
      " [  4.   3.   4.   3.   9.   3.   6.   4.   1.   9.]\n",
      " [  8.   8.   3.  15.   3.   2.   8.   3.   3.  10.]\n",
      " [  8.   4.   6.  12.   4.  11.   6.   3.   2.   9.]\n",
      " [  8.   3.   8.   3.   8.   2.   8.   3.   3.  11.]\n",
      " [  8.   3.   5.   4.   4.   3.   6.   4.   1.   9.]\n",
      " [ 12.   6.   2.  12.   6.   3.   7.   2.   4.   3.]\n",
      " [  7.   8.   6.   6.   1.   2.   8.   1.   5.   1.]] [[0 1 0 0 0]\n",
      " [0 1 1 1 1]\n",
      " [0 0 1 0 0]\n",
      " [1 0 1 0 0]\n",
      " [1 1 0 0 0]\n",
      " [0 0 1 0 0]\n",
      " [1 1 0 0 0]\n",
      " [0 1 1 0 0]\n",
      " [0 0 1 0 1]\n",
      " [0 0 1 0 0]\n",
      " [1 1 1 1 0]\n",
      " [0 0 0 1 0]]\n"
     ]
    }
   ],
   "source": [
    "seed = 0\n",
    "\n",
    "X,Y=make_multilabel_classification(n_samples=12, n_features=10, random_state=seed) \n",
    "\n",
    "print(X,Y)"
   ]
  },
  {
   "cell_type": "code",
   "execution_count": 85,
   "metadata": {
    "collapsed": false
   },
   "outputs": [],
   "source": [
    "#dn=disturbing_neighbors()\n",
    "#dn=bagging()\n",
    "dn=BaggingClassifier(random_state=seed)\n",
    "matrizFitX = np.matrix([X[i,:] for i in range(5)], dtype=int)\n",
    "matrizFitY = np.matrix([Y[i,:] for i in range(5)], dtype=int)\n",
    "\n",
    "#dn.fit(matrizFitX,matrizFitY)\n",
    "matrizPredict=np.matrix([X[j+5,:] for j in range(len(X)-5)], dtype=int)\n",
    "#dn.predict(matrizPredict)"
   ]
  }
 ],
 "metadata": {
  "kernelspec": {
   "display_name": "Python 3",
   "language": "python",
   "name": "python3"
  },
  "language_info": {
   "codemirror_mode": {
    "name": "ipython",
    "version": 3
   },
   "file_extension": ".py",
   "mimetype": "text/x-python",
   "name": "python",
   "nbconvert_exporter": "python",
   "pygments_lexer": "ipython3",
   "version": "3.6.0"
  }
 },
 "nbformat": 4,
 "nbformat_minor": 2
}
