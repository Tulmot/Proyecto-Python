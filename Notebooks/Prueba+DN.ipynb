{
 "cells": [
  {
   "cell_type": "code",
   "execution_count": 1,
   "metadata": {
    "collapsed": false
   },
   "outputs": [],
   "source": [
    "from sklearn.datasets import make_multilabel_classification\n",
    "import numpy as np\n",
    "\n",
    "from sklearn.disturbing_neighbors import disturbing_neighbors\n",
    "from sklearn.ensemble import bagging\n",
    "from sklearn.ensemble import BaggingClassifier"
   ]
  },
  {
   "cell_type": "code",
   "execution_count": 2,
   "metadata": {
    "collapsed": false
   },
   "outputs": [
    {
     "name": "stdout",
     "output_type": "stream",
     "text": [
      "prueba: 1\n",
      "[[  7.   8.   1.   9.   1.   9.   7.   3.   0.   4.]\n",
      " [  8.   5.   4.   8.   3.   7.  11.   5.   5.   4.]\n",
      " [  5.   8.   9.   4.   7.   3.   4.   5.   1.   6.]\n",
      " [  6.   7.   4.   4.   6.   4.   3.   4.   4.  13.]\n",
      " [  6.   4.   1.  10.   2.   2.   5.   4.   1.   0.]\n",
      " [  4.   3.   4.   3.   9.   3.   6.   4.   1.   9.]\n",
      " [  8.   8.   3.  15.   3.   2.   8.   3.   3.  10.]\n",
      " [  8.   4.   6.  12.   4.  11.   6.   3.   2.   9.]\n",
      " [  8.   3.   8.   3.   8.   2.   8.   3.   3.  11.]\n",
      " [  8.   3.   5.   4.   4.   3.   6.   4.   1.   9.]\n",
      " [ 12.   6.   2.  12.   6.   3.   7.   2.   4.   3.]\n",
      " [  7.   8.   6.   6.   1.   2.   8.   1.   5.   1.]] [[0 1 0 0 0]\n",
      " [0 1 1 1 1]\n",
      " [0 0 1 0 0]\n",
      " [1 0 1 0 0]\n",
      " [1 1 0 0 0]\n",
      " [0 0 1 0 0]\n",
      " [1 1 0 0 0]\n",
      " [0 1 1 0 0]\n",
      " [0 0 1 0 1]\n",
      " [0 0 1 0 0]\n",
      " [1 1 1 1 0]\n",
      " [0 0 0 1 0]]\n",
      "[[  6.   5.   7.   2.   5.   2.   5.  10.   5.   4.]\n",
      " [  5.   9.   1.   6.   0.   0.   5.   5.   8.   7.]\n",
      " [  2.   4.   6.   6.   7.   2.   3.   8.   5.   0.]\n",
      " [  5.   2.   9.   7.   5.  11.   6.   5.   4.   6.]\n",
      " [  3.   1.   5.   6.   5.   2.   3.  15.   4.   0.]\n",
      " [  0.   9.   8.   7.   2.   3.   5.   6.   8.   6.]\n",
      " [  3.  11.   1.   3.   2.   4.   0.  15.   3.   1.]\n",
      " [  3.   6.   4.   5.   8.   2.   2.   6.   8.   5.]\n",
      " [  2.   3.   5.  11.   8.   4.   8.   5.   6.   1.]\n",
      " [  1.   7.   3.   4.   0.   5.   5.  10.   6.   4.]\n",
      " [  2.   6.   2.   7.   0.   5.   9.   3.   5.   8.]\n",
      " [  7.   7.   7.   5.  12.   1.   1.   6.   2.   0.]] [[0 0 0 0 0]\n",
      " [0 1 0 0 0]\n",
      " [1 0 0 0 0]\n",
      " [1 1 1 1 1]\n",
      " [1 1 0 0 0]\n",
      " [0 1 0 0 0]\n",
      " [0 0 0 1 0]\n",
      " [1 1 0 1 0]\n",
      " [1 1 0 1 1]\n",
      " [0 1 0 0 0]\n",
      " [0 1 0 0 0]\n",
      " [0 0 0 0 0]]\n",
      "prueba: 2\n",
      "[[  7.   8.   1.   9.   1.   9.   7.   3.   0.   4.]\n",
      " [  8.   5.   4.   8.   3.   7.  11.   5.   5.   4.]\n",
      " [  5.   8.   9.   4.   7.   3.   4.   5.   1.   6.]\n",
      " [  6.   7.   4.   4.   6.   4.   3.   4.   4.  13.]\n",
      " [  6.   4.   1.  10.   2.   2.   5.   4.   1.   0.]\n",
      " [  4.   3.   4.   3.   9.   3.   6.   4.   1.   9.]\n",
      " [  8.   8.   3.  15.   3.   2.   8.   3.   3.  10.]\n",
      " [  8.   4.   6.  12.   4.  11.   6.   3.   2.   9.]\n",
      " [  8.   3.   8.   3.   8.   2.   8.   3.   3.  11.]\n",
      " [  8.   3.   5.   4.   4.   3.   6.   4.   1.   9.]\n",
      " [ 12.   6.   2.  12.   6.   3.   7.   2.   4.   3.]\n",
      " [  7.   8.   6.   6.   1.   2.   8.   1.   5.   1.]] [[0 1 0 0 0]\n",
      " [0 1 1 1 1]\n",
      " [0 0 1 0 0]\n",
      " [1 0 1 0 0]\n",
      " [1 1 0 0 0]\n",
      " [0 0 1 0 0]\n",
      " [1 1 0 0 0]\n",
      " [0 1 1 0 0]\n",
      " [0 0 1 0 1]\n",
      " [0 0 1 0 0]\n",
      " [1 1 1 1 0]\n",
      " [0 0 0 1 0]]\n",
      "[[  6.   5.   7.   2.   5.   2.   5.  10.   5.   4.]\n",
      " [  5.   9.   1.   6.   0.   0.   5.   5.   8.   7.]\n",
      " [  2.   4.   6.   6.   7.   2.   3.   8.   5.   0.]\n",
      " [  5.   2.   9.   7.   5.  11.   6.   5.   4.   6.]\n",
      " [  3.   1.   5.   6.   5.   2.   3.  15.   4.   0.]\n",
      " [  0.   9.   8.   7.   2.   3.   5.   6.   8.   6.]\n",
      " [  3.  11.   1.   3.   2.   4.   0.  15.   3.   1.]\n",
      " [  3.   6.   4.   5.   8.   2.   2.   6.   8.   5.]\n",
      " [  2.   3.   5.  11.   8.   4.   8.   5.   6.   1.]\n",
      " [  1.   7.   3.   4.   0.   5.   5.  10.   6.   4.]\n",
      " [  2.   6.   2.   7.   0.   5.   9.   3.   5.   8.]\n",
      " [  7.   7.   7.   5.  12.   1.   1.   6.   2.   0.]] [[0 0 0 0 0]\n",
      " [0 1 0 0 0]\n",
      " [1 0 0 0 0]\n",
      " [1 1 1 1 1]\n",
      " [1 1 0 0 0]\n",
      " [0 1 0 0 0]\n",
      " [0 0 0 1 0]\n",
      " [1 1 0 1 0]\n",
      " [1 1 0 1 1]\n",
      " [0 1 0 0 0]\n",
      " [0 1 0 0 0]\n",
      " [0 0 0 0 0]]\n"
     ]
    }
   ],
   "source": [
    "for i in range(2):\n",
    "    print('prueba:', i + 1)\n",
    "    np.random.seed(0)\n",
    "    X,Y=make_multilabel_classification(n_samples=12, n_features=10) \n",
    "    print(X,Y)\n",
    "    np.random.seed(1)\n",
    "    X,Y=make_multilabel_classification(n_samples=12, n_features=10) \n",
    "    print(X,Y)"
   ]
  },
  {
   "cell_type": "code",
   "execution_count": 22,
   "metadata": {
    "collapsed": false
   },
   "outputs": [
    {
     "ename": "TypeError",
     "evalue": "'module' object is not callable",
     "output_type": "error",
     "traceback": [
      "\u001b[0;31m---------------------------------------------------------------------------\u001b[0m",
      "\u001b[0;31mTypeError\u001b[0m                                 Traceback (most recent call last)",
      "\u001b[0;32m<ipython-input-22-e749ec7f74c9>\u001b[0m in \u001b[0;36m<module>\u001b[0;34m()\u001b[0m\n\u001b[0;32m----> 1\u001b[0;31m \u001b[0mdn\u001b[0m\u001b[1;33m=\u001b[0m\u001b[0mdisturbing_neighbors\u001b[0m\u001b[1;33m(\u001b[0m\u001b[1;33m)\u001b[0m\u001b[1;33m\u001b[0m\u001b[0m\n\u001b[0m\u001b[1;32m      2\u001b[0m \u001b[1;31m#dn=bagging()\u001b[0m\u001b[1;33m\u001b[0m\u001b[1;33m\u001b[0m\u001b[0m\n\u001b[1;32m      3\u001b[0m \u001b[0mdn\u001b[0m\u001b[1;33m=\u001b[0m\u001b[0mBaggingClassifier\u001b[0m\u001b[1;33m(\u001b[0m\u001b[1;33m)\u001b[0m\u001b[1;33m\u001b[0m\u001b[0m\n\u001b[1;32m      4\u001b[0m \u001b[0mmatrizFitX\u001b[0m \u001b[1;33m=\u001b[0m \u001b[0mnp\u001b[0m\u001b[1;33m.\u001b[0m\u001b[0mmatrix\u001b[0m\u001b[1;33m(\u001b[0m\u001b[1;33m[\u001b[0m\u001b[0mX\u001b[0m\u001b[1;33m[\u001b[0m\u001b[0mi\u001b[0m\u001b[1;33m,\u001b[0m\u001b[1;33m:\u001b[0m\u001b[1;33m]\u001b[0m \u001b[1;32mfor\u001b[0m \u001b[0mi\u001b[0m \u001b[1;32min\u001b[0m \u001b[0mrange\u001b[0m\u001b[1;33m(\u001b[0m\u001b[1;36m5\u001b[0m\u001b[1;33m)\u001b[0m\u001b[1;33m]\u001b[0m\u001b[1;33m,\u001b[0m \u001b[0mdtype\u001b[0m\u001b[1;33m=\u001b[0m\u001b[0mint\u001b[0m\u001b[1;33m)\u001b[0m\u001b[1;33m\u001b[0m\u001b[0m\n\u001b[1;32m      5\u001b[0m \u001b[0mmatrizFitY\u001b[0m \u001b[1;33m=\u001b[0m \u001b[0mnp\u001b[0m\u001b[1;33m.\u001b[0m\u001b[0mmatrix\u001b[0m\u001b[1;33m(\u001b[0m\u001b[1;33m[\u001b[0m\u001b[0mY\u001b[0m\u001b[1;33m[\u001b[0m\u001b[0mi\u001b[0m\u001b[1;33m,\u001b[0m\u001b[1;33m:\u001b[0m\u001b[1;33m]\u001b[0m \u001b[1;32mfor\u001b[0m \u001b[0mi\u001b[0m \u001b[1;32min\u001b[0m \u001b[0mrange\u001b[0m\u001b[1;33m(\u001b[0m\u001b[1;36m5\u001b[0m\u001b[1;33m)\u001b[0m\u001b[1;33m]\u001b[0m\u001b[1;33m,\u001b[0m \u001b[0mdtype\u001b[0m\u001b[1;33m=\u001b[0m\u001b[0mint\u001b[0m\u001b[1;33m)\u001b[0m\u001b[1;33m\u001b[0m\u001b[0m\n",
      "\u001b[0;31mTypeError\u001b[0m: 'module' object is not callable"
     ]
    }
   ],
   "source": [
    "dn=disturbing_neighbors()\n",
    "#dn=bagging()\n",
    "dn=BaggingClassifier()\n",
    "matrizFitX = np.matrix([X[i,:] for i in range(5)], dtype=int)\n",
    "matrizFitY = np.matrix([Y[i,:] for i in range(5)], dtype=int)\n",
    "#dn.fit(matrizFitX,matrizFitY)"
   ]
  },
  {
   "cell_type": "code",
   "execution_count": 51,
   "metadata": {
    "collapsed": false
   },
   "outputs": [
    {
     "data": {
      "text/plain": [
       "0.8763891522960383"
      ]
     },
     "execution_count": 51,
     "metadata": {},
     "output_type": "execute_result"
    }
   ],
   "source": [
    "MAX_INT = np.iinfo(np.int32).max\n",
    "np.random.rand()"
   ]
  },
  {
   "cell_type": "code",
   "execution_count": null,
   "metadata": {
    "collapsed": true
   },
   "outputs": [],
   "source": []
  }
 ],
 "metadata": {
  "kernelspec": {
   "display_name": "Python 3",
   "language": "python",
   "name": "python3"
  },
  "language_info": {
   "codemirror_mode": {
    "name": "ipython",
    "version": 3
   },
   "file_extension": ".py",
   "mimetype": "text/x-python",
   "name": "python",
   "nbconvert_exporter": "python",
   "pygments_lexer": "ipython3",
   "version": "3.6.0"
  }
 },
 "nbformat": 4,
 "nbformat_minor": 2
}
